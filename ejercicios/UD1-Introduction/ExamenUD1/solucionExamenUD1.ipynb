{
 "cells": [
  {
   "cell_type": "markdown",
   "metadata": {
    "collapsed": true
   },
   "source": [
    "# Solución Examen UD1 - Parte 2"
   ]
  },
  {
   "cell_type": "markdown",
   "source": [
    "Si tenemos un dataframe df con columnas age, salary, sex y queremos:\n",
    "\n",
    "1. Mostrar aquellos individuos menores de 30 años o con salario igual o superior a 25000 euros,\n",
    "\n",
    "2. Añadir una nueva columna numérica al dataframe llamada salary_irpf que se corresponda con el 20% de su sueldo, entonces escribiremos:\n",
    "\n",
    "\n",
    "3. Si tenemos un dataframe df con columnas age, salary, sex y queremos saber cuél es la media de edad de nuestros individuos, entonces escribiremos:\n",
    "\n",
    "\n",
    "4. Si tenemos un dataframe df con columnas age, salary, sex y queremos borrar del mismo la columna sex, entonces escribiremos:\n",
    "\n",
    "\n",
    "5. Si tenemos un dataframe df con columnas age, salary, sex y queremos conocer el salario máximo por sexo, entonces escribiremos:\n",
    "\n",
    "\n",
    "6. Si tenemos un dataframe df con columnas age, salary, sex y queremos recuperar las 3 primeras filas y las 3 últimas de la columna salary en una única instrucción, entonces escribiremos:\n",
    "\n",
    "7. Si tenemos un dataframe df con columnas age, salary, sex y queremos añadir borrar todas las filas que tengan valores nulos en la columna salary, entonces escribiremos:\n"
   ],
   "metadata": {
    "collapsed": false
   }
  }
 ],
 "metadata": {
  "kernelspec": {
   "display_name": "Python 3",
   "language": "python",
   "name": "python3"
  },
  "language_info": {
   "codemirror_mode": {
    "name": "ipython",
    "version": 2
   },
   "file_extension": ".py",
   "mimetype": "text/x-python",
   "name": "python",
   "nbconvert_exporter": "python",
   "pygments_lexer": "ipython2",
   "version": "2.7.6"
  }
 },
 "nbformat": 4,
 "nbformat_minor": 0
}
