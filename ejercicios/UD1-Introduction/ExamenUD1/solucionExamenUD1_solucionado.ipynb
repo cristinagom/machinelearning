{
 "cells": [
  {
   "cell_type": "markdown",
   "metadata": {
    "collapsed": true
   },
   "source": [
    "# Solución Examen UD1 - Parte 2"
   ]
  },
  {
   "cell_type": "markdown",
   "source": [
    "Si tenemos un dataframe df con columnas age, salary, sex y queremos:\n",
    "\n",
    "1. Mostrar aquellos individuos menores de 30 años o con salario igual o superior a 25000 euros,\n",
    "\n",
    "2. Añadir una nueva columna numérica al dataframe llamada salary_irpf que se corresponda con el 20% de su sueldo, entonces escribiremos:\n",
    "\n",
    "\n",
    "3. Si tenemos un dataframe df con columnas age, salary, sex y queremos saber cuél es la media de edad de nuestros individuos, entonces escribiremos:\n",
    "\n",
    "\n",
    "4. Si tenemos un dataframe df con columnas age, salary, sex y queremos borrar del mismo la columna sex, entonces escribiremos:\n",
    "\n",
    "\n",
    "5. Si tenemos un dataframe df con columnas age, salary, sex y queremos conocer el salario máximo por sexo, entonces escribiremos:\n",
    "\n",
    "\n",
    "6. Si tenemos un dataframe df con columnas age, salary, sex y queremos recuperar las 3 primeras filas y las 3 últimas de la columna salary en una única instrucción, entonces escribiremos:\n",
    "\n",
    "7. Si tenemos un dataframe df con columnas age, salary, sex y queremos añadir borrar todas las filas que tengan valores nulos en la columna salary, entonces escribiremos:\n",
    "\n"
   ],
   "metadata": {
    "collapsed": false
   }
  },
  {
   "cell_type": "code",
   "execution_count": 9,
   "outputs": [],
   "source": [
    "import pandas as pd\n",
    "df = pd.read_csv(\"data/demo-examen-parte2.csv\")"
   ],
   "metadata": {
    "collapsed": false
   }
  },
  {
   "cell_type": "code",
   "execution_count": 10,
   "outputs": [
    {
     "data": {
      "text/plain": "   age  salary     sex\n0   58   36000    male\n1   23   18000  female\n2   31   23000  female\n3   28   40000  female\n4   46   50000    male\n5   18   15000    male\n6   38   38000  female\n7   40   29000    male",
      "text/html": "<div>\n<style scoped>\n    .dataframe tbody tr th:only-of-type {\n        vertical-align: middle;\n    }\n\n    .dataframe tbody tr th {\n        vertical-align: top;\n    }\n\n    .dataframe thead th {\n        text-align: right;\n    }\n</style>\n<table border=\"1\" class=\"dataframe\">\n  <thead>\n    <tr style=\"text-align: right;\">\n      <th></th>\n      <th>age</th>\n      <th>salary</th>\n      <th>sex</th>\n    </tr>\n  </thead>\n  <tbody>\n    <tr>\n      <th>0</th>\n      <td>58</td>\n      <td>36000</td>\n      <td>male</td>\n    </tr>\n    <tr>\n      <th>1</th>\n      <td>23</td>\n      <td>18000</td>\n      <td>female</td>\n    </tr>\n    <tr>\n      <th>2</th>\n      <td>31</td>\n      <td>23000</td>\n      <td>female</td>\n    </tr>\n    <tr>\n      <th>3</th>\n      <td>28</td>\n      <td>40000</td>\n      <td>female</td>\n    </tr>\n    <tr>\n      <th>4</th>\n      <td>46</td>\n      <td>50000</td>\n      <td>male</td>\n    </tr>\n    <tr>\n      <th>5</th>\n      <td>18</td>\n      <td>15000</td>\n      <td>male</td>\n    </tr>\n    <tr>\n      <th>6</th>\n      <td>38</td>\n      <td>38000</td>\n      <td>female</td>\n    </tr>\n    <tr>\n      <th>7</th>\n      <td>40</td>\n      <td>29000</td>\n      <td>male</td>\n    </tr>\n  </tbody>\n</table>\n</div>"
     },
     "execution_count": 10,
     "metadata": {},
     "output_type": "execute_result"
    }
   ],
   "source": [
    "df"
   ],
   "metadata": {
    "collapsed": false
   }
  },
  {
   "cell_type": "code",
   "execution_count": 11,
   "outputs": [
    {
     "name": "stdout",
     "output_type": "stream",
     "text": [
      "   age  salary     sex\n",
      "0   58   36000    male\n",
      "1   23   18000  female\n",
      "3   28   40000  female\n",
      "4   46   50000    male\n",
      "5   18   15000    male\n",
      "6   38   38000  female\n",
      "7   40   29000    male\n"
     ]
    }
   ],
   "source": [
    "print(df[(df[\"age\"]<30) | (df[\"salary\"]>=25000)])"
   ],
   "metadata": {
    "collapsed": false
   }
  },
  {
   "cell_type": "code",
   "execution_count": 12,
   "outputs": [
    {
     "data": {
      "text/plain": "   age  salary     sex  salary_irpf\n0   58   36000    male       7200.0\n1   23   18000  female       3600.0\n2   31   23000  female       4600.0\n3   28   40000  female       8000.0\n4   46   50000    male      10000.0\n5   18   15000    male       3000.0\n6   38   38000  female       7600.0\n7   40   29000    male       5800.0",
      "text/html": "<div>\n<style scoped>\n    .dataframe tbody tr th:only-of-type {\n        vertical-align: middle;\n    }\n\n    .dataframe tbody tr th {\n        vertical-align: top;\n    }\n\n    .dataframe thead th {\n        text-align: right;\n    }\n</style>\n<table border=\"1\" class=\"dataframe\">\n  <thead>\n    <tr style=\"text-align: right;\">\n      <th></th>\n      <th>age</th>\n      <th>salary</th>\n      <th>sex</th>\n      <th>salary_irpf</th>\n    </tr>\n  </thead>\n  <tbody>\n    <tr>\n      <th>0</th>\n      <td>58</td>\n      <td>36000</td>\n      <td>male</td>\n      <td>7200.0</td>\n    </tr>\n    <tr>\n      <th>1</th>\n      <td>23</td>\n      <td>18000</td>\n      <td>female</td>\n      <td>3600.0</td>\n    </tr>\n    <tr>\n      <th>2</th>\n      <td>31</td>\n      <td>23000</td>\n      <td>female</td>\n      <td>4600.0</td>\n    </tr>\n    <tr>\n      <th>3</th>\n      <td>28</td>\n      <td>40000</td>\n      <td>female</td>\n      <td>8000.0</td>\n    </tr>\n    <tr>\n      <th>4</th>\n      <td>46</td>\n      <td>50000</td>\n      <td>male</td>\n      <td>10000.0</td>\n    </tr>\n    <tr>\n      <th>5</th>\n      <td>18</td>\n      <td>15000</td>\n      <td>male</td>\n      <td>3000.0</td>\n    </tr>\n    <tr>\n      <th>6</th>\n      <td>38</td>\n      <td>38000</td>\n      <td>female</td>\n      <td>7600.0</td>\n    </tr>\n    <tr>\n      <th>7</th>\n      <td>40</td>\n      <td>29000</td>\n      <td>male</td>\n      <td>5800.0</td>\n    </tr>\n  </tbody>\n</table>\n</div>"
     },
     "execution_count": 12,
     "metadata": {},
     "output_type": "execute_result"
    }
   ],
   "source": [
    "df[\"salary_irpf\"]=df[\"salary\"]*0.2\n",
    "df"
   ],
   "metadata": {
    "collapsed": false
   }
  },
  {
   "cell_type": "code",
   "execution_count": 13,
   "outputs": [
    {
     "data": {
      "text/plain": "35.25"
     },
     "execution_count": 13,
     "metadata": {},
     "output_type": "execute_result"
    }
   ],
   "source": [
    "df[\"age\"].mean()"
   ],
   "metadata": {
    "collapsed": false
   }
  },
  {
   "cell_type": "code",
   "execution_count": 14,
   "outputs": [
    {
     "data": {
      "text/plain": "   age  salary     sex  salary_irpf\n0   58   36000    male       7200.0\n1   23   18000  female       3600.0\n2   31   23000  female       4600.0\n3   28   40000  female       8000.0\n4   46   50000    male      10000.0\n5   18   15000    male       3000.0\n6   38   38000  female       7600.0\n7   40   29000    male       5800.0",
      "text/html": "<div>\n<style scoped>\n    .dataframe tbody tr th:only-of-type {\n        vertical-align: middle;\n    }\n\n    .dataframe tbody tr th {\n        vertical-align: top;\n    }\n\n    .dataframe thead th {\n        text-align: right;\n    }\n</style>\n<table border=\"1\" class=\"dataframe\">\n  <thead>\n    <tr style=\"text-align: right;\">\n      <th></th>\n      <th>age</th>\n      <th>salary</th>\n      <th>sex</th>\n      <th>salary_irpf</th>\n    </tr>\n  </thead>\n  <tbody>\n    <tr>\n      <th>0</th>\n      <td>58</td>\n      <td>36000</td>\n      <td>male</td>\n      <td>7200.0</td>\n    </tr>\n    <tr>\n      <th>1</th>\n      <td>23</td>\n      <td>18000</td>\n      <td>female</td>\n      <td>3600.0</td>\n    </tr>\n    <tr>\n      <th>2</th>\n      <td>31</td>\n      <td>23000</td>\n      <td>female</td>\n      <td>4600.0</td>\n    </tr>\n    <tr>\n      <th>3</th>\n      <td>28</td>\n      <td>40000</td>\n      <td>female</td>\n      <td>8000.0</td>\n    </tr>\n    <tr>\n      <th>4</th>\n      <td>46</td>\n      <td>50000</td>\n      <td>male</td>\n      <td>10000.0</td>\n    </tr>\n    <tr>\n      <th>5</th>\n      <td>18</td>\n      <td>15000</td>\n      <td>male</td>\n      <td>3000.0</td>\n    </tr>\n    <tr>\n      <th>6</th>\n      <td>38</td>\n      <td>38000</td>\n      <td>female</td>\n      <td>7600.0</td>\n    </tr>\n    <tr>\n      <th>7</th>\n      <td>40</td>\n      <td>29000</td>\n      <td>male</td>\n      <td>5800.0</td>\n    </tr>\n  </tbody>\n</table>\n</div>"
     },
     "execution_count": 14,
     "metadata": {},
     "output_type": "execute_result"
    }
   ],
   "source": [
    "#df = df.drop(columns=[\"sex\"])\n",
    "df"
   ],
   "metadata": {
    "collapsed": false
   }
  },
  {
   "cell_type": "code",
   "execution_count": 15,
   "outputs": [
    {
     "data": {
      "text/plain": "sex\nfemale    40000\nmale      50000\nName: salary, dtype: int64"
     },
     "execution_count": 15,
     "metadata": {},
     "output_type": "execute_result"
    }
   ],
   "source": [
    "df.groupby(\"sex\").salary.max()"
   ],
   "metadata": {
    "collapsed": false
   }
  },
  {
   "cell_type": "code",
   "execution_count": 18,
   "outputs": [
    {
     "data": {
      "text/plain": "0    36000\n1    18000\n2    23000\n5    15000\n6    38000\n7    29000\nName: salary, dtype: int64"
     },
     "execution_count": 18,
     "metadata": {},
     "output_type": "execute_result"
    }
   ],
   "source": [
    "df.iloc[[0,1,2,-3,-2,-1],1]"
   ],
   "metadata": {
    "collapsed": false
   }
  },
  {
   "cell_type": "code",
   "execution_count": 17,
   "outputs": [
    {
     "data": {
      "text/plain": "   age  salary     sex  salary_irpf\n0   58   36000    male       7200.0\n1   23   18000  female       3600.0\n2   31   23000  female       4600.0\n3   28   40000  female       8000.0\n4   46   50000    male      10000.0\n5   18   15000    male       3000.0\n6   38   38000  female       7600.0\n7   40   29000    male       5800.0",
      "text/html": "<div>\n<style scoped>\n    .dataframe tbody tr th:only-of-type {\n        vertical-align: middle;\n    }\n\n    .dataframe tbody tr th {\n        vertical-align: top;\n    }\n\n    .dataframe thead th {\n        text-align: right;\n    }\n</style>\n<table border=\"1\" class=\"dataframe\">\n  <thead>\n    <tr style=\"text-align: right;\">\n      <th></th>\n      <th>age</th>\n      <th>salary</th>\n      <th>sex</th>\n      <th>salary_irpf</th>\n    </tr>\n  </thead>\n  <tbody>\n    <tr>\n      <th>0</th>\n      <td>58</td>\n      <td>36000</td>\n      <td>male</td>\n      <td>7200.0</td>\n    </tr>\n    <tr>\n      <th>1</th>\n      <td>23</td>\n      <td>18000</td>\n      <td>female</td>\n      <td>3600.0</td>\n    </tr>\n    <tr>\n      <th>2</th>\n      <td>31</td>\n      <td>23000</td>\n      <td>female</td>\n      <td>4600.0</td>\n    </tr>\n    <tr>\n      <th>3</th>\n      <td>28</td>\n      <td>40000</td>\n      <td>female</td>\n      <td>8000.0</td>\n    </tr>\n    <tr>\n      <th>4</th>\n      <td>46</td>\n      <td>50000</td>\n      <td>male</td>\n      <td>10000.0</td>\n    </tr>\n    <tr>\n      <th>5</th>\n      <td>18</td>\n      <td>15000</td>\n      <td>male</td>\n      <td>3000.0</td>\n    </tr>\n    <tr>\n      <th>6</th>\n      <td>38</td>\n      <td>38000</td>\n      <td>female</td>\n      <td>7600.0</td>\n    </tr>\n    <tr>\n      <th>7</th>\n      <td>40</td>\n      <td>29000</td>\n      <td>male</td>\n      <td>5800.0</td>\n    </tr>\n  </tbody>\n</table>\n</div>"
     },
     "execution_count": 17,
     "metadata": {},
     "output_type": "execute_result"
    }
   ],
   "source": [
    "df.dropna(subset=['salary'])"
   ],
   "metadata": {
    "collapsed": false
   }
  }
 ],
 "metadata": {
  "kernelspec": {
   "display_name": "Python 3",
   "language": "python",
   "name": "python3"
  },
  "language_info": {
   "codemirror_mode": {
    "name": "ipython",
    "version": 2
   },
   "file_extension": ".py",
   "mimetype": "text/x-python",
   "name": "python",
   "nbconvert_exporter": "python",
   "pygments_lexer": "ipython2",
   "version": "2.7.6"
  }
 },
 "nbformat": 4,
 "nbformat_minor": 0
}
