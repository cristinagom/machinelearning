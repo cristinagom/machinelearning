{
 "cells": [
  {
   "cell_type": "markdown",
   "source": [
    "# Preprocessing\n",
    "#### UD1. Introducción al Machine Learning\n",
    "#### MP. Sistemas de Aprendizaxe Automáticos\n",
    "#### IES de Teis (Vigo), Cristina Gómez Alonso\n",
    "\n",
    "Para limpiar el conjunto de datos, es necesario manejar los valores que faltan y las features categóricas, porque la matemática subyacente en la mayoría de los modelos de Machine Learning asume que los datos son numéricos y no contienen valores desconocidos.\n",
    "Además, la librería Scikit Learn devuelve un error si se intenta entrenar un modelo como Regresión Lineal o Regresión Logística utilizando datos que contienen valores perdidos o no numéricos.\n",
    "Es por ello que en este notebook vamos a trabajar con:\n",
    "\n",
    "* Valores missing\n",
    "* Datos categóricos\n",
    "* Escalado y estandarizado"
   ],
   "metadata": {
    "collapsed": false,
    "id": "DuRMFaXp7xce"
   }
  },
  {
   "cell_type": "markdown",
   "source": [
    "## 1. Valores missing\n",
    "\n",
    "La falta de datos es quizás el rasgo más común de los datos impuros. Estos valores suelen tomar la forma de NaN o None.\n",
    "\n",
    "Hay varias maneras de rellenar los valores que faltan:\n",
    "\n",
    "* Puedes eliminar las líneas con los datos si el conjunto de datos es lo suficientemente grande y el porcentaje de valores perdidos no es alto, más del 50%, por ejemplo.\n",
    "* Puedes rellenar todas las variables nulas con 0, si se trata de valor numéricos.\n",
    "* Puedes rellenar los valores perdidos con la media, la mediana o la moda (que es el valor más frecuente de la columna).\n",
    "* También puedes decidir rellenar los valores que faltan con cualquier valor que venga directamente después en la misma columna.\n",
    "\n",
    "Estas decisiones dependen del tipo de datos, de lo que se quiera hacer con ellos y de la causa de la falta de valores. En realidad, el hecho de que algo sea popular no significa necesariamente que sea la elección correcta. La estrategia más común es utilizar el valor medio, pero dependiendo de los datos, se puede llegar a un enfoque totalmente diferente."
   ],
   "metadata": {
    "collapsed": false,
    "id": "xOsarHqc7xcj"
   }
  },
  {
   "cell_type": "code",
   "execution_count": 78,
   "outputs": [
    {
     "data": {
      "text/plain": "     age     sex steroid  antivirals fatigue malaise anorexia liver_big  \\\n0     30    male   False       False   False   False    False     False   \n1     50  female   False       False    True   False    False     False   \n2     78  female    True       False    True   False    False      True   \n3     31  female     NaN        True   False   False    False      True   \n4     34  female    True       False   False   False    False      True   \n..   ...     ...     ...         ...     ...     ...      ...       ...   \n150   46  female    True       False    True    True     True      True   \n151   44  female    True       False    True   False    False      True   \n152   61  female   False       False    True    True    False     False   \n153   53    male   False       False    True   False    False      True   \n154   43  female    True       False    True   False    False      True   \n\n    liver_firm spleen_palpable spiders ascites varices  bilirubin  \\\n0        False           False   False   False   False        1.0   \n1        False           False   False   False   False        0.9   \n2        False           False   False   False   False        0.7   \n3        False           False   False   False   False        0.7   \n4        False           False   False   False   False        1.0   \n..         ...             ...     ...     ...     ...        ...   \n150      False           False    True    True    True        7.6   \n151       True           False   False   False   False        0.9   \n152       True           False    True   False   False        0.8   \n153      False            True    True   False    True        1.5   \n154      False            True    True    True   False        1.2   \n\n     alk_phosphate   sgot  albumin  protime  histology class  \n0             85.0   18.0      4.0      NaN      False  live  \n1            135.0   42.0      3.5      NaN      False  live  \n2             96.0   32.0      4.0      NaN      False  live  \n3             46.0   52.0      4.0     80.0      False  live  \n4              NaN  200.0      4.0      NaN      False  live  \n..             ...    ...      ...      ...        ...   ...  \n150            NaN  242.0      3.3     50.0       True   die  \n151          126.0  142.0      4.3      NaN       True  live  \n152           75.0   20.0      4.1      NaN       True  live  \n153           81.0   19.0      4.1     48.0       True  live  \n154          100.0   19.0      3.1     42.0       True   die  \n\n[155 rows x 20 columns]",
      "text/html": "<div>\n<style scoped>\n    .dataframe tbody tr th:only-of-type {\n        vertical-align: middle;\n    }\n\n    .dataframe tbody tr th {\n        vertical-align: top;\n    }\n\n    .dataframe thead th {\n        text-align: right;\n    }\n</style>\n<table border=\"1\" class=\"dataframe\">\n  <thead>\n    <tr style=\"text-align: right;\">\n      <th></th>\n      <th>age</th>\n      <th>sex</th>\n      <th>steroid</th>\n      <th>antivirals</th>\n      <th>fatigue</th>\n      <th>malaise</th>\n      <th>anorexia</th>\n      <th>liver_big</th>\n      <th>liver_firm</th>\n      <th>spleen_palpable</th>\n      <th>spiders</th>\n      <th>ascites</th>\n      <th>varices</th>\n      <th>bilirubin</th>\n      <th>alk_phosphate</th>\n      <th>sgot</th>\n      <th>albumin</th>\n      <th>protime</th>\n      <th>histology</th>\n      <th>class</th>\n    </tr>\n  </thead>\n  <tbody>\n    <tr>\n      <th>0</th>\n      <td>30</td>\n      <td>male</td>\n      <td>False</td>\n      <td>False</td>\n      <td>False</td>\n      <td>False</td>\n      <td>False</td>\n      <td>False</td>\n      <td>False</td>\n      <td>False</td>\n      <td>False</td>\n      <td>False</td>\n      <td>False</td>\n      <td>1.0</td>\n      <td>85.0</td>\n      <td>18.0</td>\n      <td>4.0</td>\n      <td>NaN</td>\n      <td>False</td>\n      <td>live</td>\n    </tr>\n    <tr>\n      <th>1</th>\n      <td>50</td>\n      <td>female</td>\n      <td>False</td>\n      <td>False</td>\n      <td>True</td>\n      <td>False</td>\n      <td>False</td>\n      <td>False</td>\n      <td>False</td>\n      <td>False</td>\n      <td>False</td>\n      <td>False</td>\n      <td>False</td>\n      <td>0.9</td>\n      <td>135.0</td>\n      <td>42.0</td>\n      <td>3.5</td>\n      <td>NaN</td>\n      <td>False</td>\n      <td>live</td>\n    </tr>\n    <tr>\n      <th>2</th>\n      <td>78</td>\n      <td>female</td>\n      <td>True</td>\n      <td>False</td>\n      <td>True</td>\n      <td>False</td>\n      <td>False</td>\n      <td>True</td>\n      <td>False</td>\n      <td>False</td>\n      <td>False</td>\n      <td>False</td>\n      <td>False</td>\n      <td>0.7</td>\n      <td>96.0</td>\n      <td>32.0</td>\n      <td>4.0</td>\n      <td>NaN</td>\n      <td>False</td>\n      <td>live</td>\n    </tr>\n    <tr>\n      <th>3</th>\n      <td>31</td>\n      <td>female</td>\n      <td>NaN</td>\n      <td>True</td>\n      <td>False</td>\n      <td>False</td>\n      <td>False</td>\n      <td>True</td>\n      <td>False</td>\n      <td>False</td>\n      <td>False</td>\n      <td>False</td>\n      <td>False</td>\n      <td>0.7</td>\n      <td>46.0</td>\n      <td>52.0</td>\n      <td>4.0</td>\n      <td>80.0</td>\n      <td>False</td>\n      <td>live</td>\n    </tr>\n    <tr>\n      <th>4</th>\n      <td>34</td>\n      <td>female</td>\n      <td>True</td>\n      <td>False</td>\n      <td>False</td>\n      <td>False</td>\n      <td>False</td>\n      <td>True</td>\n      <td>False</td>\n      <td>False</td>\n      <td>False</td>\n      <td>False</td>\n      <td>False</td>\n      <td>1.0</td>\n      <td>NaN</td>\n      <td>200.0</td>\n      <td>4.0</td>\n      <td>NaN</td>\n      <td>False</td>\n      <td>live</td>\n    </tr>\n    <tr>\n      <th>...</th>\n      <td>...</td>\n      <td>...</td>\n      <td>...</td>\n      <td>...</td>\n      <td>...</td>\n      <td>...</td>\n      <td>...</td>\n      <td>...</td>\n      <td>...</td>\n      <td>...</td>\n      <td>...</td>\n      <td>...</td>\n      <td>...</td>\n      <td>...</td>\n      <td>...</td>\n      <td>...</td>\n      <td>...</td>\n      <td>...</td>\n      <td>...</td>\n      <td>...</td>\n    </tr>\n    <tr>\n      <th>150</th>\n      <td>46</td>\n      <td>female</td>\n      <td>True</td>\n      <td>False</td>\n      <td>True</td>\n      <td>True</td>\n      <td>True</td>\n      <td>True</td>\n      <td>False</td>\n      <td>False</td>\n      <td>True</td>\n      <td>True</td>\n      <td>True</td>\n      <td>7.6</td>\n      <td>NaN</td>\n      <td>242.0</td>\n      <td>3.3</td>\n      <td>50.0</td>\n      <td>True</td>\n      <td>die</td>\n    </tr>\n    <tr>\n      <th>151</th>\n      <td>44</td>\n      <td>female</td>\n      <td>True</td>\n      <td>False</td>\n      <td>True</td>\n      <td>False</td>\n      <td>False</td>\n      <td>True</td>\n      <td>True</td>\n      <td>False</td>\n      <td>False</td>\n      <td>False</td>\n      <td>False</td>\n      <td>0.9</td>\n      <td>126.0</td>\n      <td>142.0</td>\n      <td>4.3</td>\n      <td>NaN</td>\n      <td>True</td>\n      <td>live</td>\n    </tr>\n    <tr>\n      <th>152</th>\n      <td>61</td>\n      <td>female</td>\n      <td>False</td>\n      <td>False</td>\n      <td>True</td>\n      <td>True</td>\n      <td>False</td>\n      <td>False</td>\n      <td>True</td>\n      <td>False</td>\n      <td>True</td>\n      <td>False</td>\n      <td>False</td>\n      <td>0.8</td>\n      <td>75.0</td>\n      <td>20.0</td>\n      <td>4.1</td>\n      <td>NaN</td>\n      <td>True</td>\n      <td>live</td>\n    </tr>\n    <tr>\n      <th>153</th>\n      <td>53</td>\n      <td>male</td>\n      <td>False</td>\n      <td>False</td>\n      <td>True</td>\n      <td>False</td>\n      <td>False</td>\n      <td>True</td>\n      <td>False</td>\n      <td>True</td>\n      <td>True</td>\n      <td>False</td>\n      <td>True</td>\n      <td>1.5</td>\n      <td>81.0</td>\n      <td>19.0</td>\n      <td>4.1</td>\n      <td>48.0</td>\n      <td>True</td>\n      <td>live</td>\n    </tr>\n    <tr>\n      <th>154</th>\n      <td>43</td>\n      <td>female</td>\n      <td>True</td>\n      <td>False</td>\n      <td>True</td>\n      <td>False</td>\n      <td>False</td>\n      <td>True</td>\n      <td>False</td>\n      <td>True</td>\n      <td>True</td>\n      <td>True</td>\n      <td>False</td>\n      <td>1.2</td>\n      <td>100.0</td>\n      <td>19.0</td>\n      <td>3.1</td>\n      <td>42.0</td>\n      <td>True</td>\n      <td>die</td>\n    </tr>\n  </tbody>\n</table>\n<p>155 rows × 20 columns</p>\n</div>"
     },
     "execution_count": 78,
     "metadata": {},
     "output_type": "execute_result"
    }
   ],
   "source": [
    "import pandas as pd\n",
    "import numpy as np\n",
    "\n",
    "%matplotlib inline\n",
    "\n",
    "df_missing=pd.read_csv(\"data/hepatitis.csv\")\n",
    "df_missing"
   ],
   "metadata": {
    "id": "5C4ZEzZv7xck",
    "outputId": "df37f6ea-b0d3-4679-ee36-5285c88189dd"
   }
  },
  {
   "cell_type": "code",
   "execution_count": 79,
   "outputs": [
    {
     "data": {
      "text/plain": "False    122\nTrue      32\nName: anorexia, dtype: int64"
     },
     "execution_count": 79,
     "metadata": {},
     "output_type": "execute_result"
    }
   ],
   "source": [
    "df_missing['anorexia'].value_counts()"
   ],
   "metadata": {
    "id": "LhPCTcaI7xcm",
    "outputId": "2a7fb396-000d-479a-c75c-6104b259b173"
   }
  },
  {
   "cell_type": "code",
   "execution_count": 80,
   "outputs": [
    {
     "data": {
      "text/plain": "age                 0\nsex                 0\nsteroid             1\nantivirals          0\nfatigue             1\nmalaise             1\nanorexia            1\nliver_big          10\nliver_firm         11\nspleen_palpable     5\nspiders             5\nascites             5\nvarices             5\nbilirubin           6\nalk_phosphate      29\nsgot                4\nalbumin            16\nprotime            67\nhistology           0\nclass               0\ndtype: int64"
     },
     "execution_count": 80,
     "metadata": {},
     "output_type": "execute_result"
    }
   ],
   "source": [
    "df_missing.isnull().sum()"
   ],
   "metadata": {
    "id": "ztkYWIEJ7xcn",
    "outputId": "81f92b43-c0d9-47e9-a9e0-99bb3f2b0596"
   }
  },
  {
   "cell_type": "code",
   "execution_count": 81,
   "outputs": [
    {
     "data": {
      "text/plain": "age                 0\nsex                 0\nsteroid             1\nantivirals          0\nfatigue             1\nmalaise             1\nanorexia            1\nliver_big          10\nliver_firm         11\nspleen_palpable     5\nspiders             5\nascites             5\nvarices             5\nbilirubin           6\nalk_phosphate      29\nsgot                4\nalbumin            16\nprotime            67\nhistology           0\nclass               0\ndtype: int64"
     },
     "execution_count": 81,
     "metadata": {},
     "output_type": "execute_result"
    }
   ],
   "source": [
    "df_missing.isnull().sum()"
   ],
   "metadata": {
    "id": "V6Vn2zhQ7xco",
    "outputId": "86bc6393-9969-4e5f-8940-7ce145a09a17"
   }
  },
  {
   "cell_type": "code",
   "execution_count": 82,
   "outputs": [
    {
     "name": "stdout",
     "output_type": "stream",
     "text": [
      "age has NO missing value!\n",
      "sex has NO missing value!\n",
      "steroid has 1 missing value(s)\n",
      "antivirals has NO missing value!\n",
      "fatigue has 1 missing value(s)\n",
      "malaise has 1 missing value(s)\n",
      "anorexia has 1 missing value(s)\n",
      "liver_big has 10 missing value(s)\n",
      "liver_firm has 11 missing value(s)\n",
      "spleen_palpable has 5 missing value(s)\n",
      "spiders has 5 missing value(s)\n",
      "ascites has 5 missing value(s)\n",
      "varices has 5 missing value(s)\n",
      "bilirubin has 6 missing value(s)\n",
      "alk_phosphate has 29 missing value(s)\n",
      "sgot has 4 missing value(s)\n",
      "albumin has 16 missing value(s)\n",
      "protime has 67 missing value(s)\n",
      "histology has NO missing value!\n",
      "class has NO missing value!\n"
     ]
    }
   ],
   "source": [
    "for c in df_missing.columns:\n",
    "    miss = df_missing[c].isnull().sum()\n",
    "    if miss>0:\n",
    "        print(\"{} has {} missing value(s)\".format(c,miss))\n",
    "    else:\n",
    "        print(\"{} has NO missing value!\".format(c))"
   ],
   "metadata": {
    "id": "DMmWAsNx7xco",
    "outputId": "bf101c49-20a6-4a05-c121-6e7ea6d6a295"
   }
  },
  {
   "cell_type": "markdown",
   "source": [
    "### Rellenado de valores nulos"
   ],
   "metadata": {
    "collapsed": false,
    "id": "JB27MZ007xcp"
   }
  },
  {
   "cell_type": "code",
   "execution_count": 83,
   "outputs": [
    {
     "data": {
      "text/plain": "     age     sex steroid  antivirals fatigue malaise anorexia liver_big  \\\n0     30    male   False       False   False   False    False     False   \n1     50  female   False       False    True   False    False     False   \n2     78  female    True       False    True   False    False      True   \n3     31  female    FILL        True   False   False    False      True   \n4     34  female    True       False   False   False    False      True   \n..   ...     ...     ...         ...     ...     ...      ...       ...   \n150   46  female    True       False    True    True     True      True   \n151   44  female    True       False    True   False    False      True   \n152   61  female   False       False    True    True    False     False   \n153   53    male   False       False    True   False    False      True   \n154   43  female    True       False    True   False    False      True   \n\n    liver_firm spleen_palpable spiders ascites varices bilirubin  \\\n0        False           False   False   False   False       1.0   \n1        False           False   False   False   False       0.9   \n2        False           False   False   False   False       0.7   \n3        False           False   False   False   False       0.7   \n4        False           False   False   False   False       1.0   \n..         ...             ...     ...     ...     ...       ...   \n150      False           False    True    True    True       7.6   \n151       True           False   False   False   False       0.9   \n152       True           False    True   False   False       0.8   \n153      False            True    True   False    True       1.5   \n154      False            True    True    True   False       1.2   \n\n    alk_phosphate   sgot albumin protime  histology class  \n0            85.0   18.0     4.0    FILL      False  live  \n1           135.0   42.0     3.5    FILL      False  live  \n2            96.0   32.0     4.0    FILL      False  live  \n3            46.0   52.0     4.0    80.0      False  live  \n4            FILL  200.0     4.0    FILL      False  live  \n..            ...    ...     ...     ...        ...   ...  \n150          FILL  242.0     3.3    50.0       True   die  \n151         126.0  142.0     4.3    FILL       True  live  \n152          75.0   20.0     4.1    FILL       True  live  \n153          81.0   19.0     4.1    48.0       True  live  \n154         100.0   19.0     3.1    42.0       True   die  \n\n[155 rows x 20 columns]",
      "text/html": "<div>\n<style scoped>\n    .dataframe tbody tr th:only-of-type {\n        vertical-align: middle;\n    }\n\n    .dataframe tbody tr th {\n        vertical-align: top;\n    }\n\n    .dataframe thead th {\n        text-align: right;\n    }\n</style>\n<table border=\"1\" class=\"dataframe\">\n  <thead>\n    <tr style=\"text-align: right;\">\n      <th></th>\n      <th>age</th>\n      <th>sex</th>\n      <th>steroid</th>\n      <th>antivirals</th>\n      <th>fatigue</th>\n      <th>malaise</th>\n      <th>anorexia</th>\n      <th>liver_big</th>\n      <th>liver_firm</th>\n      <th>spleen_palpable</th>\n      <th>spiders</th>\n      <th>ascites</th>\n      <th>varices</th>\n      <th>bilirubin</th>\n      <th>alk_phosphate</th>\n      <th>sgot</th>\n      <th>albumin</th>\n      <th>protime</th>\n      <th>histology</th>\n      <th>class</th>\n    </tr>\n  </thead>\n  <tbody>\n    <tr>\n      <th>0</th>\n      <td>30</td>\n      <td>male</td>\n      <td>False</td>\n      <td>False</td>\n      <td>False</td>\n      <td>False</td>\n      <td>False</td>\n      <td>False</td>\n      <td>False</td>\n      <td>False</td>\n      <td>False</td>\n      <td>False</td>\n      <td>False</td>\n      <td>1.0</td>\n      <td>85.0</td>\n      <td>18.0</td>\n      <td>4.0</td>\n      <td>FILL</td>\n      <td>False</td>\n      <td>live</td>\n    </tr>\n    <tr>\n      <th>1</th>\n      <td>50</td>\n      <td>female</td>\n      <td>False</td>\n      <td>False</td>\n      <td>True</td>\n      <td>False</td>\n      <td>False</td>\n      <td>False</td>\n      <td>False</td>\n      <td>False</td>\n      <td>False</td>\n      <td>False</td>\n      <td>False</td>\n      <td>0.9</td>\n      <td>135.0</td>\n      <td>42.0</td>\n      <td>3.5</td>\n      <td>FILL</td>\n      <td>False</td>\n      <td>live</td>\n    </tr>\n    <tr>\n      <th>2</th>\n      <td>78</td>\n      <td>female</td>\n      <td>True</td>\n      <td>False</td>\n      <td>True</td>\n      <td>False</td>\n      <td>False</td>\n      <td>True</td>\n      <td>False</td>\n      <td>False</td>\n      <td>False</td>\n      <td>False</td>\n      <td>False</td>\n      <td>0.7</td>\n      <td>96.0</td>\n      <td>32.0</td>\n      <td>4.0</td>\n      <td>FILL</td>\n      <td>False</td>\n      <td>live</td>\n    </tr>\n    <tr>\n      <th>3</th>\n      <td>31</td>\n      <td>female</td>\n      <td>FILL</td>\n      <td>True</td>\n      <td>False</td>\n      <td>False</td>\n      <td>False</td>\n      <td>True</td>\n      <td>False</td>\n      <td>False</td>\n      <td>False</td>\n      <td>False</td>\n      <td>False</td>\n      <td>0.7</td>\n      <td>46.0</td>\n      <td>52.0</td>\n      <td>4.0</td>\n      <td>80.0</td>\n      <td>False</td>\n      <td>live</td>\n    </tr>\n    <tr>\n      <th>4</th>\n      <td>34</td>\n      <td>female</td>\n      <td>True</td>\n      <td>False</td>\n      <td>False</td>\n      <td>False</td>\n      <td>False</td>\n      <td>True</td>\n      <td>False</td>\n      <td>False</td>\n      <td>False</td>\n      <td>False</td>\n      <td>False</td>\n      <td>1.0</td>\n      <td>FILL</td>\n      <td>200.0</td>\n      <td>4.0</td>\n      <td>FILL</td>\n      <td>False</td>\n      <td>live</td>\n    </tr>\n    <tr>\n      <th>...</th>\n      <td>...</td>\n      <td>...</td>\n      <td>...</td>\n      <td>...</td>\n      <td>...</td>\n      <td>...</td>\n      <td>...</td>\n      <td>...</td>\n      <td>...</td>\n      <td>...</td>\n      <td>...</td>\n      <td>...</td>\n      <td>...</td>\n      <td>...</td>\n      <td>...</td>\n      <td>...</td>\n      <td>...</td>\n      <td>...</td>\n      <td>...</td>\n      <td>...</td>\n    </tr>\n    <tr>\n      <th>150</th>\n      <td>46</td>\n      <td>female</td>\n      <td>True</td>\n      <td>False</td>\n      <td>True</td>\n      <td>True</td>\n      <td>True</td>\n      <td>True</td>\n      <td>False</td>\n      <td>False</td>\n      <td>True</td>\n      <td>True</td>\n      <td>True</td>\n      <td>7.6</td>\n      <td>FILL</td>\n      <td>242.0</td>\n      <td>3.3</td>\n      <td>50.0</td>\n      <td>True</td>\n      <td>die</td>\n    </tr>\n    <tr>\n      <th>151</th>\n      <td>44</td>\n      <td>female</td>\n      <td>True</td>\n      <td>False</td>\n      <td>True</td>\n      <td>False</td>\n      <td>False</td>\n      <td>True</td>\n      <td>True</td>\n      <td>False</td>\n      <td>False</td>\n      <td>False</td>\n      <td>False</td>\n      <td>0.9</td>\n      <td>126.0</td>\n      <td>142.0</td>\n      <td>4.3</td>\n      <td>FILL</td>\n      <td>True</td>\n      <td>live</td>\n    </tr>\n    <tr>\n      <th>152</th>\n      <td>61</td>\n      <td>female</td>\n      <td>False</td>\n      <td>False</td>\n      <td>True</td>\n      <td>True</td>\n      <td>False</td>\n      <td>False</td>\n      <td>True</td>\n      <td>False</td>\n      <td>True</td>\n      <td>False</td>\n      <td>False</td>\n      <td>0.8</td>\n      <td>75.0</td>\n      <td>20.0</td>\n      <td>4.1</td>\n      <td>FILL</td>\n      <td>True</td>\n      <td>live</td>\n    </tr>\n    <tr>\n      <th>153</th>\n      <td>53</td>\n      <td>male</td>\n      <td>False</td>\n      <td>False</td>\n      <td>True</td>\n      <td>False</td>\n      <td>False</td>\n      <td>True</td>\n      <td>False</td>\n      <td>True</td>\n      <td>True</td>\n      <td>False</td>\n      <td>True</td>\n      <td>1.5</td>\n      <td>81.0</td>\n      <td>19.0</td>\n      <td>4.1</td>\n      <td>48.0</td>\n      <td>True</td>\n      <td>live</td>\n    </tr>\n    <tr>\n      <th>154</th>\n      <td>43</td>\n      <td>female</td>\n      <td>True</td>\n      <td>False</td>\n      <td>True</td>\n      <td>False</td>\n      <td>False</td>\n      <td>True</td>\n      <td>False</td>\n      <td>True</td>\n      <td>True</td>\n      <td>True</td>\n      <td>False</td>\n      <td>1.2</td>\n      <td>100.0</td>\n      <td>19.0</td>\n      <td>3.1</td>\n      <td>42.0</td>\n      <td>True</td>\n      <td>die</td>\n    </tr>\n  </tbody>\n</table>\n<p>155 rows × 20 columns</p>\n</div>"
     },
     "execution_count": 83,
     "metadata": {},
     "output_type": "execute_result"
    }
   ],
   "source": [
    "df_missing.fillna('FILL')"
   ],
   "metadata": {
    "id": "L40wC_W77xcq",
    "outputId": "1356b8be-841c-42a8-faa1-6a169d0d0185"
   }
  },
  {
   "cell_type": "code",
   "execution_count": 84,
   "outputs": [
    {
     "data": {
      "text/plain": "    bilirubin alk_phosphate\n0         1.0          85.0\n1         0.9         135.0\n2         0.7          96.0\n3         0.7          46.0\n4         1.0          FILL\n..        ...           ...\n150       7.6          FILL\n151       0.9         126.0\n152       0.8          75.0\n153       1.5          81.0\n154       1.2         100.0\n\n[155 rows x 2 columns]",
      "text/html": "<div>\n<style scoped>\n    .dataframe tbody tr th:only-of-type {\n        vertical-align: middle;\n    }\n\n    .dataframe tbody tr th {\n        vertical-align: top;\n    }\n\n    .dataframe thead th {\n        text-align: right;\n    }\n</style>\n<table border=\"1\" class=\"dataframe\">\n  <thead>\n    <tr style=\"text-align: right;\">\n      <th></th>\n      <th>bilirubin</th>\n      <th>alk_phosphate</th>\n    </tr>\n  </thead>\n  <tbody>\n    <tr>\n      <th>0</th>\n      <td>1.0</td>\n      <td>85.0</td>\n    </tr>\n    <tr>\n      <th>1</th>\n      <td>0.9</td>\n      <td>135.0</td>\n    </tr>\n    <tr>\n      <th>2</th>\n      <td>0.7</td>\n      <td>96.0</td>\n    </tr>\n    <tr>\n      <th>3</th>\n      <td>0.7</td>\n      <td>46.0</td>\n    </tr>\n    <tr>\n      <th>4</th>\n      <td>1.0</td>\n      <td>FILL</td>\n    </tr>\n    <tr>\n      <th>...</th>\n      <td>...</td>\n      <td>...</td>\n    </tr>\n    <tr>\n      <th>150</th>\n      <td>7.6</td>\n      <td>FILL</td>\n    </tr>\n    <tr>\n      <th>151</th>\n      <td>0.9</td>\n      <td>126.0</td>\n    </tr>\n    <tr>\n      <th>152</th>\n      <td>0.8</td>\n      <td>75.0</td>\n    </tr>\n    <tr>\n      <th>153</th>\n      <td>1.5</td>\n      <td>81.0</td>\n    </tr>\n    <tr>\n      <th>154</th>\n      <td>1.2</td>\n      <td>100.0</td>\n    </tr>\n  </tbody>\n</table>\n<p>155 rows × 2 columns</p>\n</div>"
     },
     "execution_count": 84,
     "metadata": {},
     "output_type": "execute_result"
    }
   ],
   "source": [
    "df_missing[['bilirubin','alk_phosphate']].fillna('FILL')"
   ],
   "metadata": {
    "id": "WuZ-uiFM7xcr",
    "outputId": "eea4d687-7119-4f5a-95b9-d0792071f22e"
   }
  },
  {
   "cell_type": "code",
   "execution_count": 85,
   "outputs": [
    {
     "data": {
      "text/plain": "0      4.0\n1      3.5\n2      4.0\n3      4.0\n4      4.0\n      ... \n150    3.3\n151    4.3\n152    4.1\n153    4.1\n154    3.1\nName: albumin, Length: 155, dtype: float64"
     },
     "execution_count": 85,
     "metadata": {},
     "output_type": "execute_result"
    }
   ],
   "source": [
    "df_missing['albumin'].fillna(method='ffill')"
   ],
   "metadata": {
    "id": "jqXg-UqW7xcr",
    "outputId": "bb6801cb-198d-4f83-e6d2-afc235e049ad"
   }
  },
  {
   "cell_type": "code",
   "execution_count": 86,
   "outputs": [
    {
     "data": {
      "text/plain": "0      4.0\n1      3.5\n2      4.0\n3      4.0\n4      4.0\n      ... \n150    3.3\n151    4.3\n152    4.1\n153    4.1\n154    3.1\nName: albumin, Length: 155, dtype: float64"
     },
     "execution_count": 86,
     "metadata": {},
     "output_type": "execute_result"
    }
   ],
   "source": [
    "df_missing['albumin']\n",
    "df_missing['albumin'].fillna(method='bfill')"
   ],
   "metadata": {
    "id": "MyVZZbko7xcs",
    "outputId": "2e1a49e3-5c0f-4d66-d684-dee1df46e46a"
   }
  },
  {
   "cell_type": "code",
   "execution_count": 87,
   "outputs": [],
   "source": [
    "df_missing['albumin'].fillna(df_missing['albumin'].mean(), inplace=True)"
   ],
   "metadata": {
    "id": "S4DyaA4w7xct",
    "outputId": "73e16a47-4905-4a70-ccde-de1ac38c133c"
   }
  },
  {
   "cell_type": "markdown",
   "source": [
    "Busca información sobre el calculador SimpleImputer. ¿Para qué sirve?"
   ],
   "metadata": {
    "collapsed": false,
    "id": "grGeR0Fd7xct"
   }
  },
  {
   "cell_type": "code",
   "execution_count": 88,
   "outputs": [
    {
     "data": {
      "text/plain": "     age     sex steroid  antivirals fatigue malaise anorexia liver_big  \\\n0     30    male   False       False   False   False    False     False   \n1     50  female   False       False    True   False    False     False   \n2     78  female    True       False    True   False    False      True   \n3     31  female     NaN        True   False   False    False      True   \n4     34  female    True       False   False   False    False      True   \n..   ...     ...     ...         ...     ...     ...      ...       ...   \n150   46  female    True       False    True    True     True      True   \n151   44  female    True       False    True   False    False      True   \n152   61  female   False       False    True    True    False     False   \n153   53    male   False       False    True   False    False      True   \n154   43  female    True       False    True   False    False      True   \n\n    liver_firm spleen_palpable spiders ascites varices  bilirubin  \\\n0        False           False   False   False   False        1.0   \n1        False           False   False   False   False        0.9   \n2        False           False   False   False   False        0.7   \n3        False           False   False   False   False        0.7   \n4        False           False   False   False   False        1.0   \n..         ...             ...     ...     ...     ...        ...   \n150      False           False    True    True    True        7.6   \n151       True           False   False   False   False        0.9   \n152       True           False    True   False   False        0.8   \n153      False            True    True   False    True        1.5   \n154      False            True    True    True   False        1.2   \n\n     alk_phosphate   sgot  albumin    protime  histology class  \n0             85.0   18.0      4.0  61.852273      False  live  \n1            135.0   42.0      3.5  61.852273      False  live  \n2             96.0   32.0      4.0  61.852273      False  live  \n3             46.0   52.0      4.0  80.000000      False  live  \n4              NaN  200.0      4.0  61.852273      False  live  \n..             ...    ...      ...        ...        ...   ...  \n150            NaN  242.0      3.3  50.000000       True   die  \n151          126.0  142.0      4.3  61.852273       True  live  \n152           75.0   20.0      4.1  61.852273       True  live  \n153           81.0   19.0      4.1  48.000000       True  live  \n154          100.0   19.0      3.1  42.000000       True   die  \n\n[155 rows x 20 columns]",
      "text/html": "<div>\n<style scoped>\n    .dataframe tbody tr th:only-of-type {\n        vertical-align: middle;\n    }\n\n    .dataframe tbody tr th {\n        vertical-align: top;\n    }\n\n    .dataframe thead th {\n        text-align: right;\n    }\n</style>\n<table border=\"1\" class=\"dataframe\">\n  <thead>\n    <tr style=\"text-align: right;\">\n      <th></th>\n      <th>age</th>\n      <th>sex</th>\n      <th>steroid</th>\n      <th>antivirals</th>\n      <th>fatigue</th>\n      <th>malaise</th>\n      <th>anorexia</th>\n      <th>liver_big</th>\n      <th>liver_firm</th>\n      <th>spleen_palpable</th>\n      <th>spiders</th>\n      <th>ascites</th>\n      <th>varices</th>\n      <th>bilirubin</th>\n      <th>alk_phosphate</th>\n      <th>sgot</th>\n      <th>albumin</th>\n      <th>protime</th>\n      <th>histology</th>\n      <th>class</th>\n    </tr>\n  </thead>\n  <tbody>\n    <tr>\n      <th>0</th>\n      <td>30</td>\n      <td>male</td>\n      <td>False</td>\n      <td>False</td>\n      <td>False</td>\n      <td>False</td>\n      <td>False</td>\n      <td>False</td>\n      <td>False</td>\n      <td>False</td>\n      <td>False</td>\n      <td>False</td>\n      <td>False</td>\n      <td>1.0</td>\n      <td>85.0</td>\n      <td>18.0</td>\n      <td>4.0</td>\n      <td>61.852273</td>\n      <td>False</td>\n      <td>live</td>\n    </tr>\n    <tr>\n      <th>1</th>\n      <td>50</td>\n      <td>female</td>\n      <td>False</td>\n      <td>False</td>\n      <td>True</td>\n      <td>False</td>\n      <td>False</td>\n      <td>False</td>\n      <td>False</td>\n      <td>False</td>\n      <td>False</td>\n      <td>False</td>\n      <td>False</td>\n      <td>0.9</td>\n      <td>135.0</td>\n      <td>42.0</td>\n      <td>3.5</td>\n      <td>61.852273</td>\n      <td>False</td>\n      <td>live</td>\n    </tr>\n    <tr>\n      <th>2</th>\n      <td>78</td>\n      <td>female</td>\n      <td>True</td>\n      <td>False</td>\n      <td>True</td>\n      <td>False</td>\n      <td>False</td>\n      <td>True</td>\n      <td>False</td>\n      <td>False</td>\n      <td>False</td>\n      <td>False</td>\n      <td>False</td>\n      <td>0.7</td>\n      <td>96.0</td>\n      <td>32.0</td>\n      <td>4.0</td>\n      <td>61.852273</td>\n      <td>False</td>\n      <td>live</td>\n    </tr>\n    <tr>\n      <th>3</th>\n      <td>31</td>\n      <td>female</td>\n      <td>NaN</td>\n      <td>True</td>\n      <td>False</td>\n      <td>False</td>\n      <td>False</td>\n      <td>True</td>\n      <td>False</td>\n      <td>False</td>\n      <td>False</td>\n      <td>False</td>\n      <td>False</td>\n      <td>0.7</td>\n      <td>46.0</td>\n      <td>52.0</td>\n      <td>4.0</td>\n      <td>80.000000</td>\n      <td>False</td>\n      <td>live</td>\n    </tr>\n    <tr>\n      <th>4</th>\n      <td>34</td>\n      <td>female</td>\n      <td>True</td>\n      <td>False</td>\n      <td>False</td>\n      <td>False</td>\n      <td>False</td>\n      <td>True</td>\n      <td>False</td>\n      <td>False</td>\n      <td>False</td>\n      <td>False</td>\n      <td>False</td>\n      <td>1.0</td>\n      <td>NaN</td>\n      <td>200.0</td>\n      <td>4.0</td>\n      <td>61.852273</td>\n      <td>False</td>\n      <td>live</td>\n    </tr>\n    <tr>\n      <th>...</th>\n      <td>...</td>\n      <td>...</td>\n      <td>...</td>\n      <td>...</td>\n      <td>...</td>\n      <td>...</td>\n      <td>...</td>\n      <td>...</td>\n      <td>...</td>\n      <td>...</td>\n      <td>...</td>\n      <td>...</td>\n      <td>...</td>\n      <td>...</td>\n      <td>...</td>\n      <td>...</td>\n      <td>...</td>\n      <td>...</td>\n      <td>...</td>\n      <td>...</td>\n    </tr>\n    <tr>\n      <th>150</th>\n      <td>46</td>\n      <td>female</td>\n      <td>True</td>\n      <td>False</td>\n      <td>True</td>\n      <td>True</td>\n      <td>True</td>\n      <td>True</td>\n      <td>False</td>\n      <td>False</td>\n      <td>True</td>\n      <td>True</td>\n      <td>True</td>\n      <td>7.6</td>\n      <td>NaN</td>\n      <td>242.0</td>\n      <td>3.3</td>\n      <td>50.000000</td>\n      <td>True</td>\n      <td>die</td>\n    </tr>\n    <tr>\n      <th>151</th>\n      <td>44</td>\n      <td>female</td>\n      <td>True</td>\n      <td>False</td>\n      <td>True</td>\n      <td>False</td>\n      <td>False</td>\n      <td>True</td>\n      <td>True</td>\n      <td>False</td>\n      <td>False</td>\n      <td>False</td>\n      <td>False</td>\n      <td>0.9</td>\n      <td>126.0</td>\n      <td>142.0</td>\n      <td>4.3</td>\n      <td>61.852273</td>\n      <td>True</td>\n      <td>live</td>\n    </tr>\n    <tr>\n      <th>152</th>\n      <td>61</td>\n      <td>female</td>\n      <td>False</td>\n      <td>False</td>\n      <td>True</td>\n      <td>True</td>\n      <td>False</td>\n      <td>False</td>\n      <td>True</td>\n      <td>False</td>\n      <td>True</td>\n      <td>False</td>\n      <td>False</td>\n      <td>0.8</td>\n      <td>75.0</td>\n      <td>20.0</td>\n      <td>4.1</td>\n      <td>61.852273</td>\n      <td>True</td>\n      <td>live</td>\n    </tr>\n    <tr>\n      <th>153</th>\n      <td>53</td>\n      <td>male</td>\n      <td>False</td>\n      <td>False</td>\n      <td>True</td>\n      <td>False</td>\n      <td>False</td>\n      <td>True</td>\n      <td>False</td>\n      <td>True</td>\n      <td>True</td>\n      <td>False</td>\n      <td>True</td>\n      <td>1.5</td>\n      <td>81.0</td>\n      <td>19.0</td>\n      <td>4.1</td>\n      <td>48.000000</td>\n      <td>True</td>\n      <td>live</td>\n    </tr>\n    <tr>\n      <th>154</th>\n      <td>43</td>\n      <td>female</td>\n      <td>True</td>\n      <td>False</td>\n      <td>True</td>\n      <td>False</td>\n      <td>False</td>\n      <td>True</td>\n      <td>False</td>\n      <td>True</td>\n      <td>True</td>\n      <td>True</td>\n      <td>False</td>\n      <td>1.2</td>\n      <td>100.0</td>\n      <td>19.0</td>\n      <td>3.1</td>\n      <td>42.000000</td>\n      <td>True</td>\n      <td>die</td>\n    </tr>\n  </tbody>\n</table>\n<p>155 rows × 20 columns</p>\n</div>"
     },
     "execution_count": 88,
     "metadata": {},
     "output_type": "execute_result"
    }
   ],
   "source": [
    "import numpy as np\n",
    "from sklearn.impute import SimpleImputer\n",
    "imp_mean = SimpleImputer(missing_values=np.nan, strategy='mean')\n",
    "df_missing[['protime','sgot']] = imp_mean.fit_transform(df_missing[['protime','sgot']])\n",
    "df_missing\n"
   ],
   "metadata": {
    "collapsed": false
   }
  },
  {
   "cell_type": "code",
   "execution_count": 89,
   "outputs": [
    {
     "name": "stdout",
     "output_type": "stream",
     "text": [
      "[[7 2.0 3]\n",
      " [4 3.5 6]\n",
      " [10 5.0 29]]\n"
     ]
    }
   ],
   "source": [
    "#Si quisiéramos aplicar múltiples estrategías, sería necesario utilizar fillna múltiples o ColumnTransformer como composer\n",
    "import numpy as np\n",
    "from sklearn.compose import ColumnTransformer\n",
    "from sklearn.impute import SimpleImputer\n",
    "\n",
    "A = [[7,2,3],[4,np.nan,6],[10,5,np.nan]]\n",
    "\n",
    "column_trans = ColumnTransformer(\n",
    "    [('imp_col1', SimpleImputer(strategy='mean'), [1]),\n",
    "     ('imp_col2', SimpleImputer(strategy='constant', fill_value=29), [2])],\n",
    "    remainder='passthrough')\n",
    "\n",
    "print(column_trans.fit_transform(A)[:, [2,0,1]])"
   ],
   "metadata": {
    "collapsed": false
   }
  },
  {
   "cell_type": "markdown",
   "source": [
    "### Borrado de valores nulos"
   ],
   "metadata": {
    "collapsed": false,
    "id": "30Vha0Do7xcu"
   }
  },
  {
   "cell_type": "code",
   "execution_count": 90,
   "outputs": [
    {
     "data": {
      "text/plain": "     age     sex steroid  antivirals fatigue malaise anorexia liver_big  \\\n0     30    male   False       False   False   False    False     False   \n1     50  female   False       False    True   False    False     False   \n2     78  female    True       False    True   False    False      True   \n3     31  female     NaN        True   False   False    False      True   \n4     34  female    True       False   False   False    False      True   \n..   ...     ...     ...         ...     ...     ...      ...       ...   \n150   46  female    True       False    True    True     True      True   \n151   44  female    True       False    True   False    False      True   \n152   61  female   False       False    True    True    False     False   \n153   53    male   False       False    True   False    False      True   \n154   43  female    True       False    True   False    False      True   \n\n    liver_firm spleen_palpable spiders ascites varices  bilirubin  \\\n0        False           False   False   False   False        1.0   \n1        False           False   False   False   False        0.9   \n2        False           False   False   False   False        0.7   \n3        False           False   False   False   False        0.7   \n4        False           False   False   False   False        1.0   \n..         ...             ...     ...     ...     ...        ...   \n150      False           False    True    True    True        7.6   \n151       True           False   False   False   False        0.9   \n152       True           False    True   False   False        0.8   \n153      False            True    True   False    True        1.5   \n154      False            True    True    True   False        1.2   \n\n     alk_phosphate   sgot  albumin    protime  histology class  \n0             85.0   18.0      4.0  61.852273      False  live  \n1            135.0   42.0      3.5  61.852273      False  live  \n2             96.0   32.0      4.0  61.852273      False  live  \n3             46.0   52.0      4.0  80.000000      False  live  \n4              NaN  200.0      4.0  61.852273      False  live  \n..             ...    ...      ...        ...        ...   ...  \n150            NaN  242.0      3.3  50.000000       True   die  \n151          126.0  142.0      4.3  61.852273       True  live  \n152           75.0   20.0      4.1  61.852273       True  live  \n153           81.0   19.0      4.1  48.000000       True  live  \n154          100.0   19.0      3.1  42.000000       True   die  \n\n[155 rows x 20 columns]",
      "text/html": "<div>\n<style scoped>\n    .dataframe tbody tr th:only-of-type {\n        vertical-align: middle;\n    }\n\n    .dataframe tbody tr th {\n        vertical-align: top;\n    }\n\n    .dataframe thead th {\n        text-align: right;\n    }\n</style>\n<table border=\"1\" class=\"dataframe\">\n  <thead>\n    <tr style=\"text-align: right;\">\n      <th></th>\n      <th>age</th>\n      <th>sex</th>\n      <th>steroid</th>\n      <th>antivirals</th>\n      <th>fatigue</th>\n      <th>malaise</th>\n      <th>anorexia</th>\n      <th>liver_big</th>\n      <th>liver_firm</th>\n      <th>spleen_palpable</th>\n      <th>spiders</th>\n      <th>ascites</th>\n      <th>varices</th>\n      <th>bilirubin</th>\n      <th>alk_phosphate</th>\n      <th>sgot</th>\n      <th>albumin</th>\n      <th>protime</th>\n      <th>histology</th>\n      <th>class</th>\n    </tr>\n  </thead>\n  <tbody>\n    <tr>\n      <th>0</th>\n      <td>30</td>\n      <td>male</td>\n      <td>False</td>\n      <td>False</td>\n      <td>False</td>\n      <td>False</td>\n      <td>False</td>\n      <td>False</td>\n      <td>False</td>\n      <td>False</td>\n      <td>False</td>\n      <td>False</td>\n      <td>False</td>\n      <td>1.0</td>\n      <td>85.0</td>\n      <td>18.0</td>\n      <td>4.0</td>\n      <td>61.852273</td>\n      <td>False</td>\n      <td>live</td>\n    </tr>\n    <tr>\n      <th>1</th>\n      <td>50</td>\n      <td>female</td>\n      <td>False</td>\n      <td>False</td>\n      <td>True</td>\n      <td>False</td>\n      <td>False</td>\n      <td>False</td>\n      <td>False</td>\n      <td>False</td>\n      <td>False</td>\n      <td>False</td>\n      <td>False</td>\n      <td>0.9</td>\n      <td>135.0</td>\n      <td>42.0</td>\n      <td>3.5</td>\n      <td>61.852273</td>\n      <td>False</td>\n      <td>live</td>\n    </tr>\n    <tr>\n      <th>2</th>\n      <td>78</td>\n      <td>female</td>\n      <td>True</td>\n      <td>False</td>\n      <td>True</td>\n      <td>False</td>\n      <td>False</td>\n      <td>True</td>\n      <td>False</td>\n      <td>False</td>\n      <td>False</td>\n      <td>False</td>\n      <td>False</td>\n      <td>0.7</td>\n      <td>96.0</td>\n      <td>32.0</td>\n      <td>4.0</td>\n      <td>61.852273</td>\n      <td>False</td>\n      <td>live</td>\n    </tr>\n    <tr>\n      <th>3</th>\n      <td>31</td>\n      <td>female</td>\n      <td>NaN</td>\n      <td>True</td>\n      <td>False</td>\n      <td>False</td>\n      <td>False</td>\n      <td>True</td>\n      <td>False</td>\n      <td>False</td>\n      <td>False</td>\n      <td>False</td>\n      <td>False</td>\n      <td>0.7</td>\n      <td>46.0</td>\n      <td>52.0</td>\n      <td>4.0</td>\n      <td>80.000000</td>\n      <td>False</td>\n      <td>live</td>\n    </tr>\n    <tr>\n      <th>4</th>\n      <td>34</td>\n      <td>female</td>\n      <td>True</td>\n      <td>False</td>\n      <td>False</td>\n      <td>False</td>\n      <td>False</td>\n      <td>True</td>\n      <td>False</td>\n      <td>False</td>\n      <td>False</td>\n      <td>False</td>\n      <td>False</td>\n      <td>1.0</td>\n      <td>NaN</td>\n      <td>200.0</td>\n      <td>4.0</td>\n      <td>61.852273</td>\n      <td>False</td>\n      <td>live</td>\n    </tr>\n    <tr>\n      <th>...</th>\n      <td>...</td>\n      <td>...</td>\n      <td>...</td>\n      <td>...</td>\n      <td>...</td>\n      <td>...</td>\n      <td>...</td>\n      <td>...</td>\n      <td>...</td>\n      <td>...</td>\n      <td>...</td>\n      <td>...</td>\n      <td>...</td>\n      <td>...</td>\n      <td>...</td>\n      <td>...</td>\n      <td>...</td>\n      <td>...</td>\n      <td>...</td>\n      <td>...</td>\n    </tr>\n    <tr>\n      <th>150</th>\n      <td>46</td>\n      <td>female</td>\n      <td>True</td>\n      <td>False</td>\n      <td>True</td>\n      <td>True</td>\n      <td>True</td>\n      <td>True</td>\n      <td>False</td>\n      <td>False</td>\n      <td>True</td>\n      <td>True</td>\n      <td>True</td>\n      <td>7.6</td>\n      <td>NaN</td>\n      <td>242.0</td>\n      <td>3.3</td>\n      <td>50.000000</td>\n      <td>True</td>\n      <td>die</td>\n    </tr>\n    <tr>\n      <th>151</th>\n      <td>44</td>\n      <td>female</td>\n      <td>True</td>\n      <td>False</td>\n      <td>True</td>\n      <td>False</td>\n      <td>False</td>\n      <td>True</td>\n      <td>True</td>\n      <td>False</td>\n      <td>False</td>\n      <td>False</td>\n      <td>False</td>\n      <td>0.9</td>\n      <td>126.0</td>\n      <td>142.0</td>\n      <td>4.3</td>\n      <td>61.852273</td>\n      <td>True</td>\n      <td>live</td>\n    </tr>\n    <tr>\n      <th>152</th>\n      <td>61</td>\n      <td>female</td>\n      <td>False</td>\n      <td>False</td>\n      <td>True</td>\n      <td>True</td>\n      <td>False</td>\n      <td>False</td>\n      <td>True</td>\n      <td>False</td>\n      <td>True</td>\n      <td>False</td>\n      <td>False</td>\n      <td>0.8</td>\n      <td>75.0</td>\n      <td>20.0</td>\n      <td>4.1</td>\n      <td>61.852273</td>\n      <td>True</td>\n      <td>live</td>\n    </tr>\n    <tr>\n      <th>153</th>\n      <td>53</td>\n      <td>male</td>\n      <td>False</td>\n      <td>False</td>\n      <td>True</td>\n      <td>False</td>\n      <td>False</td>\n      <td>True</td>\n      <td>False</td>\n      <td>True</td>\n      <td>True</td>\n      <td>False</td>\n      <td>True</td>\n      <td>1.5</td>\n      <td>81.0</td>\n      <td>19.0</td>\n      <td>4.1</td>\n      <td>48.000000</td>\n      <td>True</td>\n      <td>live</td>\n    </tr>\n    <tr>\n      <th>154</th>\n      <td>43</td>\n      <td>female</td>\n      <td>True</td>\n      <td>False</td>\n      <td>True</td>\n      <td>False</td>\n      <td>False</td>\n      <td>True</td>\n      <td>False</td>\n      <td>True</td>\n      <td>True</td>\n      <td>True</td>\n      <td>False</td>\n      <td>1.2</td>\n      <td>100.0</td>\n      <td>19.0</td>\n      <td>3.1</td>\n      <td>42.000000</td>\n      <td>True</td>\n      <td>die</td>\n    </tr>\n  </tbody>\n</table>\n<p>155 rows × 20 columns</p>\n</div>"
     },
     "execution_count": 90,
     "metadata": {},
     "output_type": "execute_result"
    }
   ],
   "source": [
    "# only drop rows where all columns are NaN\n",
    "df_missing.dropna(how='all')"
   ],
   "metadata": {
    "id": "2BC8hUTx7xcu",
    "outputId": "6f89069a-9fb2-4c7e-97c5-55e70d644441"
   }
  },
  {
   "cell_type": "code",
   "execution_count": 91,
   "outputs": [
    {
     "data": {
      "text/plain": "     age     sex steroid  antivirals fatigue malaise anorexia liver_big  \\\n0     30    male   False       False   False   False    False     False   \n1     50  female   False       False    True   False    False     False   \n2     78  female    True       False    True   False    False      True   \n3     31  female     NaN        True   False   False    False      True   \n4     34  female    True       False   False   False    False      True   \n..   ...     ...     ...         ...     ...     ...      ...       ...   \n150   46  female    True       False    True    True     True      True   \n151   44  female    True       False    True   False    False      True   \n152   61  female   False       False    True    True    False     False   \n153   53    male   False       False    True   False    False      True   \n154   43  female    True       False    True   False    False      True   \n\n    liver_firm spleen_palpable spiders ascites varices  bilirubin  \\\n0        False           False   False   False   False        1.0   \n1        False           False   False   False   False        0.9   \n2        False           False   False   False   False        0.7   \n3        False           False   False   False   False        0.7   \n4        False           False   False   False   False        1.0   \n..         ...             ...     ...     ...     ...        ...   \n150      False           False    True    True    True        7.6   \n151       True           False   False   False   False        0.9   \n152       True           False    True   False   False        0.8   \n153      False            True    True   False    True        1.5   \n154      False            True    True    True   False        1.2   \n\n     alk_phosphate   sgot  albumin    protime  histology class  \n0             85.0   18.0      4.0  61.852273      False  live  \n1            135.0   42.0      3.5  61.852273      False  live  \n2             96.0   32.0      4.0  61.852273      False  live  \n3             46.0   52.0      4.0  80.000000      False  live  \n4              NaN  200.0      4.0  61.852273      False  live  \n..             ...    ...      ...        ...        ...   ...  \n150            NaN  242.0      3.3  50.000000       True   die  \n151          126.0  142.0      4.3  61.852273       True  live  \n152           75.0   20.0      4.1  61.852273       True  live  \n153           81.0   19.0      4.1  48.000000       True  live  \n154          100.0   19.0      3.1  42.000000       True   die  \n\n[151 rows x 20 columns]",
      "text/html": "<div>\n<style scoped>\n    .dataframe tbody tr th:only-of-type {\n        vertical-align: middle;\n    }\n\n    .dataframe tbody tr th {\n        vertical-align: top;\n    }\n\n    .dataframe thead th {\n        text-align: right;\n    }\n</style>\n<table border=\"1\" class=\"dataframe\">\n  <thead>\n    <tr style=\"text-align: right;\">\n      <th></th>\n      <th>age</th>\n      <th>sex</th>\n      <th>steroid</th>\n      <th>antivirals</th>\n      <th>fatigue</th>\n      <th>malaise</th>\n      <th>anorexia</th>\n      <th>liver_big</th>\n      <th>liver_firm</th>\n      <th>spleen_palpable</th>\n      <th>spiders</th>\n      <th>ascites</th>\n      <th>varices</th>\n      <th>bilirubin</th>\n      <th>alk_phosphate</th>\n      <th>sgot</th>\n      <th>albumin</th>\n      <th>protime</th>\n      <th>histology</th>\n      <th>class</th>\n    </tr>\n  </thead>\n  <tbody>\n    <tr>\n      <th>0</th>\n      <td>30</td>\n      <td>male</td>\n      <td>False</td>\n      <td>False</td>\n      <td>False</td>\n      <td>False</td>\n      <td>False</td>\n      <td>False</td>\n      <td>False</td>\n      <td>False</td>\n      <td>False</td>\n      <td>False</td>\n      <td>False</td>\n      <td>1.0</td>\n      <td>85.0</td>\n      <td>18.0</td>\n      <td>4.0</td>\n      <td>61.852273</td>\n      <td>False</td>\n      <td>live</td>\n    </tr>\n    <tr>\n      <th>1</th>\n      <td>50</td>\n      <td>female</td>\n      <td>False</td>\n      <td>False</td>\n      <td>True</td>\n      <td>False</td>\n      <td>False</td>\n      <td>False</td>\n      <td>False</td>\n      <td>False</td>\n      <td>False</td>\n      <td>False</td>\n      <td>False</td>\n      <td>0.9</td>\n      <td>135.0</td>\n      <td>42.0</td>\n      <td>3.5</td>\n      <td>61.852273</td>\n      <td>False</td>\n      <td>live</td>\n    </tr>\n    <tr>\n      <th>2</th>\n      <td>78</td>\n      <td>female</td>\n      <td>True</td>\n      <td>False</td>\n      <td>True</td>\n      <td>False</td>\n      <td>False</td>\n      <td>True</td>\n      <td>False</td>\n      <td>False</td>\n      <td>False</td>\n      <td>False</td>\n      <td>False</td>\n      <td>0.7</td>\n      <td>96.0</td>\n      <td>32.0</td>\n      <td>4.0</td>\n      <td>61.852273</td>\n      <td>False</td>\n      <td>live</td>\n    </tr>\n    <tr>\n      <th>3</th>\n      <td>31</td>\n      <td>female</td>\n      <td>NaN</td>\n      <td>True</td>\n      <td>False</td>\n      <td>False</td>\n      <td>False</td>\n      <td>True</td>\n      <td>False</td>\n      <td>False</td>\n      <td>False</td>\n      <td>False</td>\n      <td>False</td>\n      <td>0.7</td>\n      <td>46.0</td>\n      <td>52.0</td>\n      <td>4.0</td>\n      <td>80.000000</td>\n      <td>False</td>\n      <td>live</td>\n    </tr>\n    <tr>\n      <th>4</th>\n      <td>34</td>\n      <td>female</td>\n      <td>True</td>\n      <td>False</td>\n      <td>False</td>\n      <td>False</td>\n      <td>False</td>\n      <td>True</td>\n      <td>False</td>\n      <td>False</td>\n      <td>False</td>\n      <td>False</td>\n      <td>False</td>\n      <td>1.0</td>\n      <td>NaN</td>\n      <td>200.0</td>\n      <td>4.0</td>\n      <td>61.852273</td>\n      <td>False</td>\n      <td>live</td>\n    </tr>\n    <tr>\n      <th>...</th>\n      <td>...</td>\n      <td>...</td>\n      <td>...</td>\n      <td>...</td>\n      <td>...</td>\n      <td>...</td>\n      <td>...</td>\n      <td>...</td>\n      <td>...</td>\n      <td>...</td>\n      <td>...</td>\n      <td>...</td>\n      <td>...</td>\n      <td>...</td>\n      <td>...</td>\n      <td>...</td>\n      <td>...</td>\n      <td>...</td>\n      <td>...</td>\n      <td>...</td>\n    </tr>\n    <tr>\n      <th>150</th>\n      <td>46</td>\n      <td>female</td>\n      <td>True</td>\n      <td>False</td>\n      <td>True</td>\n      <td>True</td>\n      <td>True</td>\n      <td>True</td>\n      <td>False</td>\n      <td>False</td>\n      <td>True</td>\n      <td>True</td>\n      <td>True</td>\n      <td>7.6</td>\n      <td>NaN</td>\n      <td>242.0</td>\n      <td>3.3</td>\n      <td>50.000000</td>\n      <td>True</td>\n      <td>die</td>\n    </tr>\n    <tr>\n      <th>151</th>\n      <td>44</td>\n      <td>female</td>\n      <td>True</td>\n      <td>False</td>\n      <td>True</td>\n      <td>False</td>\n      <td>False</td>\n      <td>True</td>\n      <td>True</td>\n      <td>False</td>\n      <td>False</td>\n      <td>False</td>\n      <td>False</td>\n      <td>0.9</td>\n      <td>126.0</td>\n      <td>142.0</td>\n      <td>4.3</td>\n      <td>61.852273</td>\n      <td>True</td>\n      <td>live</td>\n    </tr>\n    <tr>\n      <th>152</th>\n      <td>61</td>\n      <td>female</td>\n      <td>False</td>\n      <td>False</td>\n      <td>True</td>\n      <td>True</td>\n      <td>False</td>\n      <td>False</td>\n      <td>True</td>\n      <td>False</td>\n      <td>True</td>\n      <td>False</td>\n      <td>False</td>\n      <td>0.8</td>\n      <td>75.0</td>\n      <td>20.0</td>\n      <td>4.1</td>\n      <td>61.852273</td>\n      <td>True</td>\n      <td>live</td>\n    </tr>\n    <tr>\n      <th>153</th>\n      <td>53</td>\n      <td>male</td>\n      <td>False</td>\n      <td>False</td>\n      <td>True</td>\n      <td>False</td>\n      <td>False</td>\n      <td>True</td>\n      <td>False</td>\n      <td>True</td>\n      <td>True</td>\n      <td>False</td>\n      <td>True</td>\n      <td>1.5</td>\n      <td>81.0</td>\n      <td>19.0</td>\n      <td>4.1</td>\n      <td>48.000000</td>\n      <td>True</td>\n      <td>live</td>\n    </tr>\n    <tr>\n      <th>154</th>\n      <td>43</td>\n      <td>female</td>\n      <td>True</td>\n      <td>False</td>\n      <td>True</td>\n      <td>False</td>\n      <td>False</td>\n      <td>True</td>\n      <td>False</td>\n      <td>True</td>\n      <td>True</td>\n      <td>True</td>\n      <td>False</td>\n      <td>1.2</td>\n      <td>100.0</td>\n      <td>19.0</td>\n      <td>3.1</td>\n      <td>42.000000</td>\n      <td>True</td>\n      <td>die</td>\n    </tr>\n  </tbody>\n</table>\n<p>151 rows × 20 columns</p>\n</div>"
     },
     "execution_count": 91,
     "metadata": {},
     "output_type": "execute_result"
    }
   ],
   "source": [
    "# Keep only the rows with at least 15 non-NA values.\n",
    "df_missing.dropna(thresh=15, inplace=True)\n",
    "df_missing\n"
   ],
   "metadata": {
    "id": "uEfZqTUK7xcu",
    "outputId": "cf3e222d-0ef6-4641-fe8c-eb08bfab5893"
   }
  },
  {
   "cell_type": "code",
   "execution_count": 92,
   "outputs": [
    {
     "data": {
      "text/plain": "     age     sex steroid  antivirals fatigue malaise anorexia liver_big  \\\n0     30    male   False       False   False   False    False     False   \n1     50  female   False       False    True   False    False     False   \n2     78  female    True       False    True   False    False      True   \n3     31  female     NaN        True   False   False    False      True   \n4     34  female    True       False   False   False    False      True   \n..   ...     ...     ...         ...     ...     ...      ...       ...   \n150   46  female    True       False    True    True     True      True   \n151   44  female    True       False    True   False    False      True   \n152   61  female   False       False    True    True    False     False   \n153   53    male   False       False    True   False    False      True   \n154   43  female    True       False    True   False    False      True   \n\n    liver_firm spleen_palpable spiders ascites varices  bilirubin  \\\n0        False           False   False   False   False        1.0   \n1        False           False   False   False   False        0.9   \n2        False           False   False   False   False        0.7   \n3        False           False   False   False   False        0.7   \n4        False           False   False   False   False        1.0   \n..         ...             ...     ...     ...     ...        ...   \n150      False           False    True    True    True        7.6   \n151       True           False   False   False   False        0.9   \n152       True           False    True   False   False        0.8   \n153      False            True    True   False    True        1.5   \n154      False            True    True    True   False        1.2   \n\n     alk_phosphate   sgot  albumin    protime  histology class  \n0             85.0   18.0      4.0  61.852273      False  live  \n1            135.0   42.0      3.5  61.852273      False  live  \n2             96.0   32.0      4.0  61.852273      False  live  \n3             46.0   52.0      4.0  80.000000      False  live  \n4              NaN  200.0      4.0  61.852273      False  live  \n..             ...    ...      ...        ...        ...   ...  \n150            NaN  242.0      3.3  50.000000       True   die  \n151          126.0  142.0      4.3  61.852273       True  live  \n152           75.0   20.0      4.1  61.852273       True  live  \n153           81.0   19.0      4.1  48.000000       True  live  \n154          100.0   19.0      3.1  42.000000       True   die  \n\n[151 rows x 20 columns]",
      "text/html": "<div>\n<style scoped>\n    .dataframe tbody tr th:only-of-type {\n        vertical-align: middle;\n    }\n\n    .dataframe tbody tr th {\n        vertical-align: top;\n    }\n\n    .dataframe thead th {\n        text-align: right;\n    }\n</style>\n<table border=\"1\" class=\"dataframe\">\n  <thead>\n    <tr style=\"text-align: right;\">\n      <th></th>\n      <th>age</th>\n      <th>sex</th>\n      <th>steroid</th>\n      <th>antivirals</th>\n      <th>fatigue</th>\n      <th>malaise</th>\n      <th>anorexia</th>\n      <th>liver_big</th>\n      <th>liver_firm</th>\n      <th>spleen_palpable</th>\n      <th>spiders</th>\n      <th>ascites</th>\n      <th>varices</th>\n      <th>bilirubin</th>\n      <th>alk_phosphate</th>\n      <th>sgot</th>\n      <th>albumin</th>\n      <th>protime</th>\n      <th>histology</th>\n      <th>class</th>\n    </tr>\n  </thead>\n  <tbody>\n    <tr>\n      <th>0</th>\n      <td>30</td>\n      <td>male</td>\n      <td>False</td>\n      <td>False</td>\n      <td>False</td>\n      <td>False</td>\n      <td>False</td>\n      <td>False</td>\n      <td>False</td>\n      <td>False</td>\n      <td>False</td>\n      <td>False</td>\n      <td>False</td>\n      <td>1.0</td>\n      <td>85.0</td>\n      <td>18.0</td>\n      <td>4.0</td>\n      <td>61.852273</td>\n      <td>False</td>\n      <td>live</td>\n    </tr>\n    <tr>\n      <th>1</th>\n      <td>50</td>\n      <td>female</td>\n      <td>False</td>\n      <td>False</td>\n      <td>True</td>\n      <td>False</td>\n      <td>False</td>\n      <td>False</td>\n      <td>False</td>\n      <td>False</td>\n      <td>False</td>\n      <td>False</td>\n      <td>False</td>\n      <td>0.9</td>\n      <td>135.0</td>\n      <td>42.0</td>\n      <td>3.5</td>\n      <td>61.852273</td>\n      <td>False</td>\n      <td>live</td>\n    </tr>\n    <tr>\n      <th>2</th>\n      <td>78</td>\n      <td>female</td>\n      <td>True</td>\n      <td>False</td>\n      <td>True</td>\n      <td>False</td>\n      <td>False</td>\n      <td>True</td>\n      <td>False</td>\n      <td>False</td>\n      <td>False</td>\n      <td>False</td>\n      <td>False</td>\n      <td>0.7</td>\n      <td>96.0</td>\n      <td>32.0</td>\n      <td>4.0</td>\n      <td>61.852273</td>\n      <td>False</td>\n      <td>live</td>\n    </tr>\n    <tr>\n      <th>3</th>\n      <td>31</td>\n      <td>female</td>\n      <td>NaN</td>\n      <td>True</td>\n      <td>False</td>\n      <td>False</td>\n      <td>False</td>\n      <td>True</td>\n      <td>False</td>\n      <td>False</td>\n      <td>False</td>\n      <td>False</td>\n      <td>False</td>\n      <td>0.7</td>\n      <td>46.0</td>\n      <td>52.0</td>\n      <td>4.0</td>\n      <td>80.000000</td>\n      <td>False</td>\n      <td>live</td>\n    </tr>\n    <tr>\n      <th>4</th>\n      <td>34</td>\n      <td>female</td>\n      <td>True</td>\n      <td>False</td>\n      <td>False</td>\n      <td>False</td>\n      <td>False</td>\n      <td>True</td>\n      <td>False</td>\n      <td>False</td>\n      <td>False</td>\n      <td>False</td>\n      <td>False</td>\n      <td>1.0</td>\n      <td>NaN</td>\n      <td>200.0</td>\n      <td>4.0</td>\n      <td>61.852273</td>\n      <td>False</td>\n      <td>live</td>\n    </tr>\n    <tr>\n      <th>...</th>\n      <td>...</td>\n      <td>...</td>\n      <td>...</td>\n      <td>...</td>\n      <td>...</td>\n      <td>...</td>\n      <td>...</td>\n      <td>...</td>\n      <td>...</td>\n      <td>...</td>\n      <td>...</td>\n      <td>...</td>\n      <td>...</td>\n      <td>...</td>\n      <td>...</td>\n      <td>...</td>\n      <td>...</td>\n      <td>...</td>\n      <td>...</td>\n      <td>...</td>\n    </tr>\n    <tr>\n      <th>150</th>\n      <td>46</td>\n      <td>female</td>\n      <td>True</td>\n      <td>False</td>\n      <td>True</td>\n      <td>True</td>\n      <td>True</td>\n      <td>True</td>\n      <td>False</td>\n      <td>False</td>\n      <td>True</td>\n      <td>True</td>\n      <td>True</td>\n      <td>7.6</td>\n      <td>NaN</td>\n      <td>242.0</td>\n      <td>3.3</td>\n      <td>50.000000</td>\n      <td>True</td>\n      <td>die</td>\n    </tr>\n    <tr>\n      <th>151</th>\n      <td>44</td>\n      <td>female</td>\n      <td>True</td>\n      <td>False</td>\n      <td>True</td>\n      <td>False</td>\n      <td>False</td>\n      <td>True</td>\n      <td>True</td>\n      <td>False</td>\n      <td>False</td>\n      <td>False</td>\n      <td>False</td>\n      <td>0.9</td>\n      <td>126.0</td>\n      <td>142.0</td>\n      <td>4.3</td>\n      <td>61.852273</td>\n      <td>True</td>\n      <td>live</td>\n    </tr>\n    <tr>\n      <th>152</th>\n      <td>61</td>\n      <td>female</td>\n      <td>False</td>\n      <td>False</td>\n      <td>True</td>\n      <td>True</td>\n      <td>False</td>\n      <td>False</td>\n      <td>True</td>\n      <td>False</td>\n      <td>True</td>\n      <td>False</td>\n      <td>False</td>\n      <td>0.8</td>\n      <td>75.0</td>\n      <td>20.0</td>\n      <td>4.1</td>\n      <td>61.852273</td>\n      <td>True</td>\n      <td>live</td>\n    </tr>\n    <tr>\n      <th>153</th>\n      <td>53</td>\n      <td>male</td>\n      <td>False</td>\n      <td>False</td>\n      <td>True</td>\n      <td>False</td>\n      <td>False</td>\n      <td>True</td>\n      <td>False</td>\n      <td>True</td>\n      <td>True</td>\n      <td>False</td>\n      <td>True</td>\n      <td>1.5</td>\n      <td>81.0</td>\n      <td>19.0</td>\n      <td>4.1</td>\n      <td>48.000000</td>\n      <td>True</td>\n      <td>live</td>\n    </tr>\n    <tr>\n      <th>154</th>\n      <td>43</td>\n      <td>female</td>\n      <td>True</td>\n      <td>False</td>\n      <td>True</td>\n      <td>False</td>\n      <td>False</td>\n      <td>True</td>\n      <td>False</td>\n      <td>True</td>\n      <td>True</td>\n      <td>True</td>\n      <td>False</td>\n      <td>1.2</td>\n      <td>100.0</td>\n      <td>19.0</td>\n      <td>3.1</td>\n      <td>42.000000</td>\n      <td>True</td>\n      <td>die</td>\n    </tr>\n  </tbody>\n</table>\n<p>151 rows × 20 columns</p>\n</div>"
     },
     "execution_count": 92,
     "metadata": {},
     "output_type": "execute_result"
    }
   ],
   "source": [
    "# only drop rows where NaN appear in specific columns (here: 'albumin')\n",
    "df_missing.dropna(subset=['albumin'])"
   ],
   "metadata": {
    "id": "Y-rZPBRJ7xcv"
   }
  },
  {
   "cell_type": "code",
   "execution_count": 93,
   "outputs": [
    {
     "data": {
      "text/plain": "     age     sex steroid  antivirals fatigue malaise anorexia liver_big  \\\n0     30    male   False       False   False   False    False     False   \n1     50  female   False       False    True   False    False     False   \n2     78  female    True       False    True   False    False      True   \n5     34  female    True       False   False   False    False      True   \n10    39  female   False        True   False   False    False     False   \n..   ...     ...     ...         ...     ...     ...      ...       ...   \n149   36  female    True       False   False   False    False      True   \n151   44  female    True       False    True   False    False      True   \n152   61  female   False       False    True    True    False     False   \n153   53    male   False       False    True   False    False      True   \n154   43  female    True       False    True   False    False      True   \n\n    liver_firm spleen_palpable spiders ascites varices  bilirubin  \\\n0        False           False   False   False   False        1.0   \n1        False           False   False   False   False        0.9   \n2        False           False   False   False   False        0.7   \n5        False           False   False   False   False        0.9   \n10        True           False   False   False   False        1.3   \n..         ...             ...     ...     ...     ...        ...   \n149      False           False   False   False   False        0.6   \n151       True           False   False   False   False        0.9   \n152       True           False    True   False   False        0.8   \n153      False            True    True   False    True        1.5   \n154      False            True    True    True   False        1.2   \n\n     alk_phosphate   sgot  albumin    protime  histology class  \n0             85.0   18.0      4.0  61.852273      False  live  \n1            135.0   42.0      3.5  61.852273      False  live  \n2             96.0   32.0      4.0  61.852273      False  live  \n5             95.0   28.0      4.0  75.000000      False  live  \n10            78.0   30.0      4.4  85.000000      False  live  \n..             ...    ...      ...        ...        ...   ...  \n149          120.0   30.0      4.0  61.852273       True  live  \n151          126.0  142.0      4.3  61.852273       True  live  \n152           75.0   20.0      4.1  61.852273       True  live  \n153           81.0   19.0      4.1  48.000000       True  live  \n154          100.0   19.0      3.1  42.000000       True   die  \n\n[118 rows x 20 columns]",
      "text/html": "<div>\n<style scoped>\n    .dataframe tbody tr th:only-of-type {\n        vertical-align: middle;\n    }\n\n    .dataframe tbody tr th {\n        vertical-align: top;\n    }\n\n    .dataframe thead th {\n        text-align: right;\n    }\n</style>\n<table border=\"1\" class=\"dataframe\">\n  <thead>\n    <tr style=\"text-align: right;\">\n      <th></th>\n      <th>age</th>\n      <th>sex</th>\n      <th>steroid</th>\n      <th>antivirals</th>\n      <th>fatigue</th>\n      <th>malaise</th>\n      <th>anorexia</th>\n      <th>liver_big</th>\n      <th>liver_firm</th>\n      <th>spleen_palpable</th>\n      <th>spiders</th>\n      <th>ascites</th>\n      <th>varices</th>\n      <th>bilirubin</th>\n      <th>alk_phosphate</th>\n      <th>sgot</th>\n      <th>albumin</th>\n      <th>protime</th>\n      <th>histology</th>\n      <th>class</th>\n    </tr>\n  </thead>\n  <tbody>\n    <tr>\n      <th>0</th>\n      <td>30</td>\n      <td>male</td>\n      <td>False</td>\n      <td>False</td>\n      <td>False</td>\n      <td>False</td>\n      <td>False</td>\n      <td>False</td>\n      <td>False</td>\n      <td>False</td>\n      <td>False</td>\n      <td>False</td>\n      <td>False</td>\n      <td>1.0</td>\n      <td>85.0</td>\n      <td>18.0</td>\n      <td>4.0</td>\n      <td>61.852273</td>\n      <td>False</td>\n      <td>live</td>\n    </tr>\n    <tr>\n      <th>1</th>\n      <td>50</td>\n      <td>female</td>\n      <td>False</td>\n      <td>False</td>\n      <td>True</td>\n      <td>False</td>\n      <td>False</td>\n      <td>False</td>\n      <td>False</td>\n      <td>False</td>\n      <td>False</td>\n      <td>False</td>\n      <td>False</td>\n      <td>0.9</td>\n      <td>135.0</td>\n      <td>42.0</td>\n      <td>3.5</td>\n      <td>61.852273</td>\n      <td>False</td>\n      <td>live</td>\n    </tr>\n    <tr>\n      <th>2</th>\n      <td>78</td>\n      <td>female</td>\n      <td>True</td>\n      <td>False</td>\n      <td>True</td>\n      <td>False</td>\n      <td>False</td>\n      <td>True</td>\n      <td>False</td>\n      <td>False</td>\n      <td>False</td>\n      <td>False</td>\n      <td>False</td>\n      <td>0.7</td>\n      <td>96.0</td>\n      <td>32.0</td>\n      <td>4.0</td>\n      <td>61.852273</td>\n      <td>False</td>\n      <td>live</td>\n    </tr>\n    <tr>\n      <th>5</th>\n      <td>34</td>\n      <td>female</td>\n      <td>True</td>\n      <td>False</td>\n      <td>False</td>\n      <td>False</td>\n      <td>False</td>\n      <td>True</td>\n      <td>False</td>\n      <td>False</td>\n      <td>False</td>\n      <td>False</td>\n      <td>False</td>\n      <td>0.9</td>\n      <td>95.0</td>\n      <td>28.0</td>\n      <td>4.0</td>\n      <td>75.000000</td>\n      <td>False</td>\n      <td>live</td>\n    </tr>\n    <tr>\n      <th>10</th>\n      <td>39</td>\n      <td>female</td>\n      <td>False</td>\n      <td>True</td>\n      <td>False</td>\n      <td>False</td>\n      <td>False</td>\n      <td>False</td>\n      <td>True</td>\n      <td>False</td>\n      <td>False</td>\n      <td>False</td>\n      <td>False</td>\n      <td>1.3</td>\n      <td>78.0</td>\n      <td>30.0</td>\n      <td>4.4</td>\n      <td>85.000000</td>\n      <td>False</td>\n      <td>live</td>\n    </tr>\n    <tr>\n      <th>...</th>\n      <td>...</td>\n      <td>...</td>\n      <td>...</td>\n      <td>...</td>\n      <td>...</td>\n      <td>...</td>\n      <td>...</td>\n      <td>...</td>\n      <td>...</td>\n      <td>...</td>\n      <td>...</td>\n      <td>...</td>\n      <td>...</td>\n      <td>...</td>\n      <td>...</td>\n      <td>...</td>\n      <td>...</td>\n      <td>...</td>\n      <td>...</td>\n      <td>...</td>\n    </tr>\n    <tr>\n      <th>149</th>\n      <td>36</td>\n      <td>female</td>\n      <td>True</td>\n      <td>False</td>\n      <td>False</td>\n      <td>False</td>\n      <td>False</td>\n      <td>True</td>\n      <td>False</td>\n      <td>False</td>\n      <td>False</td>\n      <td>False</td>\n      <td>False</td>\n      <td>0.6</td>\n      <td>120.0</td>\n      <td>30.0</td>\n      <td>4.0</td>\n      <td>61.852273</td>\n      <td>True</td>\n      <td>live</td>\n    </tr>\n    <tr>\n      <th>151</th>\n      <td>44</td>\n      <td>female</td>\n      <td>True</td>\n      <td>False</td>\n      <td>True</td>\n      <td>False</td>\n      <td>False</td>\n      <td>True</td>\n      <td>True</td>\n      <td>False</td>\n      <td>False</td>\n      <td>False</td>\n      <td>False</td>\n      <td>0.9</td>\n      <td>126.0</td>\n      <td>142.0</td>\n      <td>4.3</td>\n      <td>61.852273</td>\n      <td>True</td>\n      <td>live</td>\n    </tr>\n    <tr>\n      <th>152</th>\n      <td>61</td>\n      <td>female</td>\n      <td>False</td>\n      <td>False</td>\n      <td>True</td>\n      <td>True</td>\n      <td>False</td>\n      <td>False</td>\n      <td>True</td>\n      <td>False</td>\n      <td>True</td>\n      <td>False</td>\n      <td>False</td>\n      <td>0.8</td>\n      <td>75.0</td>\n      <td>20.0</td>\n      <td>4.1</td>\n      <td>61.852273</td>\n      <td>True</td>\n      <td>live</td>\n    </tr>\n    <tr>\n      <th>153</th>\n      <td>53</td>\n      <td>male</td>\n      <td>False</td>\n      <td>False</td>\n      <td>True</td>\n      <td>False</td>\n      <td>False</td>\n      <td>True</td>\n      <td>False</td>\n      <td>True</td>\n      <td>True</td>\n      <td>False</td>\n      <td>True</td>\n      <td>1.5</td>\n      <td>81.0</td>\n      <td>19.0</td>\n      <td>4.1</td>\n      <td>48.000000</td>\n      <td>True</td>\n      <td>live</td>\n    </tr>\n    <tr>\n      <th>154</th>\n      <td>43</td>\n      <td>female</td>\n      <td>True</td>\n      <td>False</td>\n      <td>True</td>\n      <td>False</td>\n      <td>False</td>\n      <td>True</td>\n      <td>False</td>\n      <td>True</td>\n      <td>True</td>\n      <td>True</td>\n      <td>False</td>\n      <td>1.2</td>\n      <td>100.0</td>\n      <td>19.0</td>\n      <td>3.1</td>\n      <td>42.000000</td>\n      <td>True</td>\n      <td>die</td>\n    </tr>\n  </tbody>\n</table>\n<p>118 rows × 20 columns</p>\n</div>"
     },
     "execution_count": 93,
     "metadata": {},
     "output_type": "execute_result"
    }
   ],
   "source": [
    "df_missing.dropna(axis=0) #borra todas las filas que contengan al menos un nulo"
   ],
   "metadata": {
    "id": "LEsalqb67xcv"
   }
  },
  {
   "cell_type": "code",
   "execution_count": 94,
   "outputs": [
    {
     "data": {
      "text/plain": "     age     sex  antivirals fatigue malaise anorexia   sgot  albumin  \\\n0     30    male       False   False   False    False   18.0      4.0   \n1     50  female       False    True   False    False   42.0      3.5   \n2     78  female       False    True   False    False   32.0      4.0   \n3     31  female        True   False   False    False   52.0      4.0   \n4     34  female       False   False   False    False  200.0      4.0   \n..   ...     ...         ...     ...     ...      ...    ...      ...   \n150   46  female       False    True    True     True  242.0      3.3   \n151   44  female       False    True   False    False  142.0      4.3   \n152   61  female       False    True    True    False   20.0      4.1   \n153   53    male       False    True   False    False   19.0      4.1   \n154   43  female       False    True   False    False   19.0      3.1   \n\n       protime  histology class  \n0    61.852273      False  live  \n1    61.852273      False  live  \n2    61.852273      False  live  \n3    80.000000      False  live  \n4    61.852273      False  live  \n..         ...        ...   ...  \n150  50.000000       True   die  \n151  61.852273       True  live  \n152  61.852273       True  live  \n153  48.000000       True  live  \n154  42.000000       True   die  \n\n[151 rows x 11 columns]",
      "text/html": "<div>\n<style scoped>\n    .dataframe tbody tr th:only-of-type {\n        vertical-align: middle;\n    }\n\n    .dataframe tbody tr th {\n        vertical-align: top;\n    }\n\n    .dataframe thead th {\n        text-align: right;\n    }\n</style>\n<table border=\"1\" class=\"dataframe\">\n  <thead>\n    <tr style=\"text-align: right;\">\n      <th></th>\n      <th>age</th>\n      <th>sex</th>\n      <th>antivirals</th>\n      <th>fatigue</th>\n      <th>malaise</th>\n      <th>anorexia</th>\n      <th>sgot</th>\n      <th>albumin</th>\n      <th>protime</th>\n      <th>histology</th>\n      <th>class</th>\n    </tr>\n  </thead>\n  <tbody>\n    <tr>\n      <th>0</th>\n      <td>30</td>\n      <td>male</td>\n      <td>False</td>\n      <td>False</td>\n      <td>False</td>\n      <td>False</td>\n      <td>18.0</td>\n      <td>4.0</td>\n      <td>61.852273</td>\n      <td>False</td>\n      <td>live</td>\n    </tr>\n    <tr>\n      <th>1</th>\n      <td>50</td>\n      <td>female</td>\n      <td>False</td>\n      <td>True</td>\n      <td>False</td>\n      <td>False</td>\n      <td>42.0</td>\n      <td>3.5</td>\n      <td>61.852273</td>\n      <td>False</td>\n      <td>live</td>\n    </tr>\n    <tr>\n      <th>2</th>\n      <td>78</td>\n      <td>female</td>\n      <td>False</td>\n      <td>True</td>\n      <td>False</td>\n      <td>False</td>\n      <td>32.0</td>\n      <td>4.0</td>\n      <td>61.852273</td>\n      <td>False</td>\n      <td>live</td>\n    </tr>\n    <tr>\n      <th>3</th>\n      <td>31</td>\n      <td>female</td>\n      <td>True</td>\n      <td>False</td>\n      <td>False</td>\n      <td>False</td>\n      <td>52.0</td>\n      <td>4.0</td>\n      <td>80.000000</td>\n      <td>False</td>\n      <td>live</td>\n    </tr>\n    <tr>\n      <th>4</th>\n      <td>34</td>\n      <td>female</td>\n      <td>False</td>\n      <td>False</td>\n      <td>False</td>\n      <td>False</td>\n      <td>200.0</td>\n      <td>4.0</td>\n      <td>61.852273</td>\n      <td>False</td>\n      <td>live</td>\n    </tr>\n    <tr>\n      <th>...</th>\n      <td>...</td>\n      <td>...</td>\n      <td>...</td>\n      <td>...</td>\n      <td>...</td>\n      <td>...</td>\n      <td>...</td>\n      <td>...</td>\n      <td>...</td>\n      <td>...</td>\n      <td>...</td>\n    </tr>\n    <tr>\n      <th>150</th>\n      <td>46</td>\n      <td>female</td>\n      <td>False</td>\n      <td>True</td>\n      <td>True</td>\n      <td>True</td>\n      <td>242.0</td>\n      <td>3.3</td>\n      <td>50.000000</td>\n      <td>True</td>\n      <td>die</td>\n    </tr>\n    <tr>\n      <th>151</th>\n      <td>44</td>\n      <td>female</td>\n      <td>False</td>\n      <td>True</td>\n      <td>False</td>\n      <td>False</td>\n      <td>142.0</td>\n      <td>4.3</td>\n      <td>61.852273</td>\n      <td>True</td>\n      <td>live</td>\n    </tr>\n    <tr>\n      <th>152</th>\n      <td>61</td>\n      <td>female</td>\n      <td>False</td>\n      <td>True</td>\n      <td>True</td>\n      <td>False</td>\n      <td>20.0</td>\n      <td>4.1</td>\n      <td>61.852273</td>\n      <td>True</td>\n      <td>live</td>\n    </tr>\n    <tr>\n      <th>153</th>\n      <td>53</td>\n      <td>male</td>\n      <td>False</td>\n      <td>True</td>\n      <td>False</td>\n      <td>False</td>\n      <td>19.0</td>\n      <td>4.1</td>\n      <td>48.000000</td>\n      <td>True</td>\n      <td>live</td>\n    </tr>\n    <tr>\n      <th>154</th>\n      <td>43</td>\n      <td>female</td>\n      <td>False</td>\n      <td>True</td>\n      <td>False</td>\n      <td>False</td>\n      <td>19.0</td>\n      <td>3.1</td>\n      <td>42.000000</td>\n      <td>True</td>\n      <td>die</td>\n    </tr>\n  </tbody>\n</table>\n<p>151 rows × 11 columns</p>\n</div>"
     },
     "execution_count": 94,
     "metadata": {},
     "output_type": "execute_result"
    }
   ],
   "source": [
    "df_missing.dropna(axis=1) #borra todas las columnas que contengan al menos un nulo"
   ],
   "metadata": {
    "id": "dOjERivJ7xcv"
   }
  },
  {
   "cell_type": "code",
   "execution_count": 95,
   "outputs": [
    {
     "data": {
      "text/plain": "     age     sex steroid  antivirals fatigue malaise anorexia liver_big  \\\n0     30    male   False       False   False   False    False     False   \n1     50  female   False       False    True   False    False     False   \n2     78  female    True       False    True   False    False      True   \n3     31  female     NaN        True   False   False    False      True   \n4     34  female    True       False   False   False    False      True   \n..   ...     ...     ...         ...     ...     ...      ...       ...   \n150   46  female    True       False    True    True     True      True   \n151   44  female    True       False    True   False    False      True   \n152   61  female   False       False    True    True    False     False   \n153   53    male   False       False    True   False    False      True   \n154   43  female    True       False    True   False    False      True   \n\n    liver_firm spleen_palpable spiders ascites varices  bilirubin  \\\n0        False           False   False   False   False        1.0   \n1        False           False   False   False   False        0.9   \n2        False           False   False   False   False        0.7   \n3        False           False   False   False   False        0.7   \n4        False           False   False   False   False        1.0   \n..         ...             ...     ...     ...     ...        ...   \n150      False           False    True    True    True        7.6   \n151       True           False   False   False   False        0.9   \n152       True           False    True   False   False        0.8   \n153      False            True    True   False    True        1.5   \n154      False            True    True    True   False        1.2   \n\n     alk_phosphate   sgot  albumin    protime  histology class  \n0             85.0   18.0      4.0  61.852273      False  live  \n1            135.0   42.0      3.5  61.852273      False  live  \n2             96.0   32.0      4.0  61.852273      False  live  \n3             46.0   52.0      4.0  80.000000      False  live  \n4              NaN  200.0      4.0  61.852273      False  live  \n..             ...    ...      ...        ...        ...   ...  \n150            NaN  242.0      3.3  50.000000       True   die  \n151          126.0  142.0      4.3  61.852273       True  live  \n152           75.0   20.0      4.1  61.852273       True  live  \n153           81.0   19.0      4.1  48.000000       True  live  \n154          100.0   19.0      3.1  42.000000       True   die  \n\n[151 rows x 20 columns]",
      "text/html": "<div>\n<style scoped>\n    .dataframe tbody tr th:only-of-type {\n        vertical-align: middle;\n    }\n\n    .dataframe tbody tr th {\n        vertical-align: top;\n    }\n\n    .dataframe thead th {\n        text-align: right;\n    }\n</style>\n<table border=\"1\" class=\"dataframe\">\n  <thead>\n    <tr style=\"text-align: right;\">\n      <th></th>\n      <th>age</th>\n      <th>sex</th>\n      <th>steroid</th>\n      <th>antivirals</th>\n      <th>fatigue</th>\n      <th>malaise</th>\n      <th>anorexia</th>\n      <th>liver_big</th>\n      <th>liver_firm</th>\n      <th>spleen_palpable</th>\n      <th>spiders</th>\n      <th>ascites</th>\n      <th>varices</th>\n      <th>bilirubin</th>\n      <th>alk_phosphate</th>\n      <th>sgot</th>\n      <th>albumin</th>\n      <th>protime</th>\n      <th>histology</th>\n      <th>class</th>\n    </tr>\n  </thead>\n  <tbody>\n    <tr>\n      <th>0</th>\n      <td>30</td>\n      <td>male</td>\n      <td>False</td>\n      <td>False</td>\n      <td>False</td>\n      <td>False</td>\n      <td>False</td>\n      <td>False</td>\n      <td>False</td>\n      <td>False</td>\n      <td>False</td>\n      <td>False</td>\n      <td>False</td>\n      <td>1.0</td>\n      <td>85.0</td>\n      <td>18.0</td>\n      <td>4.0</td>\n      <td>61.852273</td>\n      <td>False</td>\n      <td>live</td>\n    </tr>\n    <tr>\n      <th>1</th>\n      <td>50</td>\n      <td>female</td>\n      <td>False</td>\n      <td>False</td>\n      <td>True</td>\n      <td>False</td>\n      <td>False</td>\n      <td>False</td>\n      <td>False</td>\n      <td>False</td>\n      <td>False</td>\n      <td>False</td>\n      <td>False</td>\n      <td>0.9</td>\n      <td>135.0</td>\n      <td>42.0</td>\n      <td>3.5</td>\n      <td>61.852273</td>\n      <td>False</td>\n      <td>live</td>\n    </tr>\n    <tr>\n      <th>2</th>\n      <td>78</td>\n      <td>female</td>\n      <td>True</td>\n      <td>False</td>\n      <td>True</td>\n      <td>False</td>\n      <td>False</td>\n      <td>True</td>\n      <td>False</td>\n      <td>False</td>\n      <td>False</td>\n      <td>False</td>\n      <td>False</td>\n      <td>0.7</td>\n      <td>96.0</td>\n      <td>32.0</td>\n      <td>4.0</td>\n      <td>61.852273</td>\n      <td>False</td>\n      <td>live</td>\n    </tr>\n    <tr>\n      <th>3</th>\n      <td>31</td>\n      <td>female</td>\n      <td>NaN</td>\n      <td>True</td>\n      <td>False</td>\n      <td>False</td>\n      <td>False</td>\n      <td>True</td>\n      <td>False</td>\n      <td>False</td>\n      <td>False</td>\n      <td>False</td>\n      <td>False</td>\n      <td>0.7</td>\n      <td>46.0</td>\n      <td>52.0</td>\n      <td>4.0</td>\n      <td>80.000000</td>\n      <td>False</td>\n      <td>live</td>\n    </tr>\n    <tr>\n      <th>4</th>\n      <td>34</td>\n      <td>female</td>\n      <td>True</td>\n      <td>False</td>\n      <td>False</td>\n      <td>False</td>\n      <td>False</td>\n      <td>True</td>\n      <td>False</td>\n      <td>False</td>\n      <td>False</td>\n      <td>False</td>\n      <td>False</td>\n      <td>1.0</td>\n      <td>NaN</td>\n      <td>200.0</td>\n      <td>4.0</td>\n      <td>61.852273</td>\n      <td>False</td>\n      <td>live</td>\n    </tr>\n    <tr>\n      <th>...</th>\n      <td>...</td>\n      <td>...</td>\n      <td>...</td>\n      <td>...</td>\n      <td>...</td>\n      <td>...</td>\n      <td>...</td>\n      <td>...</td>\n      <td>...</td>\n      <td>...</td>\n      <td>...</td>\n      <td>...</td>\n      <td>...</td>\n      <td>...</td>\n      <td>...</td>\n      <td>...</td>\n      <td>...</td>\n      <td>...</td>\n      <td>...</td>\n      <td>...</td>\n    </tr>\n    <tr>\n      <th>150</th>\n      <td>46</td>\n      <td>female</td>\n      <td>True</td>\n      <td>False</td>\n      <td>True</td>\n      <td>True</td>\n      <td>True</td>\n      <td>True</td>\n      <td>False</td>\n      <td>False</td>\n      <td>True</td>\n      <td>True</td>\n      <td>True</td>\n      <td>7.6</td>\n      <td>NaN</td>\n      <td>242.0</td>\n      <td>3.3</td>\n      <td>50.000000</td>\n      <td>True</td>\n      <td>die</td>\n    </tr>\n    <tr>\n      <th>151</th>\n      <td>44</td>\n      <td>female</td>\n      <td>True</td>\n      <td>False</td>\n      <td>True</td>\n      <td>False</td>\n      <td>False</td>\n      <td>True</td>\n      <td>True</td>\n      <td>False</td>\n      <td>False</td>\n      <td>False</td>\n      <td>False</td>\n      <td>0.9</td>\n      <td>126.0</td>\n      <td>142.0</td>\n      <td>4.3</td>\n      <td>61.852273</td>\n      <td>True</td>\n      <td>live</td>\n    </tr>\n    <tr>\n      <th>152</th>\n      <td>61</td>\n      <td>female</td>\n      <td>False</td>\n      <td>False</td>\n      <td>True</td>\n      <td>True</td>\n      <td>False</td>\n      <td>False</td>\n      <td>True</td>\n      <td>False</td>\n      <td>True</td>\n      <td>False</td>\n      <td>False</td>\n      <td>0.8</td>\n      <td>75.0</td>\n      <td>20.0</td>\n      <td>4.1</td>\n      <td>61.852273</td>\n      <td>True</td>\n      <td>live</td>\n    </tr>\n    <tr>\n      <th>153</th>\n      <td>53</td>\n      <td>male</td>\n      <td>False</td>\n      <td>False</td>\n      <td>True</td>\n      <td>False</td>\n      <td>False</td>\n      <td>True</td>\n      <td>False</td>\n      <td>True</td>\n      <td>True</td>\n      <td>False</td>\n      <td>True</td>\n      <td>1.5</td>\n      <td>81.0</td>\n      <td>19.0</td>\n      <td>4.1</td>\n      <td>48.000000</td>\n      <td>True</td>\n      <td>live</td>\n    </tr>\n    <tr>\n      <th>154</th>\n      <td>43</td>\n      <td>female</td>\n      <td>True</td>\n      <td>False</td>\n      <td>True</td>\n      <td>False</td>\n      <td>False</td>\n      <td>True</td>\n      <td>False</td>\n      <td>True</td>\n      <td>True</td>\n      <td>True</td>\n      <td>False</td>\n      <td>1.2</td>\n      <td>100.0</td>\n      <td>19.0</td>\n      <td>3.1</td>\n      <td>42.000000</td>\n      <td>True</td>\n      <td>die</td>\n    </tr>\n  </tbody>\n</table>\n<p>151 rows × 20 columns</p>\n</div>"
     },
     "execution_count": 95,
     "metadata": {},
     "output_type": "execute_result"
    }
   ],
   "source": [
    "df_missing.dropna(axis=1,thresh=10)"
   ],
   "metadata": {
    "id": "quFn86O87xcw"
   }
  },
  {
   "cell_type": "markdown",
   "source": [
    "## 2. Datos categóricos\n",
    "\n",
    "En Machine Learning solo utilizamos valores numéricos, tipo de datos flotantes o enteros. Sin embargo, los conjuntos de datos a menudo contienen 'object' como tipo de datos, por lo tanto se hace necesario transformarlo a numérico. En la mayoría de los casos, los valores categóricos son discretos y puedes ser codificados como variables ficticias, asignando un número para cada categoría.\n",
    "[Tutorial DataCamp super completo](https://www.datacamp.com/community/tutorials/categorical-data)"
   ],
   "metadata": {
    "collapsed": false,
    "id": "85M0sVqS7xcw"
   }
  },
  {
   "cell_type": "code",
   "execution_count": 96,
   "outputs": [
    {
     "data": {
      "text/plain": "   color size  price classlabel\n0  green    M   10.1     class1\n1    red    L   13.5     class2\n2   blue   XL   15.3     class1",
      "text/html": "<div>\n<style scoped>\n    .dataframe tbody tr th:only-of-type {\n        vertical-align: middle;\n    }\n\n    .dataframe tbody tr th {\n        vertical-align: top;\n    }\n\n    .dataframe thead th {\n        text-align: right;\n    }\n</style>\n<table border=\"1\" class=\"dataframe\">\n  <thead>\n    <tr style=\"text-align: right;\">\n      <th></th>\n      <th>color</th>\n      <th>size</th>\n      <th>price</th>\n      <th>classlabel</th>\n    </tr>\n  </thead>\n  <tbody>\n    <tr>\n      <th>0</th>\n      <td>green</td>\n      <td>M</td>\n      <td>10.1</td>\n      <td>class1</td>\n    </tr>\n    <tr>\n      <th>1</th>\n      <td>red</td>\n      <td>L</td>\n      <td>13.5</td>\n      <td>class2</td>\n    </tr>\n    <tr>\n      <th>2</th>\n      <td>blue</td>\n      <td>XL</td>\n      <td>15.3</td>\n      <td>class1</td>\n    </tr>\n  </tbody>\n</table>\n</div>"
     },
     "execution_count": 96,
     "metadata": {},
     "output_type": "execute_result"
    }
   ],
   "source": [
    "df = pd.DataFrame([\n",
    "    ['green', 'M', 10.1, 'class1'],\n",
    "    ['red', 'L', 13.5, 'class2'],\n",
    "    ['blue', 'XL', 15.3, 'class1']])\n",
    "df.columns = ['color', 'size', 'price', 'classlabel']\n",
    "df"
   ],
   "metadata": {
    "id": "RyZjHcT67xcw"
   }
  },
  {
   "cell_type": "markdown",
   "source": [
    "### Sustitución de los valores de la columna size por valores numéricos concretos"
   ],
   "metadata": {
    "collapsed": false,
    "id": "CTXtz9dW7xcx"
   }
  },
  {
   "cell_type": "code",
   "execution_count": 97,
   "outputs": [
    {
     "data": {
      "text/plain": "   color  size  price classlabel\n0  green     1   10.1     class1\n1    red     2   13.5     class2\n2   blue     3   15.3     class1",
      "text/html": "<div>\n<style scoped>\n    .dataframe tbody tr th:only-of-type {\n        vertical-align: middle;\n    }\n\n    .dataframe tbody tr th {\n        vertical-align: top;\n    }\n\n    .dataframe thead th {\n        text-align: right;\n    }\n</style>\n<table border=\"1\" class=\"dataframe\">\n  <thead>\n    <tr style=\"text-align: right;\">\n      <th></th>\n      <th>color</th>\n      <th>size</th>\n      <th>price</th>\n      <th>classlabel</th>\n    </tr>\n  </thead>\n  <tbody>\n    <tr>\n      <th>0</th>\n      <td>green</td>\n      <td>1</td>\n      <td>10.1</td>\n      <td>class1</td>\n    </tr>\n    <tr>\n      <th>1</th>\n      <td>red</td>\n      <td>2</td>\n      <td>13.5</td>\n      <td>class2</td>\n    </tr>\n    <tr>\n      <th>2</th>\n      <td>blue</td>\n      <td>3</td>\n      <td>15.3</td>\n      <td>class1</td>\n    </tr>\n  </tbody>\n</table>\n</div>"
     },
     "execution_count": 97,
     "metadata": {},
     "output_type": "execute_result"
    }
   ],
   "source": [
    "size_mapping = {'XL': 3, 'L': 2, 'M': 1}\n",
    "df['size'] = df['size'].map(size_mapping)\n",
    "df"
   ],
   "metadata": {
    "id": "zYEpZQUb7xcx"
   }
  },
  {
   "cell_type": "markdown",
   "source": [
    "### Sustitución de los valores de la columna classlabel con un LabelEncoder"
   ],
   "metadata": {
    "collapsed": false,
    "id": "0QWvOT6P7xcx"
   }
  },
  {
   "cell_type": "code",
   "execution_count": 98,
   "outputs": [
    {
     "data": {
      "text/plain": "array(['class1', 'class2'], dtype=object)"
     },
     "execution_count": 98,
     "metadata": {},
     "output_type": "execute_result"
    }
   ],
   "source": [
    "df['classlabel'].unique()"
   ],
   "metadata": {
    "id": "rNwzkvpZ7xcx"
   }
  },
  {
   "cell_type": "code",
   "execution_count": 99,
   "outputs": [
    {
     "data": {
      "text/plain": "   color  size  price  classlabel\n0  green     1   10.1           0\n1    red     2   13.5           1\n2   blue     3   15.3           0",
      "text/html": "<div>\n<style scoped>\n    .dataframe tbody tr th:only-of-type {\n        vertical-align: middle;\n    }\n\n    .dataframe tbody tr th {\n        vertical-align: top;\n    }\n\n    .dataframe thead th {\n        text-align: right;\n    }\n</style>\n<table border=\"1\" class=\"dataframe\">\n  <thead>\n    <tr style=\"text-align: right;\">\n      <th></th>\n      <th>color</th>\n      <th>size</th>\n      <th>price</th>\n      <th>classlabel</th>\n    </tr>\n  </thead>\n  <tbody>\n    <tr>\n      <th>0</th>\n      <td>green</td>\n      <td>1</td>\n      <td>10.1</td>\n      <td>0</td>\n    </tr>\n    <tr>\n      <th>1</th>\n      <td>red</td>\n      <td>2</td>\n      <td>13.5</td>\n      <td>1</td>\n    </tr>\n    <tr>\n      <th>2</th>\n      <td>blue</td>\n      <td>3</td>\n      <td>15.3</td>\n      <td>0</td>\n    </tr>\n  </tbody>\n</table>\n</div>"
     },
     "execution_count": 99,
     "metadata": {},
     "output_type": "execute_result"
    }
   ],
   "source": [
    "from sklearn.preprocessing import LabelEncoder\n",
    "class_label_encoder = LabelEncoder()\n",
    "    df['classlabel'] = class_label_encoder.fit_transform(df['classlabel'].values)\n",
    "df"
   ],
   "metadata": {
    "id": "pJPnT_mh7xcy"
   }
  },
  {
   "cell_type": "markdown",
   "source": [
    "### Sustitución de los valores de la columna color con una columna para cada color"
   ],
   "metadata": {
    "collapsed": false,
    "id": "vp6H92VT7xcy"
   }
  },
  {
   "cell_type": "code",
   "execution_count": 100,
   "outputs": [
    {
     "data": {
      "text/plain": "   price  size  color_blue  color_green  color_red\n0   10.1     1           0            1          0\n1   13.5     2           0            0          1\n2   15.3     3           1            0          0",
      "text/html": "<div>\n<style scoped>\n    .dataframe tbody tr th:only-of-type {\n        vertical-align: middle;\n    }\n\n    .dataframe tbody tr th {\n        vertical-align: top;\n    }\n\n    .dataframe thead th {\n        text-align: right;\n    }\n</style>\n<table border=\"1\" class=\"dataframe\">\n  <thead>\n    <tr style=\"text-align: right;\">\n      <th></th>\n      <th>price</th>\n      <th>size</th>\n      <th>color_blue</th>\n      <th>color_green</th>\n      <th>color_red</th>\n    </tr>\n  </thead>\n  <tbody>\n    <tr>\n      <th>0</th>\n      <td>10.1</td>\n      <td>1</td>\n      <td>0</td>\n      <td>1</td>\n      <td>0</td>\n    </tr>\n    <tr>\n      <th>1</th>\n      <td>13.5</td>\n      <td>2</td>\n      <td>0</td>\n      <td>0</td>\n      <td>1</td>\n    </tr>\n    <tr>\n      <th>2</th>\n      <td>15.3</td>\n      <td>3</td>\n      <td>1</td>\n      <td>0</td>\n      <td>0</td>\n    </tr>\n  </tbody>\n</table>\n</div>"
     },
     "execution_count": 100,
     "metadata": {},
     "output_type": "execute_result"
    }
   ],
   "source": [
    "pd.get_dummies(df[['price', 'color', 'size']])"
   ],
   "metadata": {
    "id": "wmOIPGIr7xcy"
   }
  },
  {
   "cell_type": "markdown",
   "source": [
    "Busca más información sobre otras transformaciones de datos categóricos y pon ejemplos sobre este df [Tutorial DataCamp super completo](https://www.datacamp.com/community/tutorials/categorical-data)"
   ],
   "metadata": {
    "collapsed": false,
    "id": "b5K6YTG_7xcy"
   }
  },
  {
   "cell_type": "markdown",
   "source": [
    "## 3. Escalado y estandarizado\n",
    "\n",
    "[Fuente](https://towardsdatascience.com/scale-standardize-or-normalize-with-scikit-learn-6ccc7d176a02)\n",
    "* Escalar generalmente significa cambiar el rango de los valores. La forma de la distribución no cambia. Piensa en cómo un modelo a escala de un edificio tiene las mismas proporciones que el original, solo que más pequeño. Por eso decimos que está dibujado a escala. El rango a menudo se establece en 0 a 1.\n",
    "* Estandarizar generalmente significa cambiar los valores para que la desviación estándar de la distribución sea igual a uno. El escalado a menudo está implícito.\n",
    "* Normalizar se puede usar para referirse a cualquiera de las cosas anteriores (¡y más!). Os sugiero que evitéis el término normalizar, porque tiene muchas definiciones y es propenso a crear confusión. Habitualmente, normalizar daría como resultado unos valores en el rango (-1,1)"
   ],
   "metadata": {
    "collapsed": false,
    "id": "qaT8Mw_Y7xcy"
   }
  },
  {
   "cell_type": "code",
   "execution_count": 101,
   "outputs": [
    {
     "data": {
      "text/plain": "     Alcohol  Malic acid   Ash  Alcalinity of ash  Magnesium  Total phenols  \\\n0      14.23        1.71  2.43               15.6        127           2.80   \n1      13.20        1.78  2.14               11.2        100           2.65   \n2      13.16        2.36  2.67               18.6        101           2.80   \n3      14.37        1.95  2.50               16.8        113           3.85   \n4      13.24        2.59  2.87               21.0        118           2.80   \n..       ...         ...   ...                ...        ...            ...   \n173    13.71        5.65  2.45               20.5         95           1.68   \n174    13.40        3.91  2.48               23.0        102           1.80   \n175    13.27        4.28  2.26               20.0        120           1.59   \n176    13.17        2.59  2.37               20.0        120           1.65   \n177    14.13        4.10  2.74               24.5         96           2.05   \n\n     Flavanoids  Nonflavanoid phenols  Proanthocyanins  Color intensity   Hue  \\\n0          3.06                  0.28             2.29             5.64  1.04   \n1          2.76                  0.26             1.28             4.38  1.05   \n2          3.24                  0.30             2.81             5.68  1.03   \n3          3.49                  0.24             2.18             7.80  0.86   \n4          2.69                  0.39             1.82             4.32  1.04   \n..          ...                   ...              ...              ...   ...   \n173        0.61                  0.52             1.06             7.70  0.64   \n174        0.75                  0.43             1.41             7.30  0.70   \n175        0.69                  0.43             1.35            10.20  0.59   \n176        0.68                  0.53             1.46             9.30  0.60   \n177        0.76                  0.56             1.35             9.20  0.61   \n\n     OD280/OD315 of diluted wines  Proline  Class  \n0                            3.92     1065      0  \n1                            3.40     1050      0  \n2                            3.17     1185      0  \n3                            3.45     1480      0  \n4                            2.93      735      0  \n..                            ...      ...    ...  \n173                          1.74      740      1  \n174                          1.56      750      1  \n175                          1.56      835      1  \n176                          1.62      840      1  \n177                          1.60      560      1  \n\n[178 rows x 14 columns]",
      "text/html": "<div>\n<style scoped>\n    .dataframe tbody tr th:only-of-type {\n        vertical-align: middle;\n    }\n\n    .dataframe tbody tr th {\n        vertical-align: top;\n    }\n\n    .dataframe thead th {\n        text-align: right;\n    }\n</style>\n<table border=\"1\" class=\"dataframe\">\n  <thead>\n    <tr style=\"text-align: right;\">\n      <th></th>\n      <th>Alcohol</th>\n      <th>Malic acid</th>\n      <th>Ash</th>\n      <th>Alcalinity of ash</th>\n      <th>Magnesium</th>\n      <th>Total phenols</th>\n      <th>Flavanoids</th>\n      <th>Nonflavanoid phenols</th>\n      <th>Proanthocyanins</th>\n      <th>Color intensity</th>\n      <th>Hue</th>\n      <th>OD280/OD315 of diluted wines</th>\n      <th>Proline</th>\n      <th>Class</th>\n    </tr>\n  </thead>\n  <tbody>\n    <tr>\n      <th>0</th>\n      <td>14.23</td>\n      <td>1.71</td>\n      <td>2.43</td>\n      <td>15.6</td>\n      <td>127</td>\n      <td>2.80</td>\n      <td>3.06</td>\n      <td>0.28</td>\n      <td>2.29</td>\n      <td>5.64</td>\n      <td>1.04</td>\n      <td>3.92</td>\n      <td>1065</td>\n      <td>0</td>\n    </tr>\n    <tr>\n      <th>1</th>\n      <td>13.20</td>\n      <td>1.78</td>\n      <td>2.14</td>\n      <td>11.2</td>\n      <td>100</td>\n      <td>2.65</td>\n      <td>2.76</td>\n      <td>0.26</td>\n      <td>1.28</td>\n      <td>4.38</td>\n      <td>1.05</td>\n      <td>3.40</td>\n      <td>1050</td>\n      <td>0</td>\n    </tr>\n    <tr>\n      <th>2</th>\n      <td>13.16</td>\n      <td>2.36</td>\n      <td>2.67</td>\n      <td>18.6</td>\n      <td>101</td>\n      <td>2.80</td>\n      <td>3.24</td>\n      <td>0.30</td>\n      <td>2.81</td>\n      <td>5.68</td>\n      <td>1.03</td>\n      <td>3.17</td>\n      <td>1185</td>\n      <td>0</td>\n    </tr>\n    <tr>\n      <th>3</th>\n      <td>14.37</td>\n      <td>1.95</td>\n      <td>2.50</td>\n      <td>16.8</td>\n      <td>113</td>\n      <td>3.85</td>\n      <td>3.49</td>\n      <td>0.24</td>\n      <td>2.18</td>\n      <td>7.80</td>\n      <td>0.86</td>\n      <td>3.45</td>\n      <td>1480</td>\n      <td>0</td>\n    </tr>\n    <tr>\n      <th>4</th>\n      <td>13.24</td>\n      <td>2.59</td>\n      <td>2.87</td>\n      <td>21.0</td>\n      <td>118</td>\n      <td>2.80</td>\n      <td>2.69</td>\n      <td>0.39</td>\n      <td>1.82</td>\n      <td>4.32</td>\n      <td>1.04</td>\n      <td>2.93</td>\n      <td>735</td>\n      <td>0</td>\n    </tr>\n    <tr>\n      <th>...</th>\n      <td>...</td>\n      <td>...</td>\n      <td>...</td>\n      <td>...</td>\n      <td>...</td>\n      <td>...</td>\n      <td>...</td>\n      <td>...</td>\n      <td>...</td>\n      <td>...</td>\n      <td>...</td>\n      <td>...</td>\n      <td>...</td>\n      <td>...</td>\n    </tr>\n    <tr>\n      <th>173</th>\n      <td>13.71</td>\n      <td>5.65</td>\n      <td>2.45</td>\n      <td>20.5</td>\n      <td>95</td>\n      <td>1.68</td>\n      <td>0.61</td>\n      <td>0.52</td>\n      <td>1.06</td>\n      <td>7.70</td>\n      <td>0.64</td>\n      <td>1.74</td>\n      <td>740</td>\n      <td>1</td>\n    </tr>\n    <tr>\n      <th>174</th>\n      <td>13.40</td>\n      <td>3.91</td>\n      <td>2.48</td>\n      <td>23.0</td>\n      <td>102</td>\n      <td>1.80</td>\n      <td>0.75</td>\n      <td>0.43</td>\n      <td>1.41</td>\n      <td>7.30</td>\n      <td>0.70</td>\n      <td>1.56</td>\n      <td>750</td>\n      <td>1</td>\n    </tr>\n    <tr>\n      <th>175</th>\n      <td>13.27</td>\n      <td>4.28</td>\n      <td>2.26</td>\n      <td>20.0</td>\n      <td>120</td>\n      <td>1.59</td>\n      <td>0.69</td>\n      <td>0.43</td>\n      <td>1.35</td>\n      <td>10.20</td>\n      <td>0.59</td>\n      <td>1.56</td>\n      <td>835</td>\n      <td>1</td>\n    </tr>\n    <tr>\n      <th>176</th>\n      <td>13.17</td>\n      <td>2.59</td>\n      <td>2.37</td>\n      <td>20.0</td>\n      <td>120</td>\n      <td>1.65</td>\n      <td>0.68</td>\n      <td>0.53</td>\n      <td>1.46</td>\n      <td>9.30</td>\n      <td>0.60</td>\n      <td>1.62</td>\n      <td>840</td>\n      <td>1</td>\n    </tr>\n    <tr>\n      <th>177</th>\n      <td>14.13</td>\n      <td>4.10</td>\n      <td>2.74</td>\n      <td>24.5</td>\n      <td>96</td>\n      <td>2.05</td>\n      <td>0.76</td>\n      <td>0.56</td>\n      <td>1.35</td>\n      <td>9.20</td>\n      <td>0.61</td>\n      <td>1.60</td>\n      <td>560</td>\n      <td>1</td>\n    </tr>\n  </tbody>\n</table>\n<p>178 rows × 14 columns</p>\n</div>"
     },
     "execution_count": 101,
     "metadata": {},
     "output_type": "execute_result"
    }
   ],
   "source": [
    "import pandas as pd\n",
    "\n",
    "df_wine = pd.read_csv('data/wine.data.csv')\n",
    "le = LabelEncoder()\n",
    "df_wine['Class'] = le.fit_transform(df_wine['Class'].values)\n",
    "df_wine"
   ],
   "metadata": {
    "id": "3n4x9JcQ7xcz"
   }
  },
  {
   "cell_type": "code",
   "execution_count": 102,
   "outputs": [
    {
     "data": {
      "text/plain": "(54, 124)"
     },
     "execution_count": 102,
     "metadata": {},
     "output_type": "execute_result"
    }
   ],
   "source": [
    "from sklearn.model_selection import train_test_split\n",
    "X, y = df_wine.iloc[:, :-1].values, df_wine.iloc[:, -1].values\n",
    "X_train, X_test, y_train, y_test = train_test_split(X, y, test_size=0.3, random_state=0)\n",
    "len(X_test), len(X_train)"
   ],
   "metadata": {
    "id": "KzV-A8YZ7xcz"
   }
  },
  {
   "cell_type": "markdown",
   "source": [
    "### MinMaxScaler\n",
    "\n",
    "Para cada valor de una función, MinMaxScaler resta el valor mínimo de la función y luego lo divide por el rango. El rango es la diferencia entre el máximo original y el mínimo original.\n",
    "MinMaxScaler conserva la forma de la distribución original. No cambia significativamente la información incrustada en los datos originales.\n",
    "Ten en cuenta que MinMaxScaler no reduce la importancia de los valores atípicos (o outlayers).\n",
    "El rango predeterminado para la función devuelta por MinMaxScaler es de 0 a 1."
   ],
   "metadata": {
    "collapsed": false,
    "id": "wXoXoD1s7xcz"
   }
  },
  {
   "cell_type": "code",
   "execution_count": 103,
   "outputs": [],
   "source": [
    "from sklearn.preprocessing import MinMaxScaler\n",
    "mms = MinMaxScaler()\n",
    "X_train_norm = mms.fit_transform(X_train)\n",
    "X_test_norm = mms.transform(X_test)"
   ],
   "metadata": {
    "id": "onqnDi2Z7xcz"
   }
  },
  {
   "cell_type": "code",
   "execution_count": 104,
   "outputs": [
    {
     "data": {
      "text/plain": "array([[0.72043011, 0.20378151, 0.53763441, ..., 0.48717949, 1.        ,\n        0.5854251 ],\n       [0.31989247, 0.08403361, 0.31182796, ..., 0.27350427, 0.64102564,\n        0.        ],\n       [0.60215054, 0.71218487, 0.48387097, ..., 0.04273504, 0.10622711,\n        0.42348178],\n       ...,\n       [0.37365591, 0.1512605 , 0.44623656, ..., 0.44444444, 0.61904762,\n        0.02672065],\n       [0.77150538, 0.16596639, 0.40860215, ..., 0.31623932, 0.75457875,\n        0.54493927],\n       [0.84139785, 0.34033613, 0.60215054, ..., 0.06837607, 0.16117216,\n        0.28178138]])"
     },
     "execution_count": 104,
     "metadata": {},
     "output_type": "execute_result"
    }
   ],
   "source": [
    "X_train_norm\n"
   ],
   "metadata": {
    "id": "2NzWyIO17xc0"
   }
  },
  {
   "cell_type": "code",
   "execution_count": 105,
   "outputs": [
    {
     "data": {
      "text/plain": "array([[ 0.72849462,  0.16386555,  0.47849462,  0.29896907,  0.52173913,\n         0.53956835,  0.74311927,  0.13461538,  0.37974684,  0.4364852 ,\n         0.32478632,  0.70695971,  0.60566802],\n       [ 0.47311828,  0.37394958,  0.60215054,  0.58762887,  0.45652174,\n         0.13669065,  0.27217125,  0.19230769,  0.26582278,  0.90926457,\n        -0.05128205,  0.07326007,  0.13603239],\n       [ 0.36021505,  0.05042017,  0.43010753,  0.43298969,  0.18478261,\n         0.86330935,  0.80428135,  0.09615385,  0.45886076,  0.30276982,\n         0.58119658,  0.58608059,  0.08744939],\n       [ 0.68010753,  0.17647059,  0.59139785,  0.51030928,  0.5       ,\n         0.66906475,  0.70642202,  0.11538462,  0.64240506,  0.47468959,\n         0.37606838,  0.64468864,  0.65425101],\n       [ 0.54301075,  1.03151261,  0.41397849,  0.56185567,  0.17391304,\n         0.54676259,  0.66666667,  0.30769231,  0.50316456,  0.1260745 ,\n         0.16239316,  0.67032967,  0.05506073],\n       [ 0.14247312,  0.24369748,  1.00537634,  0.92268041,  0.5326087 ,\n         0.74820144,  1.40978593,  0.63461538,  0.45886076,  0.45081184,\n         0.33333333,  0.88644689,  0.12388664],\n       [ 0.81451613,  0.26470588,  0.67204301,  0.36082474,  0.55434783,\n         0.53956835,  0.62385321,  0.32692308,  0.26265823,  0.36007641,\n         0.44444444,  0.84615385,  0.79595142],\n       [ 0.35752688,  0.61764706,  0.5483871 ,  0.53608247,  0.19565217,\n         0.43165468,  0.13761468,  0.69230769,  0.19620253,  0.60840497,\n         0.01709402,  0.11355311,  0.16842105],\n       [ 0.32795699,  0.17647059,  0.40860215,  0.43298969,  0.10869565,\n         0.19784173,  0.47706422,  0.44230769,  0.38291139,  0.20248329,\n         0.39316239,  0.6959707 ,  0.16032389],\n       [ 0.28225806,  0.19747899,  0.51612903,  0.40721649,  0.11956522,\n         0.17985612,  0.31498471,  0.73076923,  0.38607595,  0.1069723 ,\n         0.46153846,  0.36630037,  0.13603239],\n       [ 0.62634409,  0.35084034,  0.53225806,  0.48453608,  0.20652174,\n         0.10791367,  0.00917431,  0.44230769,  0.06962025,  0.41260745,\n         0.13675214,  0.43956044,  0.37894737],\n       [ 0.76612903,  0.87184874,  0.46774194,  0.48453608,  0.10869565,\n        -0.04316547, -0.03975535,  0.5       ,  0.08227848,  0.34574976,\n         0.03418803,  0.02197802,  0.08340081],\n       [ 0.85215054,  0.18277311,  0.58602151,  0.2371134 ,  0.45652174,\n         0.78057554,  0.89296636,  0.38461538,  0.49050633,  0.52244508,\n         0.43589744,  0.57875458,  0.92145749],\n       [ 0.36021505,  0.03781513,  0.39784946,  0.40721649,  0.19565217,\n         0.8705036 ,  1.0030581 ,  0.19230769,  0.48417722,  0.30754537,\n         0.42735043,  0.54945055,  0.28178138],\n       [ 0.68548387,  0.35504202,  0.71505376,  0.71649485,  0.38043478,\n         0.1618705 ,  0.11314985,  0.48076923,  0.35443038,  0.70487106,\n         0.17094017,  0.19413919,  0.35465587],\n       [ 0.26075269,  0.00630252,  0.34408602,  0.43298969,  0.17391304,\n         0.47482014,  0.54740061,  0.30769231,  0.31962025,  0.1165234 ,\n         0.71794872,  0.67765568, -0.02753036],\n       [ 0.73387097,  0.13445378,  0.72043011,  0.45876289,  0.67391304,\n         0.66546763,  0.6941896 ,  0.69230769,  0.2943038 ,  0.39350525,\n         0.60683761,  0.63369963,  0.74736842],\n       [ 0.84946237,  0.14705882,  0.60215054,  0.30412371,  0.41304348,\n         0.79136691,  1.05810398,  0.34615385,  0.4556962 ,  0.7086915 ,\n         0.58974359,  0.56776557,  1.10769231],\n       [ 0.4327957 ,  0.0987395 ,  0.35483871,  0.31958763,  0.32608696,\n         0.33093525,  0.28746177,  0.75      ,  0.06329114,  0.4269341 ,\n         0.37606838,  0.11721612,  0.11174089],\n       [ 0.75268817,  0.15966387,  0.66666667,  0.34020619,  0.26086957,\n         0.48561151,  0.7706422 ,  0.15384615,  0.59177215,  0.41260745,\n         0.5982906 ,  0.76923077,  0.77165992],\n       [ 0.55913978,  0.02521008,  0.1827957 ,  0.22680412,  0.08695652,\n         0.67625899,  0.82874618,  0.23076923,  0.58860759,  0.38395415,\n         0.4957265 ,  0.6996337 ,  0.15384615],\n       [ 0.54301075,  0.15966387,  0.63978495,  0.3814433 ,  0.30434783,\n         0.48561151,  0.59938838,  0.28846154,  0.32278481,  0.28366762,\n         0.4957265 ,  0.45421245,  0.64210526],\n       [ 0.59408602,  0.35714286,  0.81182796,  0.53608247,  0.52173913,\n         0.61151079,  0.67889908,  0.48076923,  0.44303797,  0.29035339,\n         0.42735043,  0.60805861,  0.34251012],\n       [ 0.39784946,  0.17647059,  0.33333333,  0.51030928,  0.16304348,\n         0.39568345,  0.44342508,  0.34615385,  0.33544304,  0.15854823,\n         0.42735043,  0.84249084,  0.29149798],\n       [ 0.34946237,  0.04411765,  0.49462366,  0.27835052,  0.33695652,\n         0.34172662,  0.18960245,  0.94230769, -0.00316456,  0.19006686,\n         0.60683761,  0.14652015,  0.29797571],\n       [ 0.40053763,  0.32352941,  0.43548387,  0.53608247,  0.19565217,\n         0.52158273,  0.55045872,  0.23076923,  0.25316456,  0.06876791,\n         0.30769231,  0.55311355,  0.01052632],\n       [ 0.37634409,  0.13445378,  0.5       ,  0.56185567,  0.17391304,\n         0.58992806,  0.81957187,  0.48076923,  0.42721519,  0.25405922,\n         0.12820513,  0.57509158,  0.03238866],\n       [ 0.30376344,  0.1512605 ,  0.51075269,  0.62886598,  0.2173913 ,\n         0.24460432,  0.37308869,  0.55769231,  0.36075949,  0.11174785,\n         0.67521368,  0.36263736,  0.14817814],\n       [ 0.19623656,  0.37605042,  0.83870968,  0.48453608,  0.35869565,\n         0.23381295,  0.47706422,  0.88461538,  0.19936709,  0.24068768,\n         0.58974359,  0.45054945,  0.2388664 ],\n       [ 0.73924731,  0.39285714,  0.50537634,  0.58762887,  0.2173913 ,\n         0.08992806,  0.06422018,  0.51923077,  0.19303797,  0.79274117,\n         0.13675214,  0.15018315,  0.24534413],\n       [ 0.6344086 ,  0.18487395,  0.67741935,  0.28350515,  0.25      ,\n         0.6294964 ,  0.75535168,  0.38461538,  0.32594937,  0.33619866,\n         0.32478632,  0.71428571,  0.71497976],\n       [ 0.85752688,  0.17016807,  0.50537634,  0.29381443,  0.52173913,\n         0.75539568,  0.77370031,  0.23076923,  0.50949367,  0.48710602,\n         0.34188034,  0.74725275,  0.53279352],\n       [ 0.27150538,  0.71638655,  0.5483871 ,  0.58762887,  0.10869565,\n         0.35971223,  0.39143731,  0.53846154,  0.2943038 ,  0.1260745 ,\n         0.21367521,  0.47619048,  0.21700405],\n       [ 0.85483871,  0.66176471,  0.58064516,  0.42783505,  0.44565217,\n         0.6294964 ,  0.66666667,  0.30769231,  0.26265823,  0.3782235 ,\n         0.28205128,  0.75457875,  0.62186235],\n       [ 1.02150538,  0.15756303,  0.43548387,  0.17525773,  0.29347826,\n         0.61151079,  0.7675841 ,  0.28846154,  0.49367089,  0.37440306,\n         0.46153846,  0.57875458,  0.59352227],\n       [ 0.54301075,  0.18487395,  0.39784946,  0.32989691,  0.40217391,\n         0.68345324,  0.77370031,  0.26923077,  0.50949367,  0.3591213 ,\n         0.29059829,  0.76190476,  0.46396761],\n       [ 0.71505376,  0.49789916,  0.6344086 ,  0.48453608,  0.40217391,\n         0.26258993,  0.02752294,  0.69230769,  0.12025316,  0.43935053,\n         0.35897436,  0.2014652 ,  0.29797571],\n       [ 0.44623656,  0.13445378,  0.48387097,  0.52061856,  0.10869565,\n         0.10071942,  0.30275229,  0.84615385,  0.37974684,  0.16905444,\n         0.35897436,  0.28937729,  0.14817814],\n       [ 0.15860215,  0.23109244,  0.49462366,  0.3814433 ,  0.30434783,\n         0.69064748,  0.54740061,  0.05769231,  0.2943038 ,  0.18815664,\n         0.52991453,  0.61904762,  0.02672065],\n       [ 0.63709677,  0.63445378,  0.60215054,  0.63917526,  0.34782609,\n         0.25179856,  0.08562691,  0.55769231,  0.31329114,  0.57497612,\n         0.13675214,  0.10622711,  0.35465587],\n       [ 0.66397849,  0.19327731,  0.67204301,  0.48453608,  0.2826087 ,\n         0.51438849,  0.65443425,  0.26923077,  0.39240506,  0.2139446 ,\n         0.4957265 ,  0.93406593,  0.43157895],\n       [ 0.72580645,  0.12815126,  0.72043011,  0.61340206,  0.33695652,\n         0.68345324,  0.85015291,  0.28846154,  0.62025316,  0.42215855,\n         0.55555556,  0.52747253,  0.78785425],\n       [ 0.33870968,  0.40756303,  0.46236559,  0.3814433 ,  0.19565217,\n         0.48561151,  0.54434251,  0.21153846,  0.49683544,  0.08309456,\n         0.52136752,  0.74358974, -0.01781377],\n       [ 0.42204301,  0.09453782,  0.29032258,  0.40721649,  0.19565217,\n         0.12589928,  0.27217125,  0.28846154,  0.2943038 ,  0.11174785,\n         0.42735043,  0.54945055,  0.20242915],\n       [ 0.10215054, -0.03151261,  0.61290323,  0.53608247,  0.19565217,\n         0.49640288,  0.47094801,  0.53846154,  0.32278481,  0.17191977,\n         0.47863248,  0.38095238,  0.09878543],\n       [ 0.7016129 ,  0.46428571,  0.64516129,  0.2371134 ,  0.5       ,\n         0.57553957,  0.78287462,  0.05769231,  0.39240506,  0.36485196,\n         0.35897436,  0.76556777,  0.43157895],\n       [ 0.42204301,  0.32983193,  0.4516129 ,  0.40721649,  0.26086957,\n         0.18705036,  0.05810398,  0.94230769,  0.16455696,  0.55587393,\n         0.16239316,  0.11355311,  0.31012146],\n       [ 0.25      ,  0.04201681,  0.50537634,  0.53608247,  0.33695652,\n         0.82014388,  0.51070336, -0.01923077,  0.38924051,  0.1843362 ,\n         0.38461538,  0.68131868,  0.46477733],\n       [ 0.32795699,  0.62815126,  0.4516129 ,  0.40721649,  0.45652174,\n         0.10071942,  0.09480122,  0.28846154,  0.2278481 ,  0.66189112,\n         0.09401709,  0.26739927,  0.43967611],\n       [ 0.87903226,  0.21638655,  0.7311828 ,  0.48453608,  0.54347826,\n         0.61151079,  0.81651376,  0.36538462,  0.49050633,  0.46991404,\n         0.45299145,  0.50549451,  0.78380567],\n       [ 0.49731183,  0.44117647,  0.55913978,  0.48453608,  0.36956522,\n         0.07194245,  0.2293578 ,  0.19230769,  0.12974684,  0.39350525,\n         0.17094017,  0.05494505,  0.17651822],\n       [ 0.66129032,  0.56722689,  0.44623656,  0.45876289,  0.19565217,\n         0.18705036,  0.0030581 ,  0.84615385,  0.14556962,  0.42215855,\n         0.23076923,  0.2014652 ,  0.21700405],\n       [ 0.68010753,  0.17226891,  0.51075269,  0.28865979,  0.51086957,\n         0.73741007,  0.86238532,  0.38461538,  0.60759494,  0.46322827,\n         0.35042735,  0.77289377,  0.39109312],\n       [ 0.88978495,  0.16596639,  0.72043011,  0.74226804,  0.30434783,\n         0.61151079,  0.25688073,  0.75      ,  0.72151899,  1.11938873,\n         0.02564103,  0.25274725,  0.28178138]])"
     },
     "execution_count": 105,
     "metadata": {},
     "output_type": "execute_result"
    }
   ],
   "source": [
    "X_test_norm"
   ],
   "metadata": {
    "id": "pB29PPGg7xc0"
   }
  },
  {
   "cell_type": "code",
   "execution_count": 106,
   "outputs": [
    {
     "data": {
      "text/plain": "array([0.72043011, 0.20378151, 0.53763441, 0.30927835, 0.33695652,\n       0.54316547, 0.73700306, 0.25      , 0.40189873, 0.24068768,\n       0.48717949, 1.        , 0.5854251 ])"
     },
     "execution_count": 106,
     "metadata": {},
     "output_type": "execute_result"
    }
   ],
   "source": [
    "X_train_norm[0]"
   ],
   "metadata": {
    "id": "XJ_7RYuO7xc0"
   }
  },
  {
   "cell_type": "markdown",
   "source": [
    "Observa cómo las características están todas en la misma escala relativa. Se han mantenido los espacios relativos entre los valores de cada característica.\n",
    "MinMaxScaler no es un mal escalador para empezar, a menos que sepa que desee que su función tenga una distribución normal o que tenga valores atípicos y desee que tengan una influencia reducida."
   ],
   "metadata": {
    "collapsed": false
   }
  },
  {
   "cell_type": "markdown",
   "source": [
    "### StandardScaler\n",
    "\n",
    "StandardScaler estandariza una característica restando la media y luego escalando a la varianza de la unidad. La varianza unitaria significa dividir todos los valores por la desviación estándar. StandardScaler da como resultado una distribución con una desviación estándar igual a 1. La varianza también es igual a 1, porque varianza = desviación estándar al cuadrado. Y 1 al cuadrado = 1.\n",
    "StandardScaler hace que la media de la distribución sea aproximadamente 0.\n",
    "Los algoritmos de aprendizaje profundo a menudo requieren media cero y varianza unitaria. Los algoritmos de tipo regresión también se benefician de datos normalmente distribuidos con muestras de pequeño tamaño.\n",
    "[Link](https://interactivechaos.com/es/manual/tutorial-de-machine-learning/standard-scaler)"
   ],
   "metadata": {
    "collapsed": false,
    "id": "2PKMqTi27xc0"
   }
  },
  {
   "cell_type": "code",
   "execution_count": 107,
   "outputs": [],
   "source": [
    "from sklearn.preprocessing import StandardScaler\n",
    "stdsc = StandardScaler()\n",
    "X_train_std = stdsc.fit_transform(X_train)\n",
    "X_test_std = stdsc.transform(X_test)"
   ],
   "metadata": {
    "id": "6vDIa5Ed7xc0"
   }
  },
  {
   "cell_type": "code",
   "execution_count": 108,
   "outputs": [
    {
     "data": {
      "text/plain": "array([[ 0.91083058, -0.46259897, -0.01142613, ...,  0.65706596,\n         1.94354495,  0.93700997],\n       [-0.95609928, -0.96608672, -1.53725357, ..., -0.40859506,\n         0.58118003, -1.41336684],\n       [ 0.35952243,  1.67501572, -0.37471838, ..., -1.55950896,\n        -1.44846566,  0.28683658],\n       ...,\n       [-0.70550467, -0.68342693, -0.62902295, ...,  0.44393375,\n         0.49776993, -1.30608823],\n       [ 1.14889546, -0.6215951 , -0.88332752, ..., -0.19546286,\n         1.0121322 ,  0.77446662],\n       [ 1.47466845,  0.11155374,  0.42452457, ..., -1.43162964,\n        -1.23994042, -0.28206514]])"
     },
     "execution_count": 108,
     "metadata": {},
     "output_type": "execute_result"
    }
   ],
   "source": [
    "X_train_std"
   ],
   "metadata": {
    "id": "c1RKcJGv7xc1"
   }
  },
  {
   "cell_type": "code",
   "execution_count": 109,
   "outputs": [
    {
     "data": {
      "text/plain": "<matplotlib.collections.PathCollection at 0x16c917e2d40>"
     },
     "execution_count": 109,
     "metadata": {},
     "output_type": "execute_result"
    },
    {
     "data": {
      "text/plain": "<Figure size 640x480 with 1 Axes>",
      "image/png": "[encoded data removed]"
     },
     "metadata": {},
     "output_type": "display_data"
    }
   ],
   "source": [
    "from matplotlib.pyplot import scatter\n",
    "\n",
    "xx = np.arange(len(X_train_std))\n",
    "yy1 = X_train_norm[:,1]\n",
    "yy2 = X_train_std[:,1]\n",
    "scatter(xx, yy1, color='b')\n",
    "scatter(xx, yy2, color='r')"
   ],
   "metadata": {
    "id": "LHbOHane7xc1"
   }
  },
  {
   "cell_type": "code",
   "execution_count": 110,
   "outputs": [
    {
     "data": {
      "text/plain": "   Numbers  StandardScaler  MinMaxScaler\n0        5       -0.702764      0.000000\n1       10       -0.574989      0.052632\n2       15       -0.447214      0.105263\n3      100        1.724967      1.000000",
      "text/html": "<div>\n<style scoped>\n    .dataframe tbody tr th:only-of-type {\n        vertical-align: middle;\n    }\n\n    .dataframe tbody tr th {\n        vertical-align: top;\n    }\n\n    .dataframe thead th {\n        text-align: right;\n    }\n</style>\n<table border=\"1\" class=\"dataframe\">\n  <thead>\n    <tr style=\"text-align: right;\">\n      <th></th>\n      <th>Numbers</th>\n      <th>StandardScaler</th>\n      <th>MinMaxScaler</th>\n    </tr>\n  </thead>\n  <tbody>\n    <tr>\n      <th>0</th>\n      <td>5</td>\n      <td>-0.702764</td>\n      <td>0.000000</td>\n    </tr>\n    <tr>\n      <th>1</th>\n      <td>10</td>\n      <td>-0.574989</td>\n      <td>0.052632</td>\n    </tr>\n    <tr>\n      <th>2</th>\n      <td>15</td>\n      <td>-0.447214</td>\n      <td>0.105263</td>\n    </tr>\n    <tr>\n      <th>3</th>\n      <td>100</td>\n      <td>1.724967</td>\n      <td>1.000000</td>\n    </tr>\n  </tbody>\n</table>\n</div>"
     },
     "execution_count": 110,
     "metadata": {},
     "output_type": "execute_result"
    }
   ],
   "source": [
    "import pandas as pd\n",
    "data = [5,10,15,100]\n",
    "df = pd.DataFrame(data, columns=['Numbers'])\n",
    "\n",
    "scaler1 = StandardScaler()\n",
    "df_standard = scaler1.fit_transform(df)\n",
    "\n",
    "scaler2 = MinMaxScaler()\n",
    "df_minmax = scaler2.fit_transform(df)\n",
    "\n",
    "df['StandardScaler'] = df_standard\n",
    "df['MinMaxScaler'] = df_minmax\n",
    "\n",
    "df\n"
   ],
   "metadata": {
    "collapsed": false
   }
  },
  {
   "cell_type": "markdown",
   "source": [
    "## Ejercicio\n",
    "\n",
    "Carga el dataset sample sample_data.csv que tienes en el directorio data.\n",
    "1. Consulta cuántos valores nulos tiene el dataset y en qué columnas.\n",
    "2. Borra las filas que tengan valores nulos en las columnas Country y Purchased.\n",
    "3. Sustituye los valores nulos de las columnas Age y Salary por la media.\n",
    "4. Transforma la columna Country con un OneHotEncoder.\n",
    "5. Transforma la columna Purchased con un LabelEncoder.\n",
    "6. Divide el dataset en 4 grupos (training y testing).\n",
    "7. Escala las columnas Age y Salary con un StandardScaler."
   ],
   "metadata": {
    "collapsed": false
   }
  },
  {
   "cell_type": "code",
   "execution_count": 12,
   "outputs": [
    {
     "name": "stdout",
     "output_type": "stream",
     "text": [
      "<class 'pandas.core.frame.DataFrame'>\n",
      "RangeIndex: 29 entries, 0 to 28\n",
      "Data columns (total 4 columns):\n",
      " #   Column     Non-Null Count  Dtype  \n",
      "---  ------     --------------  -----  \n",
      " 0   Country    28 non-null     object \n",
      " 1   Age        27 non-null     float64\n",
      " 2   Salary     28 non-null     float64\n",
      " 3   Purchased  28 non-null     object \n",
      "dtypes: float64(2), object(2)\n",
      "memory usage: 1.0+ KB\n",
      "(20, 3) (7, 3)\n",
      "    Country   Age        Salary\n",
      "2   Germany  30.0  54000.000000\n",
      "26   France  37.0  67000.000000\n",
      "16    Spain  34.0  44000.000000\n",
      "19  Nigeria  29.0  77000.000000\n",
      "5   Germany  40.0  53038.461538\n",
      "11  Nigeria  50.0  60000.000000\n",
      "25  Germany  45.0  50000.000000\n"
     ]
    },
    {
     "data": {
      "text/plain": "    Country       Age    Salary\n15  Nigeria -0.079240 -0.409231\n21   France  0.978856 -0.164183\n22  Germany  1.684253  1.551158\n18    Spain -0.314372 -0.164183\n1     Spain -1.019769 -0.164183\n10   France  0.155893  0.767003\n28  Nigeria -0.784636 -1.781504\n27  Nigeria -0.667070 -1.046358\n8    France  1.449120  1.355119\n6    France -0.079240  0.325915\n4   Nigeria -2.077864 -1.781504\n20    Spain  0.066542  0.276905\n9   Germany  1.684253  1.551158\n7     Spain  0.066542  0.031856\n24   France  0.155893 -1.389426\n3     Spain  0.273459  0.472944\n0    France  0.978856  1.012051\n23   France  0.155893  0.767003\n17    Spain -1.019769 -0.164183\n12   France -1.607599 -1.046358",
      "text/html": "<div>\n<style scoped>\n    .dataframe tbody tr th:only-of-type {\n        vertical-align: middle;\n    }\n\n    .dataframe tbody tr th {\n        vertical-align: top;\n    }\n\n    .dataframe thead th {\n        text-align: right;\n    }\n</style>\n<table border=\"1\" class=\"dataframe\">\n  <thead>\n    <tr style=\"text-align: right;\">\n      <th></th>\n      <th>Country</th>\n      <th>Age</th>\n      <th>Salary</th>\n    </tr>\n  </thead>\n  <tbody>\n    <tr>\n      <th>15</th>\n      <td>Nigeria</td>\n      <td>-0.079240</td>\n      <td>-0.409231</td>\n    </tr>\n    <tr>\n      <th>21</th>\n      <td>France</td>\n      <td>0.978856</td>\n      <td>-0.164183</td>\n    </tr>\n    <tr>\n      <th>22</th>\n      <td>Germany</td>\n      <td>1.684253</td>\n      <td>1.551158</td>\n    </tr>\n    <tr>\n      <th>18</th>\n      <td>Spain</td>\n      <td>-0.314372</td>\n      <td>-0.164183</td>\n    </tr>\n    <tr>\n      <th>1</th>\n      <td>Spain</td>\n      <td>-1.019769</td>\n      <td>-0.164183</td>\n    </tr>\n    <tr>\n      <th>10</th>\n      <td>France</td>\n      <td>0.155893</td>\n      <td>0.767003</td>\n    </tr>\n    <tr>\n      <th>28</th>\n      <td>Nigeria</td>\n      <td>-0.784636</td>\n      <td>-1.781504</td>\n    </tr>\n    <tr>\n      <th>27</th>\n      <td>Nigeria</td>\n      <td>-0.667070</td>\n      <td>-1.046358</td>\n    </tr>\n    <tr>\n      <th>8</th>\n      <td>France</td>\n      <td>1.449120</td>\n      <td>1.355119</td>\n    </tr>\n    <tr>\n      <th>6</th>\n      <td>France</td>\n      <td>-0.079240</td>\n      <td>0.325915</td>\n    </tr>\n    <tr>\n      <th>4</th>\n      <td>Nigeria</td>\n      <td>-2.077864</td>\n      <td>-1.781504</td>\n    </tr>\n    <tr>\n      <th>20</th>\n      <td>Spain</td>\n      <td>0.066542</td>\n      <td>0.276905</td>\n    </tr>\n    <tr>\n      <th>9</th>\n      <td>Germany</td>\n      <td>1.684253</td>\n      <td>1.551158</td>\n    </tr>\n    <tr>\n      <th>7</th>\n      <td>Spain</td>\n      <td>0.066542</td>\n      <td>0.031856</td>\n    </tr>\n    <tr>\n      <th>24</th>\n      <td>France</td>\n      <td>0.155893</td>\n      <td>-1.389426</td>\n    </tr>\n    <tr>\n      <th>3</th>\n      <td>Spain</td>\n      <td>0.273459</td>\n      <td>0.472944</td>\n    </tr>\n    <tr>\n      <th>0</th>\n      <td>France</td>\n      <td>0.978856</td>\n      <td>1.012051</td>\n    </tr>\n    <tr>\n      <th>23</th>\n      <td>France</td>\n      <td>0.155893</td>\n      <td>0.767003</td>\n    </tr>\n    <tr>\n      <th>17</th>\n      <td>Spain</td>\n      <td>-1.019769</td>\n      <td>-0.164183</td>\n    </tr>\n    <tr>\n      <th>12</th>\n      <td>France</td>\n      <td>-1.607599</td>\n      <td>-1.046358</td>\n    </tr>\n  </tbody>\n</table>\n</div>"
     },
     "execution_count": 12,
     "metadata": {},
     "output_type": "execute_result"
    }
   ],
   "source": [
    "#0\n",
    "import pandas as pd\n",
    "df2 = pd.read_csv('data/sample_data.csv')\n",
    "#1\n",
    "df2.isnull().sum()\n",
    "df2.info()\n",
    "#2\n",
    "df2.dropna(subset=['Country','Purchased'],inplace=True)\n",
    "\n",
    "#3\n",
    "df2['Age'].fillna(df2['Age'].mean(), inplace=True)\n",
    "df2['Salary'].fillna(df2['Salary'].mean(), inplace=True)\n",
    "\n",
    "#4\n",
    "#Solución con get_dummies\n",
    "df= pd.get_dummies(df2, columns=['Country'])\n",
    "\n",
    "#Solución con OneHotEncoder, pero que no funciona\n",
    "#from sklearn.preprocessing import OneHotEncoder\n",
    "#ohe = OneHotEncoder()\n",
    "#ohe.fit_transform(df2[:,0:1]).toarray()\n",
    "#df2\n",
    "\n",
    "#Solución con OneHotEncoder dentro de un ColumnTransformer, que sí funciona, pero se pierden los nombres de las columnas\n",
    "#from sklearn.compose import ColumnTransformer\n",
    "#from sklearn.preprocessing import OneHotEncoder\n",
    "\n",
    "#ct = ColumnTransformer(transformers=[('Country', OneHotEncoder(), [0])],remainder='passthrough')\n",
    "#df2 = ct.fit_transform(df2)\n",
    "#print(ct.get_feature_names_out())\n",
    "#df2\n",
    "\n",
    "#5\n",
    "from sklearn.preprocessing import LabelEncoder\n",
    "le = LabelEncoder()\n",
    "df2['Purchased'] = le.fit_transform(df2['Purchased'])\n",
    "df2\n",
    "\n",
    "\n",
    "#6\n",
    "from sklearn.model_selection import train_test_split\n",
    "X, y = df2.iloc[:, :-1], df2.iloc[:, -1]\n",
    "X_train, X_test, y_train, y_test = train_test_split(X,y,random_state=0)\n",
    "#X_train e X_test son dataframes mientras que y_train e y_test son arrays numpy\n",
    "print(X_train.shape, X_test.shape)\n",
    "print(X_test)\n",
    "\n",
    "#7\n",
    "from sklearn.preprocessing import StandardScaler\n",
    "scaler = StandardScaler()\n",
    "X_train[['Age', 'Salary']] = scaler.fit_transform(X_train[['Age','Salary']].values)\n",
    "X_test[['Age', 'Salary']] = scaler.transform(X_test[['Age','Salary']].values)\n",
    "X_train"
   ],
   "metadata": {
    "collapsed": false
   }
  },
  {
   "cell_type": "markdown",
   "source": [
    "# Webgrafia\n",
    "\n",
    "\n",
    "[Web Bogotobogo](https://www.bogotobogo.com/python/scikit-learn/scikit_machine_learning_Data_Preprocessing-Missing-Data-Categorical-Data.php)\n",
    "[Tutorial DataCamp sobre Categorical Data](https://www.datacamp.com/community/tutorials/categorical-data)\n",
    "[Curso de Tirtjakupto Sarkar](https://github.com/tirthajyoti/Machine-Learning-with-Python)\n",
    "[DataCamp](https://www.datacamp.com/)\n",
    "[Aprende IA](https://aprendeia.com/limpieza-y-procesamiento-de-datos-con-codigo-en-python/)\n"
   ],
   "metadata": {
    "collapsed": false,
    "id": "jSaI3F157xc1"
   }
  },
  {
   "cell_type": "markdown",
   "source": [
    "# Licencia\n",
    "\n",
    "[Attributon-ShacerAlike 4.0 International](https://creativecommons.org/licenses/by-sa/4.0/)\n",
    "\n",
    "Puedes utilizar libremente este material, con las siguientes condiciones:\n",
    "\n",
    "* Atribuir la autoría a este documento.\n",
    "* Si lo utilizas y haces cambios, deberás liberarlo también bajo la misma licencia."
   ],
   "metadata": {
    "collapsed": false,
    "id": "XtRTOLbX7xc1"
   }
  }
 ],
 "metadata": {
  "kernelspec": {
   "name": "python3",
   "language": "python",
   "display_name": "Python 3"
  },
  "language_info": {
   "codemirror_mode": {
    "name": "ipython",
    "version": 3
   },
   "file_extension": ".py",
   "mimetype": "text/x-python",
   "name": "python",
   "nbconvert_exporter": "python",
   "pygments_lexer": "ipython3",
   "version": "3.7.3"
  },
  "colab": {
   "name": "Preprocessing.ipynb",
   "provenance": []
  }
 },
 "nbformat": 4,
 "nbformat_minor": 0
}
