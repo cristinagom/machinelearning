{
 "cells": [
  {
   "cell_type": "markdown",
   "metadata": {
    "id": "H-bvGvSw3AHa"
   },
   "source": [
    "# Review : Exploratory Data Analysis con Pandas y Preprocessing\n",
    "#### UD1. Introducción al Machine Learning\n",
    "#### MP. Sistemas de Aprendizaxe Automático\n",
    "#### IES de Teis (Vigo), Cristina Gómez Alonso"
   ]
  },
  {
   "cell_type": "markdown",
   "metadata": {
    "collapsed": true,
    "id": "kmOVlIdG3AHg"
   },
   "source": [
    "En este cuarto notebook repasaremos los conceptos trabajados anteriormente\n"
   ]
  },
  {
   "cell_type": "markdown",
   "metadata": {
    "id": "xs4L4L063AHg"
   },
   "source": [
    "### *Ejercicio 0: Importación*\n",
    "\n",
    "Carga en un dataframe el fichero adults.csv y muestra las primeras 10 filas."
   ]
  },
  {
   "cell_type": "code",
   "execution_count": 64,
   "outputs": [
    {
     "data": {
      "text/plain": "    age         workclass  fnlwgt     education  education-num  \\\n0  50.0  Self-emp-not-inc   83311     Bachelors           13.0   \n1  38.0           Private  215646       HS-grad            9.0   \n2  53.0           Private  234721          11th            7.0   \n3  28.0           Private  338409     Bachelors           13.0   \n4  37.0           Private  284582       Masters           14.0   \n5  49.0           Private  160187           9th            5.0   \n6  52.0  Self-emp-not-inc  209642       HS-grad            9.0   \n7  31.0           Private   45781       Masters           14.0   \n8  42.0           Private  159449     Bachelors           13.0   \n9  37.0           Private  280464  Some-college           10.0   \n\n          marital-status         occupation   relationship   race     sex  \\\n0     Married-civ-spouse    Exec-managerial        Husband  White    Male   \n1               Divorced  Handlers-cleaners  Not-in-family  White    Male   \n2     Married-civ-spouse  Handlers-cleaners        Husband  Black    Male   \n3     Married-civ-spouse     Prof-specialty           Wife  Black  Female   \n4     Married-civ-spouse    Exec-managerial           Wife  White  Female   \n5  Married-spouse-absent      Other-service  Not-in-family  Black  Female   \n6     Married-civ-spouse    Exec-managerial        Husband  White    Male   \n7          Never-married     Prof-specialty  Not-in-family  White  Female   \n8     Married-civ-spouse    Exec-managerial        Husband  White    Male   \n9     Married-civ-spouse    Exec-managerial        Husband  Black    Male   \n\n   capital-gain  capital-loss  hours-per-week native-country  gains  \n0             0             0            13.0  United-States  <=50K  \n1             0             0            40.0  United-States  <=50K  \n2             0             0            40.0  United-States  <=50K  \n3             0             0            40.0           Cuba  <=50K  \n4             0             0            40.0  United-States  <=50K  \n5             0             0            16.0        Jamaica  <=50K  \n6             0             0            45.0  United-States   >50K  \n7         14084             0            50.0  United-States   >50K  \n8          5178             0            40.0  United-States   >50K  \n9             0             0            80.0  United-States   >50K  ",
      "text/html": "<div>\n<style scoped>\n    .dataframe tbody tr th:only-of-type {\n        vertical-align: middle;\n    }\n\n    .dataframe tbody tr th {\n        vertical-align: top;\n    }\n\n    .dataframe thead th {\n        text-align: right;\n    }\n</style>\n<table border=\"1\" class=\"dataframe\">\n  <thead>\n    <tr style=\"text-align: right;\">\n      <th></th>\n      <th>age</th>\n      <th>workclass</th>\n      <th>fnlwgt</th>\n      <th>education</th>\n      <th>education-num</th>\n      <th>marital-status</th>\n      <th>occupation</th>\n      <th>relationship</th>\n      <th>race</th>\n      <th>sex</th>\n      <th>capital-gain</th>\n      <th>capital-loss</th>\n      <th>hours-per-week</th>\n      <th>native-country</th>\n      <th>gains</th>\n    </tr>\n  </thead>\n  <tbody>\n    <tr>\n      <th>0</th>\n      <td>50.0</td>\n      <td>Self-emp-not-inc</td>\n      <td>83311</td>\n      <td>Bachelors</td>\n      <td>13.0</td>\n      <td>Married-civ-spouse</td>\n      <td>Exec-managerial</td>\n      <td>Husband</td>\n      <td>White</td>\n      <td>Male</td>\n      <td>0</td>\n      <td>0</td>\n      <td>13.0</td>\n      <td>United-States</td>\n      <td>&lt;=50K</td>\n    </tr>\n    <tr>\n      <th>1</th>\n      <td>38.0</td>\n      <td>Private</td>\n      <td>215646</td>\n      <td>HS-grad</td>\n      <td>9.0</td>\n      <td>Divorced</td>\n      <td>Handlers-cleaners</td>\n      <td>Not-in-family</td>\n      <td>White</td>\n      <td>Male</td>\n      <td>0</td>\n      <td>0</td>\n      <td>40.0</td>\n      <td>United-States</td>\n      <td>&lt;=50K</td>\n    </tr>\n    <tr>\n      <th>2</th>\n      <td>53.0</td>\n      <td>Private</td>\n      <td>234721</td>\n      <td>11th</td>\n      <td>7.0</td>\n      <td>Married-civ-spouse</td>\n      <td>Handlers-cleaners</td>\n      <td>Husband</td>\n      <td>Black</td>\n      <td>Male</td>\n      <td>0</td>\n      <td>0</td>\n      <td>40.0</td>\n      <td>United-States</td>\n      <td>&lt;=50K</td>\n    </tr>\n    <tr>\n      <th>3</th>\n      <td>28.0</td>\n      <td>Private</td>\n      <td>338409</td>\n      <td>Bachelors</td>\n      <td>13.0</td>\n      <td>Married-civ-spouse</td>\n      <td>Prof-specialty</td>\n      <td>Wife</td>\n      <td>Black</td>\n      <td>Female</td>\n      <td>0</td>\n      <td>0</td>\n      <td>40.0</td>\n      <td>Cuba</td>\n      <td>&lt;=50K</td>\n    </tr>\n    <tr>\n      <th>4</th>\n      <td>37.0</td>\n      <td>Private</td>\n      <td>284582</td>\n      <td>Masters</td>\n      <td>14.0</td>\n      <td>Married-civ-spouse</td>\n      <td>Exec-managerial</td>\n      <td>Wife</td>\n      <td>White</td>\n      <td>Female</td>\n      <td>0</td>\n      <td>0</td>\n      <td>40.0</td>\n      <td>United-States</td>\n      <td>&lt;=50K</td>\n    </tr>\n    <tr>\n      <th>5</th>\n      <td>49.0</td>\n      <td>Private</td>\n      <td>160187</td>\n      <td>9th</td>\n      <td>5.0</td>\n      <td>Married-spouse-absent</td>\n      <td>Other-service</td>\n      <td>Not-in-family</td>\n      <td>Black</td>\n      <td>Female</td>\n      <td>0</td>\n      <td>0</td>\n      <td>16.0</td>\n      <td>Jamaica</td>\n      <td>&lt;=50K</td>\n    </tr>\n    <tr>\n      <th>6</th>\n      <td>52.0</td>\n      <td>Self-emp-not-inc</td>\n      <td>209642</td>\n      <td>HS-grad</td>\n      <td>9.0</td>\n      <td>Married-civ-spouse</td>\n      <td>Exec-managerial</td>\n      <td>Husband</td>\n      <td>White</td>\n      <td>Male</td>\n      <td>0</td>\n      <td>0</td>\n      <td>45.0</td>\n      <td>United-States</td>\n      <td>&gt;50K</td>\n    </tr>\n    <tr>\n      <th>7</th>\n      <td>31.0</td>\n      <td>Private</td>\n      <td>45781</td>\n      <td>Masters</td>\n      <td>14.0</td>\n      <td>Never-married</td>\n      <td>Prof-specialty</td>\n      <td>Not-in-family</td>\n      <td>White</td>\n      <td>Female</td>\n      <td>14084</td>\n      <td>0</td>\n      <td>50.0</td>\n      <td>United-States</td>\n      <td>&gt;50K</td>\n    </tr>\n    <tr>\n      <th>8</th>\n      <td>42.0</td>\n      <td>Private</td>\n      <td>159449</td>\n      <td>Bachelors</td>\n      <td>13.0</td>\n      <td>Married-civ-spouse</td>\n      <td>Exec-managerial</td>\n      <td>Husband</td>\n      <td>White</td>\n      <td>Male</td>\n      <td>5178</td>\n      <td>0</td>\n      <td>40.0</td>\n      <td>United-States</td>\n      <td>&gt;50K</td>\n    </tr>\n    <tr>\n      <th>9</th>\n      <td>37.0</td>\n      <td>Private</td>\n      <td>280464</td>\n      <td>Some-college</td>\n      <td>10.0</td>\n      <td>Married-civ-spouse</td>\n      <td>Exec-managerial</td>\n      <td>Husband</td>\n      <td>Black</td>\n      <td>Male</td>\n      <td>0</td>\n      <td>0</td>\n      <td>80.0</td>\n      <td>United-States</td>\n      <td>&gt;50K</td>\n    </tr>\n  </tbody>\n</table>\n</div>"
     },
     "execution_count": 64,
     "metadata": {},
     "output_type": "execute_result"
    }
   ],
   "source": [
    "import pandas as pd\n",
    "\n",
    "adults = pd.read_csv('data/adult.csv', index_col=False,skipinitialspace=True)\n",
    "adults.head(10)"
   ],
   "metadata": {
    "id": "7cfjCPne3AHh"
   }
  },
  {
   "cell_type": "markdown",
   "source": [
    "### *Ejercicio 1: Datos generales*\n",
    "\n",
    "1. ¿Cuántas filas y columnas tiene el dataset?"
   ],
   "metadata": {
    "collapsed": false,
    "id": "r5FMr-e43AHi"
   }
  },
  {
   "cell_type": "code",
   "execution_count": 65,
   "outputs": [
    {
     "data": {
      "text/plain": "(32560, 15)"
     },
     "execution_count": 65,
     "metadata": {},
     "output_type": "execute_result"
    }
   ],
   "source": [
    "adults.shape"
   ],
   "metadata": {
    "id": "QJgkZ2OJ3AHi"
   }
  },
  {
   "cell_type": "markdown",
   "source": [
    "2. Muestra información detallada de cada columna. Para cada tipo de datos, ¿Cuántas columnas tienes de dicho tipo?"
   ],
   "metadata": {
    "collapsed": false,
    "id": "rul7JpSS3AHj"
   }
  },
  {
   "cell_type": "code",
   "execution_count": 66,
   "outputs": [
    {
     "name": "stdout",
     "output_type": "stream",
     "text": [
      "<class 'pandas.core.frame.DataFrame'>\n",
      "RangeIndex: 32560 entries, 0 to 32559\n",
      "Data columns (total 15 columns):\n",
      " #   Column          Non-Null Count  Dtype  \n",
      "---  ------          --------------  -----  \n",
      " 0   age             32559 non-null  float64\n",
      " 1   workclass       32557 non-null  object \n",
      " 2   fnlwgt          32560 non-null  int64  \n",
      " 3   education       32560 non-null  object \n",
      " 4   education-num   32554 non-null  float64\n",
      " 5   marital-status  32560 non-null  object \n",
      " 6   occupation      32560 non-null  object \n",
      " 7   relationship    32560 non-null  object \n",
      " 8   race            32558 non-null  object \n",
      " 9   sex             32560 non-null  object \n",
      " 10  capital-gain    32560 non-null  int64  \n",
      " 11  capital-loss    32560 non-null  int64  \n",
      " 12  hours-per-week  32552 non-null  float64\n",
      " 13  native-country  32560 non-null  object \n",
      " 14  gains           32560 non-null  object \n",
      "dtypes: float64(3), int64(3), object(9)\n",
      "memory usage: 3.7+ MB\n"
     ]
    }
   ],
   "source": [
    "adults.info()"
   ],
   "metadata": {
    "id": "hvNK25tF3AHj"
   }
  },
  {
   "cell_type": "markdown",
   "source": [
    "3. Muestra información estadística de cada columna numérica y responde a las siguientes preguntas.¿Cuantos años tiene el usuario más mayor y el más joven? ¿Cuál es la mayor ganancia para un usuario? ¿En qué cuartil se superan las 40h semanales de trabajo?"
   ],
   "metadata": {
    "collapsed": false,
    "id": "8KqSI9A73AHk"
   }
  },
  {
   "cell_type": "code",
   "execution_count": 67,
   "outputs": [
    {
     "data": {
      "text/plain": "90.0"
     },
     "execution_count": 67,
     "metadata": {},
     "output_type": "execute_result"
    }
   ],
   "source": [
    "adults.describe()\n",
    "adults['hours-per-week'].quantile(0.8)\n",
    "adults['age'].max()"
   ],
   "metadata": {
    "id": "W-NU8kVh3AHk"
   }
  },
  {
   "cell_type": "markdown",
   "source": [
    "4. ¿Existen nulos en alguna de las columnas?"
   ],
   "metadata": {
    "collapsed": false,
    "id": "4ZCBSF183AHl"
   }
  },
  {
   "cell_type": "code",
   "execution_count": 68,
   "outputs": [
    {
     "data": {
      "text/plain": "      age  workclass  fnlwgt     education  education-num      marital-status  \\\n33   22.0  State-gov  311512  Some-college            NaN  Married-civ-spouse   \n328  66.0    Private  127921       HS-grad            NaN       Never-married   \n375  33.0    Private  267404       HS-grad            NaN  Married-civ-spouse   \n409  41.0  Local-gov   42346  Some-college            NaN            Divorced   \n439  29.0    Private  363425     Bachelors            NaN       Never-married   \n807  64.0    Private  270333     Bachelors            NaN  Married-civ-spouse   \n\n           occupation   relationship   race     sex  capital-gain  \\\n33      Other-service        Husband  Black    Male             0   \n328  Transport-moving  Not-in-family  White    Male          2050   \n375      Craft-repair           Wife  White  Female             0   \n409     Other-service  Not-in-family  Black  Female             0   \n439    Prof-specialty  Not-in-family  White    Male             0   \n807    Prof-specialty        Husband  White    Male             0   \n\n     capital-loss  hours-per-week native-country  gains  \n33              0            15.0  United-States  <=50K  \n328             0            55.0  United-States  <=50K  \n375             0            40.0  United-States  <=50K  \n409             0            24.0  United-States  <=50K  \n439             0            40.0  United-States  <=50K  \n807             0            40.0  United-States   >50K  ",
      "text/html": "<div>\n<style scoped>\n    .dataframe tbody tr th:only-of-type {\n        vertical-align: middle;\n    }\n\n    .dataframe tbody tr th {\n        vertical-align: top;\n    }\n\n    .dataframe thead th {\n        text-align: right;\n    }\n</style>\n<table border=\"1\" class=\"dataframe\">\n  <thead>\n    <tr style=\"text-align: right;\">\n      <th></th>\n      <th>age</th>\n      <th>workclass</th>\n      <th>fnlwgt</th>\n      <th>education</th>\n      <th>education-num</th>\n      <th>marital-status</th>\n      <th>occupation</th>\n      <th>relationship</th>\n      <th>race</th>\n      <th>sex</th>\n      <th>capital-gain</th>\n      <th>capital-loss</th>\n      <th>hours-per-week</th>\n      <th>native-country</th>\n      <th>gains</th>\n    </tr>\n  </thead>\n  <tbody>\n    <tr>\n      <th>33</th>\n      <td>22.0</td>\n      <td>State-gov</td>\n      <td>311512</td>\n      <td>Some-college</td>\n      <td>NaN</td>\n      <td>Married-civ-spouse</td>\n      <td>Other-service</td>\n      <td>Husband</td>\n      <td>Black</td>\n      <td>Male</td>\n      <td>0</td>\n      <td>0</td>\n      <td>15.0</td>\n      <td>United-States</td>\n      <td>&lt;=50K</td>\n    </tr>\n    <tr>\n      <th>328</th>\n      <td>66.0</td>\n      <td>Private</td>\n      <td>127921</td>\n      <td>HS-grad</td>\n      <td>NaN</td>\n      <td>Never-married</td>\n      <td>Transport-moving</td>\n      <td>Not-in-family</td>\n      <td>White</td>\n      <td>Male</td>\n      <td>2050</td>\n      <td>0</td>\n      <td>55.0</td>\n      <td>United-States</td>\n      <td>&lt;=50K</td>\n    </tr>\n    <tr>\n      <th>375</th>\n      <td>33.0</td>\n      <td>Private</td>\n      <td>267404</td>\n      <td>HS-grad</td>\n      <td>NaN</td>\n      <td>Married-civ-spouse</td>\n      <td>Craft-repair</td>\n      <td>Wife</td>\n      <td>White</td>\n      <td>Female</td>\n      <td>0</td>\n      <td>0</td>\n      <td>40.0</td>\n      <td>United-States</td>\n      <td>&lt;=50K</td>\n    </tr>\n    <tr>\n      <th>409</th>\n      <td>41.0</td>\n      <td>Local-gov</td>\n      <td>42346</td>\n      <td>Some-college</td>\n      <td>NaN</td>\n      <td>Divorced</td>\n      <td>Other-service</td>\n      <td>Not-in-family</td>\n      <td>Black</td>\n      <td>Female</td>\n      <td>0</td>\n      <td>0</td>\n      <td>24.0</td>\n      <td>United-States</td>\n      <td>&lt;=50K</td>\n    </tr>\n    <tr>\n      <th>439</th>\n      <td>29.0</td>\n      <td>Private</td>\n      <td>363425</td>\n      <td>Bachelors</td>\n      <td>NaN</td>\n      <td>Never-married</td>\n      <td>Prof-specialty</td>\n      <td>Not-in-family</td>\n      <td>White</td>\n      <td>Male</td>\n      <td>0</td>\n      <td>0</td>\n      <td>40.0</td>\n      <td>United-States</td>\n      <td>&lt;=50K</td>\n    </tr>\n    <tr>\n      <th>807</th>\n      <td>64.0</td>\n      <td>Private</td>\n      <td>270333</td>\n      <td>Bachelors</td>\n      <td>NaN</td>\n      <td>Married-civ-spouse</td>\n      <td>Prof-specialty</td>\n      <td>Husband</td>\n      <td>White</td>\n      <td>Male</td>\n      <td>0</td>\n      <td>0</td>\n      <td>40.0</td>\n      <td>United-States</td>\n      <td>&gt;50K</td>\n    </tr>\n  </tbody>\n</table>\n</div>"
     },
     "execution_count": 68,
     "metadata": {},
     "output_type": "execute_result"
    }
   ],
   "source": [
    "adults.isnull().sum()\n",
    "#Si buscamos las filas que tienen nulos en una determinada columna, haríamos:\n",
    "adults[adults['education-num'].isnull()]"
   ],
   "metadata": {
    "id": "wymyWX5D3AHl"
   }
  },
  {
   "cell_type": "markdown",
   "source": [
    "### *Ejercicio 3: Índices*\n",
    "\n",
    "1. ¿Qué valores diferentes tiene la columna relationship? ¿En qué proporción?"
   ],
   "metadata": {
    "collapsed": false,
    "id": "aGVX2dr33AHl"
   }
  },
  {
   "cell_type": "code",
   "execution_count": 69,
   "outputs": [
    {
     "data": {
      "text/plain": "Husband           40.519042\nNot-in-family     25.503686\nOwn-child         15.565111\nUnmarried         10.583538\nWife               4.815725\nOther-relative     3.012899\nName: relationship, dtype: float64"
     },
     "execution_count": 69,
     "metadata": {},
     "output_type": "execute_result"
    }
   ],
   "source": [
    "#adults['relationship'].unique() # devuelve los diferentes valores no repetidos que tiene una columna\n",
    "#adults['relationship'].value_counts() # para cada valor diferente nos dice el total de elementos que encuentra\n",
    "#adults.value_counts(subset=['relationship']) #equivalente al anterior\n",
    "#adults[(adults.relationship == 'Unmarried')].shape[0] #si buscamos el número de ocurrencias para un valor concreto de una columna\n",
    "adults['relationship'].value_counts(normalize=True)*100# para cada valor diferente nos dice el porcentaje de ocurrencias que encuentra\n"
   ],
   "metadata": {
    "id": "94sD1qnW3AHm"
   }
  },
  {
   "cell_type": "markdown",
   "source": [
    "2. ¿Y la columna native-country?"
   ],
   "metadata": {
    "collapsed": false,
    "id": "ociQToyB3AHm"
   }
  },
  {
   "cell_type": "code",
   "execution_count": 70,
   "outputs": [
    {
     "data": {
      "text/plain": "United-States                 89.585381\nMexico                         1.974816\n?                              1.790541\nPhilippines                    0.608108\nGermany                        0.420762\nCanada                         0.371622\nPuerto-Rico                    0.350123\nEl-Salvador                    0.325553\nIndia                          0.307125\nCuba                           0.291769\nEngland                        0.276413\nJamaica                        0.248771\nSouth                          0.245700\nChina                          0.230344\nItaly                          0.224201\nDominican-Republic             0.214988\nVietnam                        0.205774\nGuatemala                      0.196560\nJapan                          0.190418\nPoland                         0.184275\nColumbia                       0.181204\nTaiwan                         0.156634\nHaiti                          0.135135\nIran                           0.132064\nPortugal                       0.113636\nNicaragua                      0.104423\nPeru                           0.095209\nFrance                         0.089066\nGreece                         0.089066\nEcuador                        0.085995\nIreland                        0.073710\nHong                           0.061425\nCambodia                       0.058354\nTrinadad&Tobago                0.058354\nLaos                           0.055283\nThailand                       0.055283\nYugoslavia                     0.049140\nOutlying-US(Guam-USVI-etc)     0.042998\nHonduras                       0.039926\nHungary                        0.039926\nScotland                       0.036855\nHoland-Netherlands             0.003071\nName: native-country, dtype: float64"
     },
     "execution_count": 70,
     "metadata": {},
     "output_type": "execute_result"
    }
   ],
   "source": [
    "#adults['native-country'].unique()\n",
    "adults['native-country'].value_counts(normalize=True)*100"
   ],
   "metadata": {
    "id": "vewotcjQ3AHn"
   }
  },
  {
   "cell_type": "markdown",
   "source": [
    "3. Crea un nuevo dataframe llamado adults_new_index con un índice para las columna relationship y native-country."
   ],
   "metadata": {
    "collapsed": false,
    "id": "dhN73ylk3AHn"
   }
  },
  {
   "cell_type": "code",
   "execution_count": 71,
   "outputs": [
    {
     "name": "stderr",
     "output_type": "stream",
     "text": [
      "C:\\Users\\cristinag\\AppData\\Local\\Temp\\ipykernel_7128\\1161975010.py:3: PerformanceWarning: indexing past lexsort depth may impact performance.\n",
      "  adults_new_index.loc[('Unmarried','Cuba')]\n"
     ]
    },
    {
     "data": {
      "text/plain": "                              age workclass  fnlwgt     education  \\\nrelationship native-country                                         \nUnmarried    Cuba            31.0   Private  243605     Bachelors   \n             Cuba            52.0   Private  366232           9th   \n             Cuba            38.0   Private  229180     Bachelors   \n             Cuba            72.0   Private  195184       HS-grad   \n             Cuba            46.0   Private  213408  Some-college   \n             Cuba            55.0   Private  223613       1st-4th   \n             Cuba            36.0   Private  229180  Some-college   \n             Cuba            47.0   Private  218435       HS-grad   \n             Cuba            40.0         ?  224361           9th   \n             Cuba            41.0   Private  183105       HS-grad   \n             Cuba            52.0   Private  318975       HS-grad   \n             Cuba            66.0   Private  236784     Bachelors   \n             Cuba            45.0   Private  297676    Assoc-acdm   \n\n                             education-num         marital-status  \\\nrelationship native-country                                         \nUnmarried    Cuba                     13.0                Widowed   \n             Cuba                      5.0               Divorced   \n             Cuba                     13.0          Never-married   \n             Cuba                      9.0                Widowed   \n             Cuba                     10.0               Divorced   \n             Cuba                      2.0               Divorced   \n             Cuba                     10.0               Divorced   \n             Cuba                      9.0  Married-spouse-absent   \n             Cuba                      5.0               Divorced   \n             Cuba                      9.0              Separated   \n             Cuba                      9.0               Divorced   \n             Cuba                     13.0               Divorced   \n             Cuba                     12.0                Widowed   \n\n                                    occupation   race     sex  capital-gain  \\\nrelationship native-country                                                   \nUnmarried    Cuba                        Sales  White  Female             0   \n             Cuba                 Craft-repair  White  Female             0   \n             Cuba              Exec-managerial  White  Female             0   \n             Cuba              Priv-house-serv  White  Female             0   \n             Cuba                        Sales  White  Female             0   \n             Cuba              Priv-house-serv  White  Female             0   \n             Cuba                 Craft-repair  White  Female             0   \n             Cuba                        Sales  White  Female             0   \n             Cuba                            ?  White  Female             0   \n             Cuba            Machine-op-inspct  White  Female             0   \n             Cuba                 Adm-clerical  White  Female             0   \n             Cuba               Prof-specialty  White  Female             0   \n             Cuba                        Sales  White  Female             0   \n\n                             capital-loss  hours-per-week  gains  \nrelationship native-country                                       \nUnmarried    Cuba                    1380            40.0  <=50K  \n             Cuba                       0            40.0  <=50K  \n             Cuba                       0            40.0  <=50K  \n             Cuba                       0            12.0  <=50K  \n             Cuba                       0            40.0  <=50K  \n             Cuba                       0            30.0  <=50K  \n             Cuba                       0            40.0  <=50K  \n             Cuba                       0            20.0  <=50K  \n             Cuba                       0             5.0  <=50K  \n             Cuba                       0            44.0  <=50K  \n             Cuba                       0            40.0  <=50K  \n             Cuba                       0             8.0  <=50K  \n             Cuba                       0            40.0  <=50K  ",
      "text/html": "<div>\n<style scoped>\n    .dataframe tbody tr th:only-of-type {\n        vertical-align: middle;\n    }\n\n    .dataframe tbody tr th {\n        vertical-align: top;\n    }\n\n    .dataframe thead th {\n        text-align: right;\n    }\n</style>\n<table border=\"1\" class=\"dataframe\">\n  <thead>\n    <tr style=\"text-align: right;\">\n      <th></th>\n      <th></th>\n      <th>age</th>\n      <th>workclass</th>\n      <th>fnlwgt</th>\n      <th>education</th>\n      <th>education-num</th>\n      <th>marital-status</th>\n      <th>occupation</th>\n      <th>race</th>\n      <th>sex</th>\n      <th>capital-gain</th>\n      <th>capital-loss</th>\n      <th>hours-per-week</th>\n      <th>gains</th>\n    </tr>\n    <tr>\n      <th>relationship</th>\n      <th>native-country</th>\n      <th></th>\n      <th></th>\n      <th></th>\n      <th></th>\n      <th></th>\n      <th></th>\n      <th></th>\n      <th></th>\n      <th></th>\n      <th></th>\n      <th></th>\n      <th></th>\n      <th></th>\n    </tr>\n  </thead>\n  <tbody>\n    <tr>\n      <th rowspan=\"13\" valign=\"top\">Unmarried</th>\n      <th>Cuba</th>\n      <td>31.0</td>\n      <td>Private</td>\n      <td>243605</td>\n      <td>Bachelors</td>\n      <td>13.0</td>\n      <td>Widowed</td>\n      <td>Sales</td>\n      <td>White</td>\n      <td>Female</td>\n      <td>0</td>\n      <td>1380</td>\n      <td>40.0</td>\n      <td>&lt;=50K</td>\n    </tr>\n    <tr>\n      <th>Cuba</th>\n      <td>52.0</td>\n      <td>Private</td>\n      <td>366232</td>\n      <td>9th</td>\n      <td>5.0</td>\n      <td>Divorced</td>\n      <td>Craft-repair</td>\n      <td>White</td>\n      <td>Female</td>\n      <td>0</td>\n      <td>0</td>\n      <td>40.0</td>\n      <td>&lt;=50K</td>\n    </tr>\n    <tr>\n      <th>Cuba</th>\n      <td>38.0</td>\n      <td>Private</td>\n      <td>229180</td>\n      <td>Bachelors</td>\n      <td>13.0</td>\n      <td>Never-married</td>\n      <td>Exec-managerial</td>\n      <td>White</td>\n      <td>Female</td>\n      <td>0</td>\n      <td>0</td>\n      <td>40.0</td>\n      <td>&lt;=50K</td>\n    </tr>\n    <tr>\n      <th>Cuba</th>\n      <td>72.0</td>\n      <td>Private</td>\n      <td>195184</td>\n      <td>HS-grad</td>\n      <td>9.0</td>\n      <td>Widowed</td>\n      <td>Priv-house-serv</td>\n      <td>White</td>\n      <td>Female</td>\n      <td>0</td>\n      <td>0</td>\n      <td>12.0</td>\n      <td>&lt;=50K</td>\n    </tr>\n    <tr>\n      <th>Cuba</th>\n      <td>46.0</td>\n      <td>Private</td>\n      <td>213408</td>\n      <td>Some-college</td>\n      <td>10.0</td>\n      <td>Divorced</td>\n      <td>Sales</td>\n      <td>White</td>\n      <td>Female</td>\n      <td>0</td>\n      <td>0</td>\n      <td>40.0</td>\n      <td>&lt;=50K</td>\n    </tr>\n    <tr>\n      <th>Cuba</th>\n      <td>55.0</td>\n      <td>Private</td>\n      <td>223613</td>\n      <td>1st-4th</td>\n      <td>2.0</td>\n      <td>Divorced</td>\n      <td>Priv-house-serv</td>\n      <td>White</td>\n      <td>Female</td>\n      <td>0</td>\n      <td>0</td>\n      <td>30.0</td>\n      <td>&lt;=50K</td>\n    </tr>\n    <tr>\n      <th>Cuba</th>\n      <td>36.0</td>\n      <td>Private</td>\n      <td>229180</td>\n      <td>Some-college</td>\n      <td>10.0</td>\n      <td>Divorced</td>\n      <td>Craft-repair</td>\n      <td>White</td>\n      <td>Female</td>\n      <td>0</td>\n      <td>0</td>\n      <td>40.0</td>\n      <td>&lt;=50K</td>\n    </tr>\n    <tr>\n      <th>Cuba</th>\n      <td>47.0</td>\n      <td>Private</td>\n      <td>218435</td>\n      <td>HS-grad</td>\n      <td>9.0</td>\n      <td>Married-spouse-absent</td>\n      <td>Sales</td>\n      <td>White</td>\n      <td>Female</td>\n      <td>0</td>\n      <td>0</td>\n      <td>20.0</td>\n      <td>&lt;=50K</td>\n    </tr>\n    <tr>\n      <th>Cuba</th>\n      <td>40.0</td>\n      <td>?</td>\n      <td>224361</td>\n      <td>9th</td>\n      <td>5.0</td>\n      <td>Divorced</td>\n      <td>?</td>\n      <td>White</td>\n      <td>Female</td>\n      <td>0</td>\n      <td>0</td>\n      <td>5.0</td>\n      <td>&lt;=50K</td>\n    </tr>\n    <tr>\n      <th>Cuba</th>\n      <td>41.0</td>\n      <td>Private</td>\n      <td>183105</td>\n      <td>HS-grad</td>\n      <td>9.0</td>\n      <td>Separated</td>\n      <td>Machine-op-inspct</td>\n      <td>White</td>\n      <td>Female</td>\n      <td>0</td>\n      <td>0</td>\n      <td>44.0</td>\n      <td>&lt;=50K</td>\n    </tr>\n    <tr>\n      <th>Cuba</th>\n      <td>52.0</td>\n      <td>Private</td>\n      <td>318975</td>\n      <td>HS-grad</td>\n      <td>9.0</td>\n      <td>Divorced</td>\n      <td>Adm-clerical</td>\n      <td>White</td>\n      <td>Female</td>\n      <td>0</td>\n      <td>0</td>\n      <td>40.0</td>\n      <td>&lt;=50K</td>\n    </tr>\n    <tr>\n      <th>Cuba</th>\n      <td>66.0</td>\n      <td>Private</td>\n      <td>236784</td>\n      <td>Bachelors</td>\n      <td>13.0</td>\n      <td>Divorced</td>\n      <td>Prof-specialty</td>\n      <td>White</td>\n      <td>Female</td>\n      <td>0</td>\n      <td>0</td>\n      <td>8.0</td>\n      <td>&lt;=50K</td>\n    </tr>\n    <tr>\n      <th>Cuba</th>\n      <td>45.0</td>\n      <td>Private</td>\n      <td>297676</td>\n      <td>Assoc-acdm</td>\n      <td>12.0</td>\n      <td>Widowed</td>\n      <td>Sales</td>\n      <td>White</td>\n      <td>Female</td>\n      <td>0</td>\n      <td>0</td>\n      <td>40.0</td>\n      <td>&lt;=50K</td>\n    </tr>\n  </tbody>\n</table>\n</div>"
     },
     "execution_count": 71,
     "metadata": {},
     "output_type": "execute_result"
    }
   ],
   "source": [
    "adults_new_index = adults.set_index(['relationship', 'native-country'])\n",
    "adults_new_index\n",
    "adults_new_index.loc[('Unmarried','Cuba')]\n",
    "\n",
    "#adults['relationship'].values\n",
    "#adults_new_index.index"
   ],
   "metadata": {
    "id": "verQzFUg3AHn"
   }
  },
  {
   "cell_type": "markdown",
   "source": [
    "### *Ejercicio 4: Selección de datos específicos por columna/fila*\n",
    "\n",
    "1. Muestra los datos exclusivamente de las columnas edad, sexo y ganancias.\n",
    "2. Sobre el conjunto anterior muestra las últimas 10 filas."
   ],
   "metadata": {
    "collapsed": false,
    "id": "eowfUgOc3AHo"
   }
  },
  {
   "cell_type": "code",
   "execution_count": 72,
   "outputs": [
    {
     "data": {
      "text/plain": "        age     sex  gains\n32550  32.0    Male  <=50K\n32551  43.0    Male  <=50K\n32552  32.0    Male  <=50K\n32553  53.0    Male   >50K\n32554  22.0    Male  <=50K\n32555  27.0  Female  <=50K\n32556  40.0    Male   >50K\n32557  58.0  Female  <=50K\n32558  22.0    Male  <=50K\n32559  52.0  Female   >50K",
      "text/html": "<div>\n<style scoped>\n    .dataframe tbody tr th:only-of-type {\n        vertical-align: middle;\n    }\n\n    .dataframe tbody tr th {\n        vertical-align: top;\n    }\n\n    .dataframe thead th {\n        text-align: right;\n    }\n</style>\n<table border=\"1\" class=\"dataframe\">\n  <thead>\n    <tr style=\"text-align: right;\">\n      <th></th>\n      <th>age</th>\n      <th>sex</th>\n      <th>gains</th>\n    </tr>\n  </thead>\n  <tbody>\n    <tr>\n      <th>32550</th>\n      <td>32.0</td>\n      <td>Male</td>\n      <td>&lt;=50K</td>\n    </tr>\n    <tr>\n      <th>32551</th>\n      <td>43.0</td>\n      <td>Male</td>\n      <td>&lt;=50K</td>\n    </tr>\n    <tr>\n      <th>32552</th>\n      <td>32.0</td>\n      <td>Male</td>\n      <td>&lt;=50K</td>\n    </tr>\n    <tr>\n      <th>32553</th>\n      <td>53.0</td>\n      <td>Male</td>\n      <td>&gt;50K</td>\n    </tr>\n    <tr>\n      <th>32554</th>\n      <td>22.0</td>\n      <td>Male</td>\n      <td>&lt;=50K</td>\n    </tr>\n    <tr>\n      <th>32555</th>\n      <td>27.0</td>\n      <td>Female</td>\n      <td>&lt;=50K</td>\n    </tr>\n    <tr>\n      <th>32556</th>\n      <td>40.0</td>\n      <td>Male</td>\n      <td>&gt;50K</td>\n    </tr>\n    <tr>\n      <th>32557</th>\n      <td>58.0</td>\n      <td>Female</td>\n      <td>&lt;=50K</td>\n    </tr>\n    <tr>\n      <th>32558</th>\n      <td>22.0</td>\n      <td>Male</td>\n      <td>&lt;=50K</td>\n    </tr>\n    <tr>\n      <th>32559</th>\n      <td>52.0</td>\n      <td>Female</td>\n      <td>&gt;50K</td>\n    </tr>\n  </tbody>\n</table>\n</div>"
     },
     "execution_count": 72,
     "metadata": {},
     "output_type": "execute_result"
    }
   ],
   "source": [
    "adults[['age', 'sex','gains']].tail(10)"
   ],
   "metadata": {
    "id": "lnjOH1Jc3AHo"
   }
  },
  {
   "cell_type": "markdown",
   "source": [
    "3. Muestra los datos de las columnas primera, segunda, tercera y quinta para las 100 primeras filas. Ordena el resultado de forma descendente por edad."
   ],
   "metadata": {
    "collapsed": false,
    "id": "RzjPYw383AHo"
   }
  },
  {
   "cell_type": "code",
   "execution_count": 73,
   "outputs": [
    {
     "name": "stdout",
     "output_type": "stream",
     "text": [
      "     age workclass  fnlwgt  education-num\n",
      "73  79.0   Private  124744           10.0\n",
      "99  76.0   Private  124191           14.0\n",
      "76  67.0         ?  212759            6.0\n",
      "82  59.0   Private  159937            9.0\n",
      "23  59.0   Private  109015            9.0\n",
      "..   ...       ...     ...            ...\n",
      "69  19.0   Private  101509           10.0\n",
      "25  19.0   Private  168294            9.0\n",
      "79  18.0   Private  446839            9.0\n",
      "77  18.0   Private  309634            7.0\n",
      "50   NaN   Private  226956            9.0\n",
      "\n",
      "[100 rows x 4 columns]\n"
     ]
    }
   ],
   "source": [
    "adults_100= adults.iloc[0:100, [0,1,2,4]]\n",
    "adults_100.sort_values(by='age', ascending=False, inplace=True) #If inplace=True, perform operation in-place.False by default. Esto quiere decir\n",
    "# que altera el orden del dataframe aunque,éste no se asigne propiamente a un nuevo dataframe.\n",
    "print(adults_100)"
   ],
   "metadata": {
    "id": "90PCxEBr3AHp"
   }
  },
  {
   "cell_type": "markdown",
   "source": [
    "4. Muestra las 4 últimas columnas para todas las filas."
   ],
   "metadata": {
    "collapsed": false,
    "id": "Txx2dmiI3AHp"
   }
  },
  {
   "cell_type": "code",
   "execution_count": 74,
   "outputs": [
    {
     "data": {
      "text/plain": "       capital-loss  hours-per-week native-country  gains\n0                 0            13.0  United-States  <=50K\n1                 0            40.0  United-States  <=50K\n2                 0            40.0  United-States  <=50K\n3                 0            40.0           Cuba  <=50K\n4                 0            40.0  United-States  <=50K\n...             ...             ...            ...    ...\n32555             0            38.0  United-States  <=50K\n32556             0            40.0  United-States   >50K\n32557             0            40.0  United-States  <=50K\n32558             0            20.0  United-States  <=50K\n32559             0            40.0  United-States   >50K\n\n[32560 rows x 4 columns]",
      "text/html": "<div>\n<style scoped>\n    .dataframe tbody tr th:only-of-type {\n        vertical-align: middle;\n    }\n\n    .dataframe tbody tr th {\n        vertical-align: top;\n    }\n\n    .dataframe thead th {\n        text-align: right;\n    }\n</style>\n<table border=\"1\" class=\"dataframe\">\n  <thead>\n    <tr style=\"text-align: right;\">\n      <th></th>\n      <th>capital-loss</th>\n      <th>hours-per-week</th>\n      <th>native-country</th>\n      <th>gains</th>\n    </tr>\n  </thead>\n  <tbody>\n    <tr>\n      <th>0</th>\n      <td>0</td>\n      <td>13.0</td>\n      <td>United-States</td>\n      <td>&lt;=50K</td>\n    </tr>\n    <tr>\n      <th>1</th>\n      <td>0</td>\n      <td>40.0</td>\n      <td>United-States</td>\n      <td>&lt;=50K</td>\n    </tr>\n    <tr>\n      <th>2</th>\n      <td>0</td>\n      <td>40.0</td>\n      <td>United-States</td>\n      <td>&lt;=50K</td>\n    </tr>\n    <tr>\n      <th>3</th>\n      <td>0</td>\n      <td>40.0</td>\n      <td>Cuba</td>\n      <td>&lt;=50K</td>\n    </tr>\n    <tr>\n      <th>4</th>\n      <td>0</td>\n      <td>40.0</td>\n      <td>United-States</td>\n      <td>&lt;=50K</td>\n    </tr>\n    <tr>\n      <th>...</th>\n      <td>...</td>\n      <td>...</td>\n      <td>...</td>\n      <td>...</td>\n    </tr>\n    <tr>\n      <th>32555</th>\n      <td>0</td>\n      <td>38.0</td>\n      <td>United-States</td>\n      <td>&lt;=50K</td>\n    </tr>\n    <tr>\n      <th>32556</th>\n      <td>0</td>\n      <td>40.0</td>\n      <td>United-States</td>\n      <td>&gt;50K</td>\n    </tr>\n    <tr>\n      <th>32557</th>\n      <td>0</td>\n      <td>40.0</td>\n      <td>United-States</td>\n      <td>&lt;=50K</td>\n    </tr>\n    <tr>\n      <th>32558</th>\n      <td>0</td>\n      <td>20.0</td>\n      <td>United-States</td>\n      <td>&lt;=50K</td>\n    </tr>\n    <tr>\n      <th>32559</th>\n      <td>0</td>\n      <td>40.0</td>\n      <td>United-States</td>\n      <td>&gt;50K</td>\n    </tr>\n  </tbody>\n</table>\n<p>32560 rows × 4 columns</p>\n</div>"
     },
     "execution_count": 74,
     "metadata": {},
     "output_type": "execute_result"
    }
   ],
   "source": [
    "adults.iloc[:,-4:]"
   ],
   "metadata": {
    "id": "QrNZ4enP3AHp"
   }
  },
  {
   "cell_type": "markdown",
   "source": [
    "5. Utilizando el dataframe que has creado en el ejercicio 3.3, recupera el número de usuarios/as de nacionalidad cubana y solteros/as.  ¿Cómo lo harías sobre el dataframe adults que no tiene dicho índice?"
   ],
   "metadata": {
    "collapsed": false,
    "id": "0q53Be6A3AHp"
   }
  },
  {
   "cell_type": "code",
   "execution_count": 75,
   "outputs": [
    {
     "name": "stderr",
     "output_type": "stream",
     "text": [
      "C:\\Users\\cristinag\\AppData\\Local\\Temp\\ipykernel_7128\\2323282719.py:1: PerformanceWarning: indexing past lexsort depth may impact performance.\n",
      "  adults_new_index.loc[('Unmarried','Cuba')]\n"
     ]
    },
    {
     "data": {
      "text/plain": "13"
     },
     "execution_count": 75,
     "metadata": {},
     "output_type": "execute_result"
    }
   ],
   "source": [
    "    adults_new_index.loc[('Unmarried','Cuba')]\n",
    "#adults_new_index.loc[('Unmarried','Cuba')].shape[0]\n",
    "adults[(adults['relationship']=='Unmarried') & (adults['native-country']=='Cuba') ].shape[0]"
   ],
   "metadata": {
    "id": "0dH4XbPo3AHp"
   }
  },
  {
   "cell_type": "markdown",
   "source": [
    "6. EXTRA1: Busca todas aquellas mujeres solteras de nacionalidad cubana"
   ],
   "metadata": {
    "collapsed": false,
    "id": "bb6KtA6o3AHp"
   }
  },
  {
   "cell_type": "code",
   "execution_count": 76,
   "outputs": [
    {
     "name": "stderr",
     "output_type": "stream",
     "text": [
      "C:\\Users\\cristinag\\AppData\\Local\\Temp\\ipykernel_7128\\989522261.py:2: PerformanceWarning: indexing past lexsort depth may impact performance.\n",
      "  adults_new_index[adults_new_index['sex']=='Female'].loc[('Unmarried','Cuba')]\n"
     ]
    },
    {
     "data": {
      "text/plain": "                              age workclass  fnlwgt     education  \\\nrelationship native-country                                         \nUnmarried    Cuba            31.0   Private  243605     Bachelors   \n             Cuba            52.0   Private  366232           9th   \n             Cuba            38.0   Private  229180     Bachelors   \n             Cuba            72.0   Private  195184       HS-grad   \n             Cuba            46.0   Private  213408  Some-college   \n             Cuba            55.0   Private  223613       1st-4th   \n             Cuba            36.0   Private  229180  Some-college   \n             Cuba            47.0   Private  218435       HS-grad   \n             Cuba            40.0         ?  224361           9th   \n             Cuba            41.0   Private  183105       HS-grad   \n             Cuba            52.0   Private  318975       HS-grad   \n             Cuba            66.0   Private  236784     Bachelors   \n             Cuba            45.0   Private  297676    Assoc-acdm   \n\n                             education-num         marital-status  \\\nrelationship native-country                                         \nUnmarried    Cuba                     13.0                Widowed   \n             Cuba                      5.0               Divorced   \n             Cuba                     13.0          Never-married   \n             Cuba                      9.0                Widowed   \n             Cuba                     10.0               Divorced   \n             Cuba                      2.0               Divorced   \n             Cuba                     10.0               Divorced   \n             Cuba                      9.0  Married-spouse-absent   \n             Cuba                      5.0               Divorced   \n             Cuba                      9.0              Separated   \n             Cuba                      9.0               Divorced   \n             Cuba                     13.0               Divorced   \n             Cuba                     12.0                Widowed   \n\n                                    occupation   race     sex  capital-gain  \\\nrelationship native-country                                                   \nUnmarried    Cuba                        Sales  White  Female             0   \n             Cuba                 Craft-repair  White  Female             0   \n             Cuba              Exec-managerial  White  Female             0   \n             Cuba              Priv-house-serv  White  Female             0   \n             Cuba                        Sales  White  Female             0   \n             Cuba              Priv-house-serv  White  Female             0   \n             Cuba                 Craft-repair  White  Female             0   \n             Cuba                        Sales  White  Female             0   \n             Cuba                            ?  White  Female             0   \n             Cuba            Machine-op-inspct  White  Female             0   \n             Cuba                 Adm-clerical  White  Female             0   \n             Cuba               Prof-specialty  White  Female             0   \n             Cuba                        Sales  White  Female             0   \n\n                             capital-loss  hours-per-week  gains  \nrelationship native-country                                       \nUnmarried    Cuba                    1380            40.0  <=50K  \n             Cuba                       0            40.0  <=50K  \n             Cuba                       0            40.0  <=50K  \n             Cuba                       0            12.0  <=50K  \n             Cuba                       0            40.0  <=50K  \n             Cuba                       0            30.0  <=50K  \n             Cuba                       0            40.0  <=50K  \n             Cuba                       0            20.0  <=50K  \n             Cuba                       0             5.0  <=50K  \n             Cuba                       0            44.0  <=50K  \n             Cuba                       0            40.0  <=50K  \n             Cuba                       0             8.0  <=50K  \n             Cuba                       0            40.0  <=50K  ",
      "text/html": "<div>\n<style scoped>\n    .dataframe tbody tr th:only-of-type {\n        vertical-align: middle;\n    }\n\n    .dataframe tbody tr th {\n        vertical-align: top;\n    }\n\n    .dataframe thead th {\n        text-align: right;\n    }\n</style>\n<table border=\"1\" class=\"dataframe\">\n  <thead>\n    <tr style=\"text-align: right;\">\n      <th></th>\n      <th></th>\n      <th>age</th>\n      <th>workclass</th>\n      <th>fnlwgt</th>\n      <th>education</th>\n      <th>education-num</th>\n      <th>marital-status</th>\n      <th>occupation</th>\n      <th>race</th>\n      <th>sex</th>\n      <th>capital-gain</th>\n      <th>capital-loss</th>\n      <th>hours-per-week</th>\n      <th>gains</th>\n    </tr>\n    <tr>\n      <th>relationship</th>\n      <th>native-country</th>\n      <th></th>\n      <th></th>\n      <th></th>\n      <th></th>\n      <th></th>\n      <th></th>\n      <th></th>\n      <th></th>\n      <th></th>\n      <th></th>\n      <th></th>\n      <th></th>\n      <th></th>\n    </tr>\n  </thead>\n  <tbody>\n    <tr>\n      <th rowspan=\"13\" valign=\"top\">Unmarried</th>\n      <th>Cuba</th>\n      <td>31.0</td>\n      <td>Private</td>\n      <td>243605</td>\n      <td>Bachelors</td>\n      <td>13.0</td>\n      <td>Widowed</td>\n      <td>Sales</td>\n      <td>White</td>\n      <td>Female</td>\n      <td>0</td>\n      <td>1380</td>\n      <td>40.0</td>\n      <td>&lt;=50K</td>\n    </tr>\n    <tr>\n      <th>Cuba</th>\n      <td>52.0</td>\n      <td>Private</td>\n      <td>366232</td>\n      <td>9th</td>\n      <td>5.0</td>\n      <td>Divorced</td>\n      <td>Craft-repair</td>\n      <td>White</td>\n      <td>Female</td>\n      <td>0</td>\n      <td>0</td>\n      <td>40.0</td>\n      <td>&lt;=50K</td>\n    </tr>\n    <tr>\n      <th>Cuba</th>\n      <td>38.0</td>\n      <td>Private</td>\n      <td>229180</td>\n      <td>Bachelors</td>\n      <td>13.0</td>\n      <td>Never-married</td>\n      <td>Exec-managerial</td>\n      <td>White</td>\n      <td>Female</td>\n      <td>0</td>\n      <td>0</td>\n      <td>40.0</td>\n      <td>&lt;=50K</td>\n    </tr>\n    <tr>\n      <th>Cuba</th>\n      <td>72.0</td>\n      <td>Private</td>\n      <td>195184</td>\n      <td>HS-grad</td>\n      <td>9.0</td>\n      <td>Widowed</td>\n      <td>Priv-house-serv</td>\n      <td>White</td>\n      <td>Female</td>\n      <td>0</td>\n      <td>0</td>\n      <td>12.0</td>\n      <td>&lt;=50K</td>\n    </tr>\n    <tr>\n      <th>Cuba</th>\n      <td>46.0</td>\n      <td>Private</td>\n      <td>213408</td>\n      <td>Some-college</td>\n      <td>10.0</td>\n      <td>Divorced</td>\n      <td>Sales</td>\n      <td>White</td>\n      <td>Female</td>\n      <td>0</td>\n      <td>0</td>\n      <td>40.0</td>\n      <td>&lt;=50K</td>\n    </tr>\n    <tr>\n      <th>Cuba</th>\n      <td>55.0</td>\n      <td>Private</td>\n      <td>223613</td>\n      <td>1st-4th</td>\n      <td>2.0</td>\n      <td>Divorced</td>\n      <td>Priv-house-serv</td>\n      <td>White</td>\n      <td>Female</td>\n      <td>0</td>\n      <td>0</td>\n      <td>30.0</td>\n      <td>&lt;=50K</td>\n    </tr>\n    <tr>\n      <th>Cuba</th>\n      <td>36.0</td>\n      <td>Private</td>\n      <td>229180</td>\n      <td>Some-college</td>\n      <td>10.0</td>\n      <td>Divorced</td>\n      <td>Craft-repair</td>\n      <td>White</td>\n      <td>Female</td>\n      <td>0</td>\n      <td>0</td>\n      <td>40.0</td>\n      <td>&lt;=50K</td>\n    </tr>\n    <tr>\n      <th>Cuba</th>\n      <td>47.0</td>\n      <td>Private</td>\n      <td>218435</td>\n      <td>HS-grad</td>\n      <td>9.0</td>\n      <td>Married-spouse-absent</td>\n      <td>Sales</td>\n      <td>White</td>\n      <td>Female</td>\n      <td>0</td>\n      <td>0</td>\n      <td>20.0</td>\n      <td>&lt;=50K</td>\n    </tr>\n    <tr>\n      <th>Cuba</th>\n      <td>40.0</td>\n      <td>?</td>\n      <td>224361</td>\n      <td>9th</td>\n      <td>5.0</td>\n      <td>Divorced</td>\n      <td>?</td>\n      <td>White</td>\n      <td>Female</td>\n      <td>0</td>\n      <td>0</td>\n      <td>5.0</td>\n      <td>&lt;=50K</td>\n    </tr>\n    <tr>\n      <th>Cuba</th>\n      <td>41.0</td>\n      <td>Private</td>\n      <td>183105</td>\n      <td>HS-grad</td>\n      <td>9.0</td>\n      <td>Separated</td>\n      <td>Machine-op-inspct</td>\n      <td>White</td>\n      <td>Female</td>\n      <td>0</td>\n      <td>0</td>\n      <td>44.0</td>\n      <td>&lt;=50K</td>\n    </tr>\n    <tr>\n      <th>Cuba</th>\n      <td>52.0</td>\n      <td>Private</td>\n      <td>318975</td>\n      <td>HS-grad</td>\n      <td>9.0</td>\n      <td>Divorced</td>\n      <td>Adm-clerical</td>\n      <td>White</td>\n      <td>Female</td>\n      <td>0</td>\n      <td>0</td>\n      <td>40.0</td>\n      <td>&lt;=50K</td>\n    </tr>\n    <tr>\n      <th>Cuba</th>\n      <td>66.0</td>\n      <td>Private</td>\n      <td>236784</td>\n      <td>Bachelors</td>\n      <td>13.0</td>\n      <td>Divorced</td>\n      <td>Prof-specialty</td>\n      <td>White</td>\n      <td>Female</td>\n      <td>0</td>\n      <td>0</td>\n      <td>8.0</td>\n      <td>&lt;=50K</td>\n    </tr>\n    <tr>\n      <th>Cuba</th>\n      <td>45.0</td>\n      <td>Private</td>\n      <td>297676</td>\n      <td>Assoc-acdm</td>\n      <td>12.0</td>\n      <td>Widowed</td>\n      <td>Sales</td>\n      <td>White</td>\n      <td>Female</td>\n      <td>0</td>\n      <td>0</td>\n      <td>40.0</td>\n      <td>&lt;=50K</td>\n    </tr>\n  </tbody>\n</table>\n</div>"
     },
     "execution_count": 76,
     "metadata": {},
     "output_type": "execute_result"
    }
   ],
   "source": [
    "adults[(adults['sex']=='Female') & (adults['native-country']=='Cuba') & (adults['relationship']=='Unmarried')]\n",
    "adults_new_index[adults_new_index['sex']=='Female'].loc[('Unmarried','Cuba')]\n"
   ],
   "metadata": {
    "id": "UhVQBd6l3AHq"
   }
  },
  {
   "cell_type": "markdown",
   "source": [
    "7. EXTRA2: Busca todas aquellas mujeres solteras de nacionalidad cubana que trabajen más de 40 horas a la semana"
   ],
   "metadata": {
    "collapsed": false,
    "id": "bEPZm57y3AHr"
   }
  },
  {
   "cell_type": "code",
   "execution_count": 77,
   "outputs": [
    {
     "data": {
      "text/plain": "Empty DataFrame\nColumns: [age, workclass, fnlwgt, education, education-num, marital-status, occupation, relationship, race, sex, capital-gain, capital-loss, hours-per-week, native-country, gains]\nIndex: []",
      "text/html": "<div>\n<style scoped>\n    .dataframe tbody tr th:only-of-type {\n        vertical-align: middle;\n    }\n\n    .dataframe tbody tr th {\n        vertical-align: top;\n    }\n\n    .dataframe thead th {\n        text-align: right;\n    }\n</style>\n<table border=\"1\" class=\"dataframe\">\n  <thead>\n    <tr style=\"text-align: right;\">\n      <th></th>\n      <th>age</th>\n      <th>workclass</th>\n      <th>fnlwgt</th>\n      <th>education</th>\n      <th>education-num</th>\n      <th>marital-status</th>\n      <th>occupation</th>\n      <th>relationship</th>\n      <th>race</th>\n      <th>sex</th>\n      <th>capital-gain</th>\n      <th>capital-loss</th>\n      <th>hours-per-week</th>\n      <th>native-country</th>\n      <th>gains</th>\n    </tr>\n  </thead>\n  <tbody>\n  </tbody>\n</table>\n</div>"
     },
     "execution_count": 77,
     "metadata": {},
     "output_type": "execute_result"
    }
   ],
   "source": [
    "adults[(adults['sex']==' Female') & (adults['native-country']==' Cuba') & (adults['relationship']==' Unmarried') & (adults['hours-per-week']> 40)]"
   ],
   "metadata": {
    "id": "m8itTOqA3AHr"
   }
  },
  {
   "cell_type": "markdown",
   "source": [
    "8. EXTRA3: Crea un nuevo dataframe que contenga exclusivamente a aquellos usuarios con nacionalidad portuguesa, francesa o nord-americana. Pista: utiliza la función isin. Borra las columnas occupation, capital-gain y capital-loss. Crea una nueva columna 'age-range' que tome los valores young para usuarios menores de 30 años, old para mayores de 60 y intermediate en cualquier otro caso."
   ],
   "metadata": {
    "collapsed": false,
    "id": "-2P6hgjk3AHr"
   }
  },
  {
   "cell_type": "code",
   "execution_count": 78,
   "outputs": [
    {
     "data": {
      "text/plain": "        age         workclass  fnlwgt   education  education-num  \\\n0      50.0  Self-emp-not-inc   83311   Bachelors           13.0   \n1      38.0           Private  215646     HS-grad            9.0   \n2      53.0           Private  234721        11th            7.0   \n4      37.0           Private  284582     Masters           14.0   \n6      52.0  Self-emp-not-inc  209642     HS-grad            9.0   \n...     ...               ...     ...         ...            ...   \n32555  27.0           Private  257302  Assoc-acdm           12.0   \n32556  40.0           Private  154374     HS-grad            9.0   \n32557  58.0           Private  151910     HS-grad            9.0   \n32558  22.0           Private  201490     HS-grad            9.0   \n32559  52.0      Self-emp-inc  287927     HS-grad            9.0   \n\n           marital-status   relationship   race     sex  hours-per-week  \\\n0      Married-civ-spouse        Husband  White    Male            13.0   \n1                Divorced  Not-in-family  White    Male            40.0   \n2      Married-civ-spouse        Husband  Black    Male            40.0   \n4      Married-civ-spouse           Wife  White  Female            40.0   \n6      Married-civ-spouse        Husband  White    Male            45.0   \n...                   ...            ...    ...     ...             ...   \n32555  Married-civ-spouse           Wife  White  Female            38.0   \n32556  Married-civ-spouse        Husband  White    Male            40.0   \n32557             Widowed      Unmarried  White  Female            40.0   \n32558       Never-married      Own-child  White    Male            20.0   \n32559  Married-civ-spouse           Wife  White  Female            40.0   \n\n      native-country  gains age-range  \n0      United-States  <=50K       Mid  \n1      United-States  <=50K       Mid  \n2      United-States  <=50K       Mid  \n4      United-States  <=50K       Mid  \n6      United-States   >50K       Mid  \n...              ...    ...       ...  \n32555  United-States  <=50K     Young  \n32556  United-States   >50K       Mid  \n32557  United-States  <=50K       Mid  \n32558  United-States  <=50K     Young  \n32559  United-States   >50K       Mid  \n\n[29933 rows x 13 columns]",
      "text/html": "<div>\n<style scoped>\n    .dataframe tbody tr th:only-of-type {\n        vertical-align: middle;\n    }\n\n    .dataframe tbody tr th {\n        vertical-align: top;\n    }\n\n    .dataframe thead th {\n        text-align: right;\n    }\n</style>\n<table border=\"1\" class=\"dataframe\">\n  <thead>\n    <tr style=\"text-align: right;\">\n      <th></th>\n      <th>age</th>\n      <th>workclass</th>\n      <th>fnlwgt</th>\n      <th>education</th>\n      <th>education-num</th>\n      <th>marital-status</th>\n      <th>relationship</th>\n      <th>race</th>\n      <th>sex</th>\n      <th>hours-per-week</th>\n      <th>native-country</th>\n      <th>gains</th>\n      <th>age-range</th>\n    </tr>\n  </thead>\n  <tbody>\n    <tr>\n      <th>0</th>\n      <td>50.0</td>\n      <td>Self-emp-not-inc</td>\n      <td>83311</td>\n      <td>Bachelors</td>\n      <td>13.0</td>\n      <td>Married-civ-spouse</td>\n      <td>Husband</td>\n      <td>White</td>\n      <td>Male</td>\n      <td>13.0</td>\n      <td>United-States</td>\n      <td>&lt;=50K</td>\n      <td>Mid</td>\n    </tr>\n    <tr>\n      <th>1</th>\n      <td>38.0</td>\n      <td>Private</td>\n      <td>215646</td>\n      <td>HS-grad</td>\n      <td>9.0</td>\n      <td>Divorced</td>\n      <td>Not-in-family</td>\n      <td>White</td>\n      <td>Male</td>\n      <td>40.0</td>\n      <td>United-States</td>\n      <td>&lt;=50K</td>\n      <td>Mid</td>\n    </tr>\n    <tr>\n      <th>2</th>\n      <td>53.0</td>\n      <td>Private</td>\n      <td>234721</td>\n      <td>11th</td>\n      <td>7.0</td>\n      <td>Married-civ-spouse</td>\n      <td>Husband</td>\n      <td>Black</td>\n      <td>Male</td>\n      <td>40.0</td>\n      <td>United-States</td>\n      <td>&lt;=50K</td>\n      <td>Mid</td>\n    </tr>\n    <tr>\n      <th>4</th>\n      <td>37.0</td>\n      <td>Private</td>\n      <td>284582</td>\n      <td>Masters</td>\n      <td>14.0</td>\n      <td>Married-civ-spouse</td>\n      <td>Wife</td>\n      <td>White</td>\n      <td>Female</td>\n      <td>40.0</td>\n      <td>United-States</td>\n      <td>&lt;=50K</td>\n      <td>Mid</td>\n    </tr>\n    <tr>\n      <th>6</th>\n      <td>52.0</td>\n      <td>Self-emp-not-inc</td>\n      <td>209642</td>\n      <td>HS-grad</td>\n      <td>9.0</td>\n      <td>Married-civ-spouse</td>\n      <td>Husband</td>\n      <td>White</td>\n      <td>Male</td>\n      <td>45.0</td>\n      <td>United-States</td>\n      <td>&gt;50K</td>\n      <td>Mid</td>\n    </tr>\n    <tr>\n      <th>...</th>\n      <td>...</td>\n      <td>...</td>\n      <td>...</td>\n      <td>...</td>\n      <td>...</td>\n      <td>...</td>\n      <td>...</td>\n      <td>...</td>\n      <td>...</td>\n      <td>...</td>\n      <td>...</td>\n      <td>...</td>\n      <td>...</td>\n    </tr>\n    <tr>\n      <th>32555</th>\n      <td>27.0</td>\n      <td>Private</td>\n      <td>257302</td>\n      <td>Assoc-acdm</td>\n      <td>12.0</td>\n      <td>Married-civ-spouse</td>\n      <td>Wife</td>\n      <td>White</td>\n      <td>Female</td>\n      <td>38.0</td>\n      <td>United-States</td>\n      <td>&lt;=50K</td>\n      <td>Young</td>\n    </tr>\n    <tr>\n      <th>32556</th>\n      <td>40.0</td>\n      <td>Private</td>\n      <td>154374</td>\n      <td>HS-grad</td>\n      <td>9.0</td>\n      <td>Married-civ-spouse</td>\n      <td>Husband</td>\n      <td>White</td>\n      <td>Male</td>\n      <td>40.0</td>\n      <td>United-States</td>\n      <td>&gt;50K</td>\n      <td>Mid</td>\n    </tr>\n    <tr>\n      <th>32557</th>\n      <td>58.0</td>\n      <td>Private</td>\n      <td>151910</td>\n      <td>HS-grad</td>\n      <td>9.0</td>\n      <td>Widowed</td>\n      <td>Unmarried</td>\n      <td>White</td>\n      <td>Female</td>\n      <td>40.0</td>\n      <td>United-States</td>\n      <td>&lt;=50K</td>\n      <td>Mid</td>\n    </tr>\n    <tr>\n      <th>32558</th>\n      <td>22.0</td>\n      <td>Private</td>\n      <td>201490</td>\n      <td>HS-grad</td>\n      <td>9.0</td>\n      <td>Never-married</td>\n      <td>Own-child</td>\n      <td>White</td>\n      <td>Male</td>\n      <td>20.0</td>\n      <td>United-States</td>\n      <td>&lt;=50K</td>\n      <td>Young</td>\n    </tr>\n    <tr>\n      <th>32559</th>\n      <td>52.0</td>\n      <td>Self-emp-inc</td>\n      <td>287927</td>\n      <td>HS-grad</td>\n      <td>9.0</td>\n      <td>Married-civ-spouse</td>\n      <td>Wife</td>\n      <td>White</td>\n      <td>Female</td>\n      <td>40.0</td>\n      <td>United-States</td>\n      <td>&gt;50K</td>\n      <td>Mid</td>\n    </tr>\n  </tbody>\n</table>\n<p>29933 rows × 13 columns</p>\n</div>"
     },
     "execution_count": 78,
     "metadata": {},
     "output_type": "execute_result"
    }
   ],
   "source": [
    "import numpy as np\n",
    "\n",
    "adults_filter = adults[adults['native-country'].isin([' Portugal',' France','United-States','Canada','Mexico'])]\n",
    "adults_filter = adults_filter.drop(columns=['occupation','capital-gain','capital-loss'])\n",
    "conditions = [(adults_filter['age']<30), (adults_filter['age']>=30) & (adults_filter['age']<60), (adults_filter['age']>60)]\n",
    "values = ['young','intermediate', 'old']\n",
    "adults_filter['age-range'] = np.select(conditions, values)\n",
    "adults_filter\n",
    "\n",
    "#Solución de José Antonio\n",
    "adults_filter['age-range']=adults_filter.apply(lambda row: 'YOUNG' if row['age']<30 else('OLD' if row['age']>60 else 'intermediate') ,axis=1 )\n",
    "\n",
    "#Solución de Cristina Rodríguez\n",
    "def agemap_function(x):\n",
    "    if 0.0<= x <30: return 'young'\n",
    "    elif 30<=x<=60: return 'intermediate'\n",
    "    elif 60<= x <=100: return 'old'\n",
    "adults_filter['age-range']=adults_filter['age'].apply(agemap_function)\n",
    "#Solución Abel\n",
    "adults_filter.assign(age_range='young')[adults_filter['age']<30]\n",
    "adults_filter.assign(age_range='old')[adults_filter['age']>60]\n",
    "adults_filter.assign(age_range='intermediate')[(adults_filter['age']>30) & (adults_filter['age']>30)]\n",
    "\n",
    "#Solución Josué\n",
    "lst = []\n",
    "for i in adults_filter['age']:\n",
    "    if i < 30:\n",
    "        lst.append('Young')\n",
    "    elif i > 60:\n",
    "        lst.append('Old')\n",
    "    else:\n",
    "        lst.append('Mid')\n",
    "\n",
    "adults_filter['age-range'] = lst\n",
    "adults_filter"
   ],
   "metadata": {
    "id": "atYBx5U23AHr"
   }
  },
  {
   "cell_type": "markdown",
   "source": [
    "9. EXTRA4: Busca información sobre las funciones isnull, dropna y fillna. ¿Para qué se utilizan? Por un ejemplo interesante para cada una de ellas dónde se demuestre su utilidad."
   ],
   "metadata": {
    "collapsed": false,
    "id": "FcvG2wNx3AHr"
   }
  },
  {
   "cell_type": "code",
   "execution_count": 79,
   "outputs": [],
   "source": [
    "#isnull: si el dataframe, columna o fila contiene nulos\n",
    "#dropna: borra la fila o columna si contiene nulos (especificar axis como parámetro)\n",
    "#fillna: relleno los valores nulos con otro facilitado por parámetro"
   ],
   "metadata": {
    "collapsed": false
   }
  },
  {
   "cell_type": "markdown",
   "source": [
    "### *Ejercicio 5: Agrupaciones*\n",
    "\n",
    "1. Tomando los datos presentes en este dataset, ¿Cuál es la nacionalidad que tiene una mayor media de edad? ¿Y menor media?\n"
   ],
   "metadata": {
    "collapsed": false,
    "id": "FCyQAO9N3AHs"
   }
  },
  {
   "cell_type": "code",
   "execution_count": 80,
   "outputs": [
    {
     "name": "stdout",
     "output_type": "stream",
     "text": [
      "Holand-Netherlands 32.0\n",
      "Hungary\n"
     ]
    }
   ],
   "source": [
    "adults.groupby('native-country')['age'].mean().sort_values()\n",
    "#Hungary max, Netherlands min\n",
    "\n",
    "df_countries_mean = adults.groupby(['native-country']).mean().sort_values(by='age',ascending=True)\n",
    "print(df_countries_mean.index[0], df_countries_mean.iloc[0]['age'])\n",
    "print(df_countries_mean.index[df_countries_mean.shape[0]-1])"
   ],
   "metadata": {
    "id": "nmD5Few53AHs"
   }
  },
  {
   "cell_type": "markdown",
   "source": [
    "### *Ejercicio 6: Gráficos*\n",
    "\n",
    "1. Para cada columna (o feature) numérica, crea un gráfico de barras que muestre su distribución de valores.\n"
   ],
   "metadata": {
    "collapsed": false,
    "id": "zFkeGLjM3AHs"
   }
  },
  {
   "cell_type": "code",
   "execution_count": 81,
   "outputs": [
    {
     "ename": "ValueError",
     "evalue": "num must be 1 <= num <= 4, not 5",
     "output_type": "error",
     "traceback": [
      "\u001B[1;31m---------------------------------------------------------------------------\u001B[0m",
      "\u001B[1;31mValueError\u001B[0m                                Traceback (most recent call last)",
      "Cell \u001B[1;32mIn [81], line 7\u001B[0m\n\u001B[0;32m      5\u001B[0m figure\u001B[38;5;241m=\u001B[39mplt\u001B[38;5;241m.\u001B[39mfigure(figsize \u001B[38;5;241m=\u001B[39m (\u001B[38;5;241m10\u001B[39m,\u001B[38;5;241m12\u001B[39m))\n\u001B[0;32m      6\u001B[0m \u001B[38;5;28;01mfor\u001B[39;00m i, column \u001B[38;5;129;01min\u001B[39;00m \u001B[38;5;28menumerate\u001B[39m(df_numericos\u001B[38;5;241m.\u001B[39mcolumns, \u001B[38;5;241m1\u001B[39m):\n\u001B[1;32m----> 7\u001B[0m     axes \u001B[38;5;241m=\u001B[39m \u001B[43mfigure\u001B[49m\u001B[38;5;241;43m.\u001B[39;49m\u001B[43madd_subplot\u001B[49m\u001B[43m(\u001B[49m\u001B[38;5;241;43m2\u001B[39;49m\u001B[43m,\u001B[49m\u001B[38;5;241;43m2\u001B[39;49m\u001B[43m,\u001B[49m\u001B[43mi\u001B[49m\u001B[43m)\u001B[49m\n\u001B[0;32m      8\u001B[0m     sns\u001B[38;5;241m.\u001B[39mhistplot(x \u001B[38;5;241m=\u001B[39m df_numericos[column], ax \u001B[38;5;241m=\u001B[39m axes)\n\u001B[0;32m      9\u001B[0m     figure\u001B[38;5;241m.\u001B[39mtight_layout()\n",
      "File \u001B[1;32mC:\\ProgramData\\Miniconda3\\envs\\ml_env_windows\\lib\\site-packages\\matplotlib\\figure.py:772\u001B[0m, in \u001B[0;36mFigureBase.add_subplot\u001B[1;34m(self, *args, **kwargs)\u001B[0m\n\u001B[0;32m    769\u001B[0m         args \u001B[38;5;241m=\u001B[39m \u001B[38;5;28mtuple\u001B[39m(\u001B[38;5;28mmap\u001B[39m(\u001B[38;5;28mint\u001B[39m, \u001B[38;5;28mstr\u001B[39m(args[\u001B[38;5;241m0\u001B[39m])))\n\u001B[0;32m    770\u001B[0m     projection_class, pkw \u001B[38;5;241m=\u001B[39m \u001B[38;5;28mself\u001B[39m\u001B[38;5;241m.\u001B[39m_process_projection_requirements(\n\u001B[0;32m    771\u001B[0m         \u001B[38;5;241m*\u001B[39margs, \u001B[38;5;241m*\u001B[39m\u001B[38;5;241m*\u001B[39mkwargs)\n\u001B[1;32m--> 772\u001B[0m     ax \u001B[38;5;241m=\u001B[39m subplot_class_factory(projection_class)(\u001B[38;5;28mself\u001B[39m, \u001B[38;5;241m*\u001B[39margs, \u001B[38;5;241m*\u001B[39m\u001B[38;5;241m*\u001B[39mpkw)\n\u001B[0;32m    773\u001B[0m     key \u001B[38;5;241m=\u001B[39m (projection_class, pkw)\n\u001B[0;32m    774\u001B[0m \u001B[38;5;28;01mreturn\u001B[39;00m \u001B[38;5;28mself\u001B[39m\u001B[38;5;241m.\u001B[39m_add_axes_internal(ax, key)\n",
      "File \u001B[1;32mC:\\ProgramData\\Miniconda3\\envs\\ml_env_windows\\lib\\site-packages\\matplotlib\\axes\\_subplots.py:36\u001B[0m, in \u001B[0;36mSubplotBase.__init__\u001B[1;34m(self, fig, *args, **kwargs)\u001B[0m\n\u001B[0;32m     34\u001B[0m \u001B[38;5;28mself\u001B[39m\u001B[38;5;241m.\u001B[39m_axes_class\u001B[38;5;241m.\u001B[39m\u001B[38;5;21m__init__\u001B[39m(\u001B[38;5;28mself\u001B[39m, fig, [\u001B[38;5;241m0\u001B[39m, \u001B[38;5;241m0\u001B[39m, \u001B[38;5;241m1\u001B[39m, \u001B[38;5;241m1\u001B[39m], \u001B[38;5;241m*\u001B[39m\u001B[38;5;241m*\u001B[39mkwargs)\n\u001B[0;32m     35\u001B[0m \u001B[38;5;66;03m# This will also update the axes position.\u001B[39;00m\n\u001B[1;32m---> 36\u001B[0m \u001B[38;5;28mself\u001B[39m\u001B[38;5;241m.\u001B[39mset_subplotspec(\u001B[43mSubplotSpec\u001B[49m\u001B[38;5;241;43m.\u001B[39;49m\u001B[43m_from_subplot_args\u001B[49m\u001B[43m(\u001B[49m\u001B[43mfig\u001B[49m\u001B[43m,\u001B[49m\u001B[43m \u001B[49m\u001B[43margs\u001B[49m\u001B[43m)\u001B[49m)\n",
      "File \u001B[1;32mC:\\ProgramData\\Miniconda3\\envs\\ml_env_windows\\lib\\site-packages\\matplotlib\\gridspec.py:608\u001B[0m, in \u001B[0;36mSubplotSpec._from_subplot_args\u001B[1;34m(figure, args)\u001B[0m\n\u001B[0;32m    606\u001B[0m \u001B[38;5;28;01melse\u001B[39;00m:\n\u001B[0;32m    607\u001B[0m     \u001B[38;5;28;01mif\u001B[39;00m \u001B[38;5;129;01mnot\u001B[39;00m \u001B[38;5;28misinstance\u001B[39m(num, Integral) \u001B[38;5;129;01mor\u001B[39;00m num \u001B[38;5;241m<\u001B[39m \u001B[38;5;241m1\u001B[39m \u001B[38;5;129;01mor\u001B[39;00m num \u001B[38;5;241m>\u001B[39m rows\u001B[38;5;241m*\u001B[39mcols:\n\u001B[1;32m--> 608\u001B[0m         \u001B[38;5;28;01mraise\u001B[39;00m \u001B[38;5;167;01mValueError\u001B[39;00m(\n\u001B[0;32m    609\u001B[0m             \u001B[38;5;124mf\u001B[39m\u001B[38;5;124m\"\u001B[39m\u001B[38;5;124mnum must be 1 <= num <= \u001B[39m\u001B[38;5;132;01m{\u001B[39;00mrows\u001B[38;5;241m*\u001B[39mcols\u001B[38;5;132;01m}\u001B[39;00m\u001B[38;5;124m, not \u001B[39m\u001B[38;5;132;01m{\u001B[39;00mnum\u001B[38;5;132;01m!r}\u001B[39;00m\u001B[38;5;124m\"\u001B[39m)\n\u001B[0;32m    610\u001B[0m     i \u001B[38;5;241m=\u001B[39m j \u001B[38;5;241m=\u001B[39m num\n\u001B[0;32m    611\u001B[0m \u001B[38;5;28;01mreturn\u001B[39;00m gs[i\u001B[38;5;241m-\u001B[39m\u001B[38;5;241m1\u001B[39m:j]\n",
      "\u001B[1;31mValueError\u001B[0m: num must be 1 <= num <= 4, not 5"
     ]
    },
    {
     "data": {
      "text/plain": "<Figure size 1000x1200 with 4 Axes>",
      "image/png": "[encoded data removed]"
     },
     "metadata": {},
     "output_type": "display_data"
    }
   ],
   "source": [
    "import matplotlib.pyplot as plt\n",
    "import seaborn as sns\n",
    "\n",
    "df_numericos = adults.select_dtypes(include = np.number) #creamos un nuevo dataframe solo como los tipos numéricos.\n",
    "figure=plt.figure(figsize = (10,12))\n",
    "for i, column in enumerate(df_numericos.columns, 1):\n",
    "    axes = figure.add_subplot(2,2,i)\n",
    "    sns.histplot(x = df_numericos[column], ax = axes)\n",
    "    figure.tight_layout()"
   ],
   "metadata": {
    "collapsed": false
   }
  },
  {
   "cell_type": "code",
   "execution_count": null,
   "outputs": [],
   "source": [
    "import matplotlib.pyplot as plt\n",
    "#Opción 1 para todas las features numéricas\n",
    "adults.hist(bins=20,figsize=(15,15))\n",
    "plt.show()\n",
    "#Una a una cada feature:\n",
    "adults['age'].hist()\n",
    "#Selección de las features que nos interesen\n",
    "adults.hist(column=['age','hours-per-week'],bins=20,figsize=(10,4))"
   ],
   "metadata": {
    "id": "ATv2ahfz3AHt"
   }
  },
  {
   "cell_type": "markdown",
   "source": [
    "2. EXTRA: A continuación tienes un código que crea gráficos que muestran la distribución de las ganancias respecto al resto de columnas. Extrae conclusiones de los resultados y propón realizar estos gráficos para otra columna que consideres de interés."
   ],
   "metadata": {
    "collapsed": false,
    "id": "k-_NjuKp3AHt"
   }
  },
  {
   "cell_type": "code",
   "execution_count": null,
   "outputs": [],
   "source": [
    "import matplotlib.pyplot as plt\n",
    "import seaborn as sns\n",
    "import numpy as np\n",
    "\n",
    "df_numerics = adults.select_dtypes(include = np.number)\n",
    "\n",
    "figure=plt.figure(figsize = (15, 6))\n",
    "\n",
    "for i, column in enumerate(df_numerics.columns, 1):\n",
    "    axes = figure.add_subplot(2,3,i)\n",
    "    sns.kdeplot(x = df_numerics[column], hue = adults['gains'], fill = True, ax = axes)\n",
    "    figure.tight_layout()"
   ],
   "metadata": {
    "id": "KJddAOhm3AHt",
    "outputId": "9f2c880f-1891-475b-f036-e96255758fb4"
   }
  },
  {
   "cell_type": "markdown",
   "source": [
    "The horizontal or x-axis of a KDE plot is the range of values in the data set. This is similar to the x axis for histograms.\n",
    "\n",
    "The vertical or y-axis of a KDE plot represents the Kernel Density Estimate of the Probability Density Function of a random variable, which is interpreted as a probability differential. The probability of a value being between the points x1 and x2 is the total shaded area of the curve under the two points.\n",
    "https://en.wikipedia.org/wiki/Probability_distribution\n",
    "\n",
    "Podríamos hacerlo para la columna relationship para ver como afecta el estado civil respecto al resto de columnas (curioso las madres solteras)"
   ],
   "metadata": {
    "collapsed": false
   }
  },
  {
   "cell_type": "markdown",
   "source": [
    "### *Ejercicio 7: Valores missing*\n",
    "\n",
    "1. Gestiona los valores nulos con la técnica del rellenado. ¿Qué valores piensas que deberían de tener los nulos presentes en el dataset?"
   ],
   "metadata": {
    "collapsed": false
   }
  },
  {
   "cell_type": "code",
   "execution_count": 86,
   "outputs": [],
   "source": [
    "adults.isnull().sum()\n",
    "#adults[adults['age'].isnull()]\n",
    "df_aux= adults[['education','education-num']].value_counts().reset_index()"
   ],
   "metadata": {
    "collapsed": false
   }
  },
  {
   "cell_type": "code",
   "execution_count": 87,
   "outputs": [
    {
     "name": "stdout",
     "output_type": "stream",
     "text": [
      "24.626114081996434\n",
      "              education-num\n",
      "education                  \n",
      "Preschool               1.0\n",
      "1st-4th                 2.0\n",
      "5th-6th                 3.0\n",
      "7th-8th                 4.0\n",
      "9th                     5.0\n",
      "10th                    6.0\n",
      "11th                    7.0\n",
      "12th                    8.0\n",
      "HS-grad                 9.0\n",
      "Some-college           10.0\n",
      "Assoc-voc              11.0\n",
      "Assoc-acdm             12.0\n",
      "Bachelors              13.0\n",
      "Masters                14.0\n",
      "Prof-school            15.0\n",
      "Doctorate              16.0\n"
     ]
    },
    {
     "data": {
      "text/plain": "age               0\nworkclass         0\nfnlwgt            0\neducation         0\neducation-num     0\nmarital-status    0\noccupation        0\nrelationship      0\nrace              0\nsex               0\ncapital-gain      0\ncapital-loss      0\nhours-per-week    0\nnative-country    0\ngains             0\ndtype: int64"
     },
     "execution_count": 87,
     "metadata": {},
     "output_type": "execute_result"
    }
   ],
   "source": [
    "\n",
    "\n",
    "#Age: análisis y búsqueda del mejor valor de forma específica\n",
    "\n",
    "#1. Visualizamos la fila\n",
    "adults[adults['age'].isnull()]\n",
    "#2. Calculamos la edad media de mujeres y madres solteras\n",
    "value = adults[(adults['sex']=='Female') & (adults['relationship']=='Own-child')].age.mean() #24.626114081996434\n",
    "print(value)\n",
    "#3. Rellenamos con dicho valor\n",
    "#adults['age'].fillna(value)\n",
    "adults.iloc[50,0]=value\n",
    "#4. Revisamos que se haya aplicado el cambio\n",
    "adults.iloc[50,:]\n",
    "\n",
    "\n",
    "#Workclass: rellenamos con la moda\n",
    "\n",
    "adults['workclass'].fillna(adults['workclass'].mode()[0], inplace=True)\n",
    "\n",
    "#Education-num: rellenamos con el valor correlacionado con education\n",
    "\n",
    "# Está claro que la primera idea sería suprimir la columna education porque es meramente redudante, pero antes de ello debemos de rellenar los valores nulos de education_num\n",
    "# 1. Obtener df de relación entre education y education-num\n",
    "df_aux= adults[['education','education-num']].value_counts().reset_index()\n",
    "df_aux = df_aux.drop(df_aux.columns[[2]], axis=1)\n",
    "df_aux = df_aux.sort_values(by='education-num')\n",
    "\n",
    "df_aux.set_index(\"education\", inplace=True)\n",
    "\n",
    "print(df_aux)\n",
    "\n",
    "#2. Rellenado con valores correspondientes gracias a un map que asocia la education de adults con su valor correspondiente dentro del df df_aux\n",
    "education_num_by_education = adults['education'].map(df_aux['education-num'])\n",
    "adults['education-num'] = np.where(adults['education-num'].isna(), education_num_by_education, adults['education-num'])\n",
    "\n",
    "\n",
    "#Race: haremos un rellenado aleatorio con el valor siguiente gracias al método bfill\n",
    "adults['race'].bfill(axis=0,inplace=True)\n",
    "\n",
    "#Hours-per-week: haremos un rellenado con el valor anterior gracias al método ffill\n",
    "adults['hours-per-week'].ffill(axis=0,inplace=True)\n",
    "\n",
    "#Volvemos a contabilizar los valores nulos totales\n",
    "\n",
    "\n",
    "adults.isnull().sum()"
   ],
   "metadata": {
    "collapsed": false
   }
  },
  {
   "cell_type": "markdown",
   "source": [
    "2. Borra las columnas fnlwgt, education, capital_gain y capital_loss."
   ],
   "metadata": {
    "collapsed": false,
    "id": "h9ugRHFt3AHv"
   }
  },
  {
   "cell_type": "code",
   "execution_count": null,
   "outputs": [],
   "source": [
    "adults = adults.drop(columns=['fnlwgt','education','capital-gain','capital-loss'])\n"
   ],
   "metadata": {
    "id": "c_qMGKAu3AHv"
   }
  },
  {
   "cell_type": "markdown",
   "source": [
    "### *Ejercicio 8: Datos categóricos*"
   ],
   "metadata": {
    "collapsed": false,
    "id": "4-CRImUK3AHv"
   }
  },
  {
   "cell_type": "markdown",
   "source": [
    "1. Transforma todas las columnas categóricas a numéricas con un LabelEncoder."
   ],
   "metadata": {
    "collapsed": false
   }
  },
  {
   "cell_type": "code",
   "execution_count": 88,
   "outputs": [
    {
     "data": {
      "text/plain": "        age         workclass  fnlwgt   education  education-num  \\\n0      50.0  Self-emp-not-inc   83311   Bachelors           13.0   \n1      38.0           Private  215646     HS-grad            9.0   \n2      53.0           Private  234721        11th            7.0   \n3      28.0           Private  338409   Bachelors           13.0   \n4      37.0           Private  284582     Masters           14.0   \n...     ...               ...     ...         ...            ...   \n32555  27.0           Private  257302  Assoc-acdm           12.0   \n32556  40.0           Private  154374     HS-grad            9.0   \n32557  58.0           Private  151910     HS-grad            9.0   \n32558  22.0           Private  201490     HS-grad            9.0   \n32559  52.0      Self-emp-inc  287927     HS-grad            9.0   \n\n           marital-status         occupation   relationship   race     sex  \\\n0      Married-civ-spouse    Exec-managerial        Husband  White    Male   \n1                Divorced  Handlers-cleaners  Not-in-family  White    Male   \n2      Married-civ-spouse  Handlers-cleaners        Husband  Black    Male   \n3      Married-civ-spouse     Prof-specialty           Wife  Black  Female   \n4      Married-civ-spouse    Exec-managerial           Wife  White  Female   \n...                   ...                ...            ...    ...     ...   \n32555  Married-civ-spouse       Tech-support           Wife  White  Female   \n32556  Married-civ-spouse  Machine-op-inspct        Husband  White    Male   \n32557             Widowed       Adm-clerical      Unmarried  White  Female   \n32558       Never-married       Adm-clerical      Own-child  White    Male   \n32559  Married-civ-spouse    Exec-managerial           Wife  White  Female   \n\n       capital-gain  capital-loss  hours-per-week native-country  gains  \n0                 0             0            13.0  United-States  <=50K  \n1                 0             0            40.0  United-States  <=50K  \n2                 0             0            40.0  United-States  <=50K  \n3                 0             0            40.0           Cuba  <=50K  \n4                 0             0            40.0  United-States  <=50K  \n...             ...           ...             ...            ...    ...  \n32555             0             0            38.0  United-States  <=50K  \n32556             0             0            40.0  United-States   >50K  \n32557             0             0            40.0  United-States  <=50K  \n32558             0             0            20.0  United-States  <=50K  \n32559         15024             0            40.0  United-States   >50K  \n\n[32560 rows x 15 columns]",
      "text/html": "<div>\n<style scoped>\n    .dataframe tbody tr th:only-of-type {\n        vertical-align: middle;\n    }\n\n    .dataframe tbody tr th {\n        vertical-align: top;\n    }\n\n    .dataframe thead th {\n        text-align: right;\n    }\n</style>\n<table border=\"1\" class=\"dataframe\">\n  <thead>\n    <tr style=\"text-align: right;\">\n      <th></th>\n      <th>age</th>\n      <th>workclass</th>\n      <th>fnlwgt</th>\n      <th>education</th>\n      <th>education-num</th>\n      <th>marital-status</th>\n      <th>occupation</th>\n      <th>relationship</th>\n      <th>race</th>\n      <th>sex</th>\n      <th>capital-gain</th>\n      <th>capital-loss</th>\n      <th>hours-per-week</th>\n      <th>native-country</th>\n      <th>gains</th>\n    </tr>\n  </thead>\n  <tbody>\n    <tr>\n      <th>0</th>\n      <td>50.0</td>\n      <td>Self-emp-not-inc</td>\n      <td>83311</td>\n      <td>Bachelors</td>\n      <td>13.0</td>\n      <td>Married-civ-spouse</td>\n      <td>Exec-managerial</td>\n      <td>Husband</td>\n      <td>White</td>\n      <td>Male</td>\n      <td>0</td>\n      <td>0</td>\n      <td>13.0</td>\n      <td>United-States</td>\n      <td>&lt;=50K</td>\n    </tr>\n    <tr>\n      <th>1</th>\n      <td>38.0</td>\n      <td>Private</td>\n      <td>215646</td>\n      <td>HS-grad</td>\n      <td>9.0</td>\n      <td>Divorced</td>\n      <td>Handlers-cleaners</td>\n      <td>Not-in-family</td>\n      <td>White</td>\n      <td>Male</td>\n      <td>0</td>\n      <td>0</td>\n      <td>40.0</td>\n      <td>United-States</td>\n      <td>&lt;=50K</td>\n    </tr>\n    <tr>\n      <th>2</th>\n      <td>53.0</td>\n      <td>Private</td>\n      <td>234721</td>\n      <td>11th</td>\n      <td>7.0</td>\n      <td>Married-civ-spouse</td>\n      <td>Handlers-cleaners</td>\n      <td>Husband</td>\n      <td>Black</td>\n      <td>Male</td>\n      <td>0</td>\n      <td>0</td>\n      <td>40.0</td>\n      <td>United-States</td>\n      <td>&lt;=50K</td>\n    </tr>\n    <tr>\n      <th>3</th>\n      <td>28.0</td>\n      <td>Private</td>\n      <td>338409</td>\n      <td>Bachelors</td>\n      <td>13.0</td>\n      <td>Married-civ-spouse</td>\n      <td>Prof-specialty</td>\n      <td>Wife</td>\n      <td>Black</td>\n      <td>Female</td>\n      <td>0</td>\n      <td>0</td>\n      <td>40.0</td>\n      <td>Cuba</td>\n      <td>&lt;=50K</td>\n    </tr>\n    <tr>\n      <th>4</th>\n      <td>37.0</td>\n      <td>Private</td>\n      <td>284582</td>\n      <td>Masters</td>\n      <td>14.0</td>\n      <td>Married-civ-spouse</td>\n      <td>Exec-managerial</td>\n      <td>Wife</td>\n      <td>White</td>\n      <td>Female</td>\n      <td>0</td>\n      <td>0</td>\n      <td>40.0</td>\n      <td>United-States</td>\n      <td>&lt;=50K</td>\n    </tr>\n    <tr>\n      <th>...</th>\n      <td>...</td>\n      <td>...</td>\n      <td>...</td>\n      <td>...</td>\n      <td>...</td>\n      <td>...</td>\n      <td>...</td>\n      <td>...</td>\n      <td>...</td>\n      <td>...</td>\n      <td>...</td>\n      <td>...</td>\n      <td>...</td>\n      <td>...</td>\n      <td>...</td>\n    </tr>\n    <tr>\n      <th>32555</th>\n      <td>27.0</td>\n      <td>Private</td>\n      <td>257302</td>\n      <td>Assoc-acdm</td>\n      <td>12.0</td>\n      <td>Married-civ-spouse</td>\n      <td>Tech-support</td>\n      <td>Wife</td>\n      <td>White</td>\n      <td>Female</td>\n      <td>0</td>\n      <td>0</td>\n      <td>38.0</td>\n      <td>United-States</td>\n      <td>&lt;=50K</td>\n    </tr>\n    <tr>\n      <th>32556</th>\n      <td>40.0</td>\n      <td>Private</td>\n      <td>154374</td>\n      <td>HS-grad</td>\n      <td>9.0</td>\n      <td>Married-civ-spouse</td>\n      <td>Machine-op-inspct</td>\n      <td>Husband</td>\n      <td>White</td>\n      <td>Male</td>\n      <td>0</td>\n      <td>0</td>\n      <td>40.0</td>\n      <td>United-States</td>\n      <td>&gt;50K</td>\n    </tr>\n    <tr>\n      <th>32557</th>\n      <td>58.0</td>\n      <td>Private</td>\n      <td>151910</td>\n      <td>HS-grad</td>\n      <td>9.0</td>\n      <td>Widowed</td>\n      <td>Adm-clerical</td>\n      <td>Unmarried</td>\n      <td>White</td>\n      <td>Female</td>\n      <td>0</td>\n      <td>0</td>\n      <td>40.0</td>\n      <td>United-States</td>\n      <td>&lt;=50K</td>\n    </tr>\n    <tr>\n      <th>32558</th>\n      <td>22.0</td>\n      <td>Private</td>\n      <td>201490</td>\n      <td>HS-grad</td>\n      <td>9.0</td>\n      <td>Never-married</td>\n      <td>Adm-clerical</td>\n      <td>Own-child</td>\n      <td>White</td>\n      <td>Male</td>\n      <td>0</td>\n      <td>0</td>\n      <td>20.0</td>\n      <td>United-States</td>\n      <td>&lt;=50K</td>\n    </tr>\n    <tr>\n      <th>32559</th>\n      <td>52.0</td>\n      <td>Self-emp-inc</td>\n      <td>287927</td>\n      <td>HS-grad</td>\n      <td>9.0</td>\n      <td>Married-civ-spouse</td>\n      <td>Exec-managerial</td>\n      <td>Wife</td>\n      <td>White</td>\n      <td>Female</td>\n      <td>15024</td>\n      <td>0</td>\n      <td>40.0</td>\n      <td>United-States</td>\n      <td>&gt;50K</td>\n    </tr>\n  </tbody>\n</table>\n<p>32560 rows × 15 columns</p>\n</div>"
     },
     "execution_count": 88,
     "metadata": {},
     "output_type": "execute_result"
    }
   ],
   "source": [
    "adults"
   ],
   "metadata": {
    "collapsed": false
   }
  },
  {
   "cell_type": "code",
   "execution_count": 92,
   "outputs": [
    {
     "data": {
      "text/plain": "        age  workclass  fnlwgt  education  education-num  marital-status  \\\n0      50.0          6   83311          9           13.0               2   \n1      38.0          4  215646         11            9.0               0   \n2      53.0          4  234721          1            7.0               2   \n3      28.0          4  338409          9           13.0               2   \n4      37.0          4  284582         12           14.0               2   \n...     ...        ...     ...        ...            ...             ...   \n32555  27.0          4  257302          7           12.0               2   \n32556  40.0          4  154374         11            9.0               2   \n32557  58.0          4  151910         11            9.0               6   \n32558  22.0          4  201490         11            9.0               4   \n32559  52.0          5  287927         11            9.0               2   \n\n       occupation  relationship  race  sex  capital-gain  capital-loss  \\\n0               4             0     4    1             0             0   \n1               6             1     4    1             0             0   \n2               6             0     2    1             0             0   \n3              10             5     2    0             0             0   \n4               4             5     4    0             0             0   \n...           ...           ...   ...  ...           ...           ...   \n32555          13             5     4    0             0             0   \n32556           7             0     4    1             0             0   \n32557           1             4     4    0             0             0   \n32558           1             3     4    1             0             0   \n32559           4             5     4    0         15024             0   \n\n       hours-per-week  native-country  gains  \n0                13.0              39      0  \n1                40.0              39      0  \n2                40.0              39      0  \n3                40.0               5      0  \n4                40.0              39      0  \n...               ...             ...    ...  \n32555            38.0              39      0  \n32556            40.0              39      1  \n32557            40.0              39      0  \n32558            20.0              39      0  \n32559            40.0              39      1  \n\n[32560 rows x 15 columns]",
      "text/html": "<div>\n<style scoped>\n    .dataframe tbody tr th:only-of-type {\n        vertical-align: middle;\n    }\n\n    .dataframe tbody tr th {\n        vertical-align: top;\n    }\n\n    .dataframe thead th {\n        text-align: right;\n    }\n</style>\n<table border=\"1\" class=\"dataframe\">\n  <thead>\n    <tr style=\"text-align: right;\">\n      <th></th>\n      <th>age</th>\n      <th>workclass</th>\n      <th>fnlwgt</th>\n      <th>education</th>\n      <th>education-num</th>\n      <th>marital-status</th>\n      <th>occupation</th>\n      <th>relationship</th>\n      <th>race</th>\n      <th>sex</th>\n      <th>capital-gain</th>\n      <th>capital-loss</th>\n      <th>hours-per-week</th>\n      <th>native-country</th>\n      <th>gains</th>\n    </tr>\n  </thead>\n  <tbody>\n    <tr>\n      <th>0</th>\n      <td>50.0</td>\n      <td>6</td>\n      <td>83311</td>\n      <td>9</td>\n      <td>13.0</td>\n      <td>2</td>\n      <td>4</td>\n      <td>0</td>\n      <td>4</td>\n      <td>1</td>\n      <td>0</td>\n      <td>0</td>\n      <td>13.0</td>\n      <td>39</td>\n      <td>0</td>\n    </tr>\n    <tr>\n      <th>1</th>\n      <td>38.0</td>\n      <td>4</td>\n      <td>215646</td>\n      <td>11</td>\n      <td>9.0</td>\n      <td>0</td>\n      <td>6</td>\n      <td>1</td>\n      <td>4</td>\n      <td>1</td>\n      <td>0</td>\n      <td>0</td>\n      <td>40.0</td>\n      <td>39</td>\n      <td>0</td>\n    </tr>\n    <tr>\n      <th>2</th>\n      <td>53.0</td>\n      <td>4</td>\n      <td>234721</td>\n      <td>1</td>\n      <td>7.0</td>\n      <td>2</td>\n      <td>6</td>\n      <td>0</td>\n      <td>2</td>\n      <td>1</td>\n      <td>0</td>\n      <td>0</td>\n      <td>40.0</td>\n      <td>39</td>\n      <td>0</td>\n    </tr>\n    <tr>\n      <th>3</th>\n      <td>28.0</td>\n      <td>4</td>\n      <td>338409</td>\n      <td>9</td>\n      <td>13.0</td>\n      <td>2</td>\n      <td>10</td>\n      <td>5</td>\n      <td>2</td>\n      <td>0</td>\n      <td>0</td>\n      <td>0</td>\n      <td>40.0</td>\n      <td>5</td>\n      <td>0</td>\n    </tr>\n    <tr>\n      <th>4</th>\n      <td>37.0</td>\n      <td>4</td>\n      <td>284582</td>\n      <td>12</td>\n      <td>14.0</td>\n      <td>2</td>\n      <td>4</td>\n      <td>5</td>\n      <td>4</td>\n      <td>0</td>\n      <td>0</td>\n      <td>0</td>\n      <td>40.0</td>\n      <td>39</td>\n      <td>0</td>\n    </tr>\n    <tr>\n      <th>...</th>\n      <td>...</td>\n      <td>...</td>\n      <td>...</td>\n      <td>...</td>\n      <td>...</td>\n      <td>...</td>\n      <td>...</td>\n      <td>...</td>\n      <td>...</td>\n      <td>...</td>\n      <td>...</td>\n      <td>...</td>\n      <td>...</td>\n      <td>...</td>\n      <td>...</td>\n    </tr>\n    <tr>\n      <th>32555</th>\n      <td>27.0</td>\n      <td>4</td>\n      <td>257302</td>\n      <td>7</td>\n      <td>12.0</td>\n      <td>2</td>\n      <td>13</td>\n      <td>5</td>\n      <td>4</td>\n      <td>0</td>\n      <td>0</td>\n      <td>0</td>\n      <td>38.0</td>\n      <td>39</td>\n      <td>0</td>\n    </tr>\n    <tr>\n      <th>32556</th>\n      <td>40.0</td>\n      <td>4</td>\n      <td>154374</td>\n      <td>11</td>\n      <td>9.0</td>\n      <td>2</td>\n      <td>7</td>\n      <td>0</td>\n      <td>4</td>\n      <td>1</td>\n      <td>0</td>\n      <td>0</td>\n      <td>40.0</td>\n      <td>39</td>\n      <td>1</td>\n    </tr>\n    <tr>\n      <th>32557</th>\n      <td>58.0</td>\n      <td>4</td>\n      <td>151910</td>\n      <td>11</td>\n      <td>9.0</td>\n      <td>6</td>\n      <td>1</td>\n      <td>4</td>\n      <td>4</td>\n      <td>0</td>\n      <td>0</td>\n      <td>0</td>\n      <td>40.0</td>\n      <td>39</td>\n      <td>0</td>\n    </tr>\n    <tr>\n      <th>32558</th>\n      <td>22.0</td>\n      <td>4</td>\n      <td>201490</td>\n      <td>11</td>\n      <td>9.0</td>\n      <td>4</td>\n      <td>1</td>\n      <td>3</td>\n      <td>4</td>\n      <td>1</td>\n      <td>0</td>\n      <td>0</td>\n      <td>20.0</td>\n      <td>39</td>\n      <td>0</td>\n    </tr>\n    <tr>\n      <th>32559</th>\n      <td>52.0</td>\n      <td>5</td>\n      <td>287927</td>\n      <td>11</td>\n      <td>9.0</td>\n      <td>2</td>\n      <td>4</td>\n      <td>5</td>\n      <td>4</td>\n      <td>0</td>\n      <td>15024</td>\n      <td>0</td>\n      <td>40.0</td>\n      <td>39</td>\n      <td>1</td>\n    </tr>\n  </tbody>\n</table>\n<p>32560 rows × 15 columns</p>\n</div>"
     },
     "execution_count": 92,
     "metadata": {},
     "output_type": "execute_result"
    }
   ],
   "source": [
    "from sklearn.preprocessing import LabelEncoder\n",
    "\n",
    "adults_num = adults.copy()\n",
    "categorical_columns = adults_num.select_dtypes(include=object).columns.tolist()\n",
    "adults_num[categorical_columns]=adults_num[categorical_columns].apply(LabelEncoder().fit_transform)\n",
    "adults_num"
   ],
   "metadata": {
    "collapsed": false
   }
  },
  {
   "cell_type": "markdown",
   "source": [
    "### *Ejercicio 9: Escalado de los datos*\n",
    "\n",
    "1. EXTRA1: Divide el dataset en 4 grupos (training y testing).\n",
    "2. EXTRA2: Escala las columnas con un StandardScaler."
   ],
   "metadata": {
    "collapsed": false,
    "id": "w-4DRz813AHv"
   }
  },
  {
   "cell_type": "code",
   "execution_count": null,
   "outputs": [],
   "source": [
    "from sklearn.model_selection import train_test_split\n",
    "\n",
    "y = adults_num['gains'].values\n",
    "X = adults_num.drop('gains',axis=1).values\n",
    "\n",
    "X_train, X_test, y_train, y_test = train_test_split(X, y, test_size = 0.3, random_state=42)\n",
    "\n",
    "from sklearn.preprocessing import StandardScaler\n",
    "sc = StandardScaler()\n",
    "X_train = sc.fit_transform(X_train)\n",
    "X_test = sc.transform(X_test)\n",
    "X_train"
   ],
   "metadata": {
    "collapsed": false
   }
  },
  {
   "cell_type": "markdown",
   "source": [
    "# Webgrafía\n",
    "\n",
    "\n",
    "[Curso de Cesar Guirò](https://cesguiro.es/doku.php?id=clase:ia:saa:start)\n",
    "[Curso de Luz Frías](https://github.com/koldLight/curso-python-analisis-datos)\n",
    "[Curso de Tirtjakupto Sarkar](https://github.com/tirthajyoti/Machine-Learning-with-Python)\n",
    "[DataCamp](https://www.datacamp.com/)\n"
   ],
   "metadata": {
    "collapsed": false,
    "id": "dWUKBXFL3AHw"
   }
  },
  {
   "cell_type": "markdown",
   "source": [
    "# Licencia\n",
    "\n",
    "[Attributon-ShacerAlike 4.0 International](https://creativecommons.org/licenses/by-sa/4.0/)\n",
    "\n",
    "Puedes utilizar libremente este material, con las siguientes condiciones:\n",
    "\n",
    "* Atribuir la autoría a este documento.\n",
    "* Si lo utilizas y haces cambios, deberás liberarlo también bajo la misma licencia."
   ],
   "metadata": {
    "collapsed": false,
    "id": "8S5JP8jH3AHw"
   }
  }
 ],
 "metadata": {
  "kernelspec": {
   "name": "python3",
   "language": "python",
   "display_name": "Python 3"
  },
  "language_info": {
   "codemirror_mode": {
    "name": "ipython",
    "version": 3
   },
   "file_extension": ".py",
   "mimetype": "text/x-python",
   "name": "python",
   "nbconvert_exporter": "python",
   "pygments_lexer": "ipython3",
   "version": "3.7.3"
  },
  "colab": {
   "provenance": []
  }
 },
 "nbformat": 4,
 "nbformat_minor": 0
}
