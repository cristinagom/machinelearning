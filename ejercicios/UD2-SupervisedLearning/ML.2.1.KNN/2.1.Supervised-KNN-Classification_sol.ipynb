{
 "cells": [
  {
   "cell_type": "markdown",
   "source": [
    "# Solución Ejercicio Algoritmo K Nearest Neighbors\n"
   ],
   "metadata": {
    "collapsed": false,
    "id": "HhrxjDEXxw9w"
   }
  },
  {
   "cell_type": "markdown",
   "source": [
    "## 1. Importanción de librerías y datos"
   ],
   "metadata": {
    "collapsed": false,
    "id": "3heKqYjzxw93"
   }
  },
  {
   "cell_type": "code",
   "execution_count": 15,
   "outputs": [],
   "source": [
    "import pandas as pd\n",
    "import numpy as np\n",
    "import matplotlib.pyplot as plt\n",
    "from matplotlib.colors import ListedColormap\n",
    "import matplotlib.patches as mpatches\n",
    "import seaborn as sb\n",
    "\n",
    "%matplotlib inline\n",
    "plt.rcParams['figure.figsize'] = (16, 9)\n",
    "plt.style.use('ggplot')\n",
    "\n",
    "from sklearn.model_selection import train_test_split\n",
    "from sklearn.preprocessing import MinMaxScaler\n",
    "from sklearn.neighbors import KNeighborsClassifier\n",
    "from sklearn.metrics import classification_report\n",
    "from sklearn.metrics import confusion_matrix"
   ],
   "metadata": {
    "id": "68vd0KS9xw93"
   }
  },
  {
   "cell_type": "markdown",
   "source": [
    "### *Ejercicio 1: Importación del dataset*\n",
    "\n",
    "Carga en un dataframe el reviews_sentiment.csv y muestra las primeras 10 filas. ¿De qué trata este dataset? Utiliza funciones de EDA para entender su contenido y sus opciones."
   ],
   "metadata": {
    "collapsed": false,
    "id": "PaChf7okxw92"
   }
  },
  {
   "cell_type": "code",
   "execution_count": 16,
   "outputs": [
    {
     "data": {
      "text/plain": "   love  kiss  inspector  murderer  class\n0    10     5          2         0      1\n1     8     6          0         1      1\n2     7     4          0         0      1\n3     0     1         12        20      2\n4     1     0          8        56      2\n5     5     6          2         0      1\n6     1     0         12         4      2",
      "text/html": "<div>\n<style scoped>\n    .dataframe tbody tr th:only-of-type {\n        vertical-align: middle;\n    }\n\n    .dataframe tbody tr th {\n        vertical-align: top;\n    }\n\n    .dataframe thead th {\n        text-align: right;\n    }\n</style>\n<table border=\"1\" class=\"dataframe\">\n  <thead>\n    <tr style=\"text-align: right;\">\n      <th></th>\n      <th>love</th>\n      <th>kiss</th>\n      <th>inspector</th>\n      <th>murderer</th>\n      <th>class</th>\n    </tr>\n  </thead>\n  <tbody>\n    <tr>\n      <th>0</th>\n      <td>10</td>\n      <td>5</td>\n      <td>2</td>\n      <td>0</td>\n      <td>1</td>\n    </tr>\n    <tr>\n      <th>1</th>\n      <td>8</td>\n      <td>6</td>\n      <td>0</td>\n      <td>1</td>\n      <td>1</td>\n    </tr>\n    <tr>\n      <th>2</th>\n      <td>7</td>\n      <td>4</td>\n      <td>0</td>\n      <td>0</td>\n      <td>1</td>\n    </tr>\n    <tr>\n      <th>3</th>\n      <td>0</td>\n      <td>1</td>\n      <td>12</td>\n      <td>20</td>\n      <td>2</td>\n    </tr>\n    <tr>\n      <th>4</th>\n      <td>1</td>\n      <td>0</td>\n      <td>8</td>\n      <td>56</td>\n      <td>2</td>\n    </tr>\n    <tr>\n      <th>5</th>\n      <td>5</td>\n      <td>6</td>\n      <td>2</td>\n      <td>0</td>\n      <td>1</td>\n    </tr>\n    <tr>\n      <th>6</th>\n      <td>1</td>\n      <td>0</td>\n      <td>12</td>\n      <td>4</td>\n      <td>2</td>\n    </tr>\n  </tbody>\n</table>\n</div>"
     },
     "execution_count": 16,
     "metadata": {},
     "output_type": "execute_result"
    },
    {
     "data": {
      "text/plain": "<Figure size 1600x900 with 1 Axes>",
      "image/png": "[encoded data removed]"
     },
     "metadata": {},
     "output_type": "display_data"
    }
   ],
   "source": [
    "df = pd.DataFrame([[10,5,2,0,1],\n",
    "                   [8,6,0,1,1],\n",
    "                   [7,4,0,0,1],\n",
    "                   [0,1,12,20,2],\n",
    "                   [1,0,8,56,2],\n",
    "                  [5,6,2,0,1],\n",
    "                  [1,0,12,4,2]],\n",
    "                  columns=['love','kiss','inspector','murderer','class'])\n",
    "df.shape\n",
    "df.describe()\n",
    "df['class'].hist()\n",
    "df"
   ],
   "metadata": {
    "id": "lNgeIgHPxw92"
   }
  },
  {
   "cell_type": "markdown",
   "source": [
    "## 2. Preparación de los datos"
   ],
   "metadata": {
    "collapsed": false,
    "id": "LPSvK3i1xw95"
   }
  },
  {
   "cell_type": "code",
   "execution_count": 17,
   "outputs": [
    {
     "data": {
      "text/plain": "array([[ 8,  0],\n       [ 0, 12],\n       [10,  2],\n       [ 5,  2],\n       [ 1,  8]], dtype=int64)"
     },
     "execution_count": 17,
     "metadata": {},
     "output_type": "execute_result"
    }
   ],
   "source": [
    "X = df[['love','inspector']].values\n",
    "y = df['class'].values\n",
    "\n",
    "X_train, X_test, y_train, y_test = train_test_split(X, y, random_state=0)\n",
    "scaler = MinMaxScaler()\n",
    "#X_train = scaler.fit_transform(X_train)\n",
    "#X_test = scaler.transform(X_test)\n",
    "X_train"
   ],
   "metadata": {
    "id": "P0_7dkVuxw95",
    "outputId": "b0ea3d3c-953e-496d-8ec3-17e8b558adef"
   }
  },
  {
   "cell_type": "markdown",
   "source": [
    "## 3. Creación del modelo, entrenamiento y evaluación"
   ],
   "metadata": {
    "collapsed": false,
    "id": "eosd1c1Axw97"
   }
  },
  {
   "cell_type": "code",
   "execution_count": 18,
   "outputs": [
    {
     "name": "stdout",
     "output_type": "stream",
     "text": [
      "Accuracy of K-NN classifier on training set: 1.00\n",
      "Accuracy of K-NN classifier on test set: 1.00\n"
     ]
    },
    {
     "data": {
      "text/plain": "array([[ 1, 12],\n       [ 7,  0]], dtype=int64)"
     },
     "execution_count": 18,
     "metadata": {},
     "output_type": "execute_result"
    }
   ],
   "source": [
    "n_neighbors = 3\n",
    "\n",
    "knn = KNeighborsClassifier(n_neighbors)\n",
    "knn.fit(X_train, y_train)\n",
    "print('Accuracy of K-NN classifier on training set: {:.2f}'\n",
    "      .format(knn.score(X_train, y_train)))\n",
    "print('Accuracy of K-NN classifier on test set: {:.2f}'\n",
    "      .format(knn.score(X_test, y_test)))\n",
    "\n",
    "X_test"
   ],
   "metadata": {
    "id": "ftK-Fb-Oxw98"
   }
  },
  {
   "cell_type": "markdown",
   "source": [],
   "metadata": {
    "collapsed": false,
    "id": "TFPjVs5gxw98"
   }
  },
  {
   "cell_type": "markdown",
   "source": [
    "## 4. Predicción o inferencia"
   ],
   "metadata": {
    "collapsed": false,
    "id": "hCbylP0dxw99"
   }
  },
  {
   "cell_type": "code",
   "execution_count": 19,
   "outputs": [
    {
     "data": {
      "text/plain": "array([2, 1], dtype=int64)"
     },
     "execution_count": 19,
     "metadata": {},
     "output_type": "execute_result"
    }
   ],
   "source": [
    "pred = knn.predict(X_test)\n",
    "pred"
   ],
   "metadata": {
    "id": "imvTAcgIxw99"
   }
  },
  {
   "cell_type": "markdown",
   "source": [
    "## 5. Métricas y matriz de confusión"
   ],
   "metadata": {
    "id": "REe72pRb3pFS"
   }
  },
  {
   "cell_type": "code",
   "source": [
    "print(confusion_matrix(y_test, pred))\n",
    "print(classification_report(y_test, pred))"
   ],
   "metadata": {
    "id": "3LhMIVLn3nTp"
   },
   "execution_count": 20,
   "outputs": [
    {
     "name": "stdout",
     "output_type": "stream",
     "text": [
      "[[1 0]\n",
      " [0 1]]\n",
      "              precision    recall  f1-score   support\n",
      "\n",
      "           1       1.00      1.00      1.00         1\n",
      "           2       1.00      1.00      1.00         1\n",
      "\n",
      "    accuracy                           1.00         2\n",
      "   macro avg       1.00      1.00      1.00         2\n",
      "weighted avg       1.00      1.00      1.00         2\n",
      "\n"
     ]
    }
   ]
  },
  {
   "cell_type": "code",
   "source": [],
   "metadata": {
    "id": "-ptZLm353lNH"
   },
   "execution_count": 20,
   "outputs": []
  },
  {
   "cell_type": "markdown",
   "source": [
    "## 6. Representación gráficá de los resultados"
   ],
   "metadata": {
    "collapsed": false,
    "id": "RYhF8DgPxw99"
   }
  },
  {
   "cell_type": "code",
   "execution_count": 21,
   "outputs": [
    {
     "data": {
      "text/plain": "<Figure size 1600x900 with 1 Axes>",
      "image/png": "[encoded data removed]"
     },
     "metadata": {},
     "output_type": "display_data"
    }
   ],
   "source": [
    "h = .02  # step size in the mesh\n",
    "\n",
    "# Create color maps\n",
    "cmap_light = ListedColormap(['#FFAAAA', '#ffcc99', '#ffffb3','#b3ffff','#c2f0c2'])\n",
    "cmap_bold = ListedColormap(['#FF0000', '#ff9933','#FFFF00','#00ffff','#00FF00'])\n",
    "\n",
    "# we create an instance of Neighbours Classifier and fit the data.\n",
    "clf = KNeighborsClassifier(n_neighbors, weights='distance')\n",
    "clf.fit(X, y)\n",
    "\n",
    "# Plot the decision boundary. For that, we will assign a color to each\n",
    "# point in the mesh [x_min, x_max]x[y_min, y_max].\n",
    "x_min, x_max = X[:, 0].min() - 1, X[:, 0].max() + 1\n",
    "y_min, y_max = X[:, 1].min() - 1, X[:, 1].max() + 1\n",
    "xx, yy = np.meshgrid(np.arange(x_min, x_max, h),\n",
    "                     np.arange(y_min, y_max, h))\n",
    "Z = clf.predict(np.c_[xx.ravel(), yy.ravel()])\n",
    "\n",
    "# Put the result into a color plot\n",
    "Z = Z.reshape(xx.shape)\n",
    "plt.figure()\n",
    "plt.pcolormesh(xx, yy, Z, cmap=cmap_light)\n",
    "\n",
    "# Plot also the training points\n",
    "plt.scatter(X[:, 0], X[:, 1], c=y, cmap=cmap_bold,\n",
    "            edgecolor='k', s=20)\n",
    "plt.xlim(xx.min(), xx.max())\n",
    "plt.ylim(yy.min(), yy.max())\n",
    "\n",
    "patch0 = mpatches.Patch(color='#FF0000', label='1')\n",
    "patch4 = mpatches.Patch(color='#00FF00', label='2')\n",
    "plt.legend(handles=[patch0, patch4])\n",
    "\n",
    "\n",
    "plt.title(\"5-Class classification (k = %i, weights = '%s')\"\n",
    "          % (n_neighbors, 'distance'))\n",
    "\n",
    "plt.show()\n"
   ],
   "metadata": {
    "id": "GrtY5TApxw9-"
   }
  },
  {
   "cell_type": "markdown",
   "source": [
    "## 7. Cálculo del mejor K"
   ],
   "metadata": {
    "collapsed": false,
    "id": "JibE2vg-xw9-"
   }
  },
  {
   "cell_type": "code",
   "execution_count": 22,
   "outputs": [
    {
     "data": {
      "text/plain": "([<matplotlib.axis.XTick at 0x1a4817d3220>,\n  <matplotlib.axis.XTick at 0x1a4817d3100>,\n  <matplotlib.axis.XTick at 0x1a48b779510>,\n  <matplotlib.axis.XTick at 0x1a48d0240a0>,\n  <matplotlib.axis.XTick at 0x1a48d024760>],\n [Text(0, 0, ''),\n  Text(0, 0, ''),\n  Text(0, 0, ''),\n  Text(0, 0, ''),\n  Text(0, 0, '')])"
     },
     "execution_count": 22,
     "metadata": {},
     "output_type": "execute_result"
    },
    {
     "data": {
      "text/plain": "<Figure size 1600x900 with 1 Axes>",
      "image/png": "[encoded data removed]"
     },
     "metadata": {},
     "output_type": "display_data"
    }
   ],
   "source": [
    "k_range = range(1, 4)\n",
    "scores = []\n",
    "for k in k_range:\n",
    "      knn = KNeighborsClassifier(n_neighbors = k)\n",
    "      knn.fit(X_train, y_train)\n",
    "      scores.append(knn.score(X_test, y_test))\n",
    "plt.figure()\n",
    "plt.xlabel('k')\n",
    "plt.ylabel('accuracy')\n",
    "plt.scatter(k_range, scores)\n",
    "plt.xticks([0,5,10,15,20])"
   ],
   "metadata": {
    "id": "0K4eMRw2xw9_",
    "outputId": "08d95ad8-acfb-4b47-a614-e02fe338438c"
   }
  },
  {
   "cell_type": "markdown",
   "source": [
    "## 8. Cálculo de nuevas predicciones"
   ],
   "metadata": {
    "collapsed": false,
    "id": "ZOvZeFyFxw9_"
   }
  },
  {
   "cell_type": "code",
   "execution_count": 23,
   "outputs": [
    {
     "name": "stdout",
     "output_type": "stream",
     "text": [
      "[1]\n"
     ]
    }
   ],
   "source": [
    "print(clf.predict([[5, 3]]))"
   ],
   "metadata": {
    "id": "A5MK-_brxw-A"
   }
  },
  {
   "cell_type": "code",
   "execution_count": 24,
   "outputs": [
    {
     "name": "stdout",
     "output_type": "stream",
     "text": [
      "[[0.72184698 0.27815302]]\n"
     ]
    }
   ],
   "source": [
    "print(clf.predict_proba([[5, 5]]))"
   ],
   "metadata": {
    "id": "2s7T-tsJxw-A"
   }
  },
  {
   "cell_type": "markdown",
   "source": [
    "# Webgrafia\n",
    "\n",
    "[Wikipedia](https://en.wikipedia.org/wiki/K-nearest_neighbors_algorithm)\n",
    "[Libro \"Hands on Machine Learning with ScikitLearn, Keras y TensorFlow\" de Aurelien Geron y su repositorio de ejemplos ](https://github.com/ageron/handson-ml)\n",
    "[Aprende ML de Juan Ignacio Bagnato](https://www.aprendemachinelearning.com/clasificar-con-k-nearest-neighbor-ejemplo-en-python/)\n",
    "[Curso de Tirtjakupto Sarkar](https://github.com/tirthajyoti/Machine-Learning-with-Python)\n",
    "[DataCamp](https://www.datacamp.com/)\n"
   ],
   "metadata": {
    "collapsed": false,
    "id": "ZfMow390xw-B"
   }
  },
  {
   "cell_type": "markdown",
   "source": [
    "# Licencia\n",
    "\n",
    "[Attributon-ShacerAlike 4.0 International](https://creativecommons.org/licenses/by-sa/4.0/)\n",
    "\n",
    "Puedes utilizar libremente este material, con las siguientes condiciones:\n",
    "\n",
    "* Atribuir la autoría a este documento.\n",
    "* Si lo utilizas y haces cambios, deberás liberarlo también bajo la misma licencia."
   ],
   "metadata": {
    "collapsed": false,
    "id": "q2zZwy1Ixw-B"
   }
  }
 ],
 "metadata": {
  "kernelspec": {
   "name": "python3",
   "language": "python",
   "display_name": "Python 3"
  },
  "language_info": {
   "codemirror_mode": {
    "name": "ipython",
    "version": 3
   },
   "file_extension": ".py",
   "mimetype": "text/x-python",
   "name": "python",
   "nbconvert_exporter": "python",
   "pygments_lexer": "ipython3",
   "version": "3.7.3"
  },
  "colab": {
   "name": "Supervised-KNN-Classification.ipynb",
   "provenance": [],
   "collapsed_sections": []
  }
 },
 "nbformat": 4,
 "nbformat_minor": 0
}
